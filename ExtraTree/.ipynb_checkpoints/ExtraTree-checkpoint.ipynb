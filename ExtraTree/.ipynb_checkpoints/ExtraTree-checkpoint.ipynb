{
 "cells": [
  {
   "cell_type": "code",
   "execution_count": 12,
   "metadata": {},
   "outputs": [],
   "source": [
    "import pandas as pd\n",
    "import numpy as np\n",
    "import matplotlib.pyplot as plt\n",
    "from sklearn.metrics import confusion_matrix\n",
    "from sklearn.metrics import accuracy_score\n",
    "from sklearn.metrics import roc_auc_score\n",
    "from sklearn.metrics import f1_score\n",
    "from sklearn.metrics import recall_score\n",
    "from sklearn.metrics import precision_score\n",
    "import warnings\n",
    "warnings.filterwarnings(\"ignore\")\n",
    "import random\n",
    "import time\n",
    "from sklearn.ensemble import ExtraTreesClassifier\n",
    "from sklearn.model_selection import train_test_split\n",
    "\n",
    "np.random.seed(123)"
   ]
  },
  {
   "cell_type": "code",
   "execution_count": 13,
   "metadata": {},
   "outputs": [
    {
     "data": {
      "text/html": [
       "<div>\n",
       "<style scoped>\n",
       "    .dataframe tbody tr th:only-of-type {\n",
       "        vertical-align: middle;\n",
       "    }\n",
       "\n",
       "    .dataframe tbody tr th {\n",
       "        vertical-align: top;\n",
       "    }\n",
       "\n",
       "    .dataframe thead th {\n",
       "        text-align: right;\n",
       "    }\n",
       "</style>\n",
       "<table border=\"1\" class=\"dataframe\">\n",
       "  <thead>\n",
       "    <tr style=\"text-align: right;\">\n",
       "      <th></th>\n",
       "      <th>Pregnancies</th>\n",
       "      <th>Glucose</th>\n",
       "      <th>BloodPressure</th>\n",
       "      <th>SkinThickness</th>\n",
       "      <th>Insulin</th>\n",
       "      <th>BMI</th>\n",
       "      <th>DiabetesPedigreeFunction</th>\n",
       "      <th>Age</th>\n",
       "      <th>Outcome</th>\n",
       "    </tr>\n",
       "  </thead>\n",
       "  <tbody>\n",
       "    <tr>\n",
       "      <th>0</th>\n",
       "      <td>6</td>\n",
       "      <td>148</td>\n",
       "      <td>72</td>\n",
       "      <td>35</td>\n",
       "      <td>0</td>\n",
       "      <td>33.6</td>\n",
       "      <td>0.627</td>\n",
       "      <td>50</td>\n",
       "      <td>1</td>\n",
       "    </tr>\n",
       "    <tr>\n",
       "      <th>1</th>\n",
       "      <td>1</td>\n",
       "      <td>85</td>\n",
       "      <td>66</td>\n",
       "      <td>29</td>\n",
       "      <td>0</td>\n",
       "      <td>26.6</td>\n",
       "      <td>0.351</td>\n",
       "      <td>31</td>\n",
       "      <td>0</td>\n",
       "    </tr>\n",
       "    <tr>\n",
       "      <th>2</th>\n",
       "      <td>8</td>\n",
       "      <td>183</td>\n",
       "      <td>64</td>\n",
       "      <td>0</td>\n",
       "      <td>0</td>\n",
       "      <td>23.3</td>\n",
       "      <td>0.672</td>\n",
       "      <td>32</td>\n",
       "      <td>1</td>\n",
       "    </tr>\n",
       "    <tr>\n",
       "      <th>3</th>\n",
       "      <td>1</td>\n",
       "      <td>89</td>\n",
       "      <td>66</td>\n",
       "      <td>23</td>\n",
       "      <td>94</td>\n",
       "      <td>28.1</td>\n",
       "      <td>0.167</td>\n",
       "      <td>21</td>\n",
       "      <td>0</td>\n",
       "    </tr>\n",
       "    <tr>\n",
       "      <th>4</th>\n",
       "      <td>0</td>\n",
       "      <td>137</td>\n",
       "      <td>40</td>\n",
       "      <td>35</td>\n",
       "      <td>168</td>\n",
       "      <td>43.1</td>\n",
       "      <td>2.288</td>\n",
       "      <td>33</td>\n",
       "      <td>1</td>\n",
       "    </tr>\n",
       "  </tbody>\n",
       "</table>\n",
       "</div>"
      ],
      "text/plain": [
       "   Pregnancies  Glucose  BloodPressure  SkinThickness  Insulin   BMI  \\\n",
       "0            6      148             72             35        0  33.6   \n",
       "1            1       85             66             29        0  26.6   \n",
       "2            8      183             64              0        0  23.3   \n",
       "3            1       89             66             23       94  28.1   \n",
       "4            0      137             40             35      168  43.1   \n",
       "\n",
       "   DiabetesPedigreeFunction  Age  Outcome  \n",
       "0                     0.627   50        1  \n",
       "1                     0.351   31        0  \n",
       "2                     0.672   32        1  \n",
       "3                     0.167   21        0  \n",
       "4                     2.288   33        1  "
      ]
     },
     "execution_count": 13,
     "metadata": {},
     "output_type": "execute_result"
    }
   ],
   "source": [
    "df = pd.read_csv(\"diabetes.csv\")\n",
    "df.head(5)"
   ]
  },
  {
   "cell_type": "code",
   "execution_count": 14,
   "metadata": {},
   "outputs": [
    {
     "data": {
      "text/plain": [
       "['Pregnancies',\n",
       " 'Glucose',\n",
       " 'BloodPressure',\n",
       " 'SkinThickness',\n",
       " 'Insulin',\n",
       " 'BMI',\n",
       " 'DiabetesPedigreeFunction',\n",
       " 'Age']"
      ]
     },
     "execution_count": 14,
     "metadata": {},
     "output_type": "execute_result"
    }
   ],
   "source": [
    "df.dropna(inplace=True)\n",
    "target  = np.array(df[\"Outcome\"])\n",
    "df = df.drop(\"Outcome\", axis=1)\n",
    "df_list = list(df.columns)\n",
    "df_list"
   ]
  },
  {
   "cell_type": "code",
   "execution_count": 15,
   "metadata": {},
   "outputs": [
    {
     "data": {
      "text/plain": [
       "(768, 8)"
      ]
     },
     "execution_count": 15,
     "metadata": {},
     "output_type": "execute_result"
    }
   ],
   "source": [
    "train_x, test_x, train_y, test_y = train_test_split(df, target, test_size=0.2, random_state=42)\n",
    "df.shape"
   ]
  },
  {
   "cell_type": "code",
   "execution_count": 16,
   "metadata": {},
   "outputs": [
    {
     "data": {
      "text/plain": [
       "'\\n[[70 29]\\n [19 36]]\\nAccuracy: 0.6883116883116883\\nAuc Score: 0.6808080808080808\\nRecall: 0.6545454545454545\\nPrecission: 0.5538461538461539\\nF1 Score: 0.6000000000000001\\n'"
      ]
     },
     "execution_count": 16,
     "metadata": {},
     "output_type": "execute_result"
    }
   ],
   "source": [
    "# Old Performances\n",
    "\n",
    "# Bagging Performance\n",
    "\"\"\"[[131  15]\n",
    " [ 36  49]]\n",
    "Accuracy: 0.7792207792207793\n",
    "Auc Score Prob 0.8764705882352941\n",
    "Recall: 0.5764705882352941\n",
    "Precission: 0.765625\n",
    "F1 Score: 0.6577181208053692\n",
    "\"\"\"\n",
    "\n",
    "\n",
    "# RandomForest Performance\n",
    "\"\"\"[[130  16]\n",
    " [ 34  51]]\n",
    "Accuracy: 0.7835497835497836\n",
    "Auc Score: 0.7452054794520548\n",
    "Auc Score Prob: 0.8638195004029009\n",
    "Recall 0.6\n",
    "Precission: 0.7611940298507462\n",
    "F1 Score: 0.6710526315789473\n",
    "\"\"\"\n",
    "\n",
    "\n",
    "# XgBoost Performance\n",
    "\"\"\"\n",
    "[[70 29]\n",
    " [19 36]]\n",
    "Accuracy: 0.6883116883116883\n",
    "Auc Score: 0.6808080808080808\n",
    "Recall: 0.6545454545454545\n",
    "Precission: 0.5538461538461539\n",
    "F1 Score: 0.6000000000000001\n",
    "\"\"\""
   ]
  },
  {
   "cell_type": "code",
   "execution_count": 19,
   "metadata": {},
   "outputs": [
    {
     "name": "stdout",
     "output_type": "stream",
     "text": [
      "[[82 17]\n",
      " [19 36]]\n",
      "Accuracy: 0.7662337662337663\n",
      "Auc Score: 0.7414141414141414\n",
      "Auc Score Prob: 0.8103764921946741\n",
      "Recall: 0.6545454545454545\n",
      "Precission: 0.6792452830188679\n",
      "F1 Score: 0.6666666666666666\n",
      "                          importance\n",
      "Glucose                     0.271036\n",
      "Age                         0.153929\n",
      "BMI                         0.138175\n",
      "DiabetesPedigreeFunction    0.102246\n",
      "Pregnancies                 0.096499\n",
      "BloodPressure               0.093623\n",
      "Insulin                     0.072704\n",
      "SkinThickness               0.071787\n"
     ]
    }
   ],
   "source": [
    "ext = ExtraTreesClassifier(n_estimators=100, max_features=5)\n",
    "ext = ext.fit(train_x, train_y)\n",
    "pred = ext.predict(test_x)\n",
    "pred_prob = ext.predict_proba(test_x)[:,1]\n",
    "print(confusion_matrix(test_y, pred))\n",
    "print(\"Accuracy:\", accuracy_score(test_y, pred))\n",
    "print(\"Auc Score:\", roc_auc_score(test_y, pred))\n",
    "print(\"Auc Score Prob:\", roc_auc_score(test_y, pred_prob))\n",
    "print(\"Recall:\", recall_score(test_y, pred))\n",
    "print(\"Precission:\", precision_score(test_y, pred))\n",
    "print(\"F1 Score:\", f1_score(test_y, pred))\n",
    "feature_imp = pd.DataFrame(ext.feature_importances_, index=train_x.columns, \n",
    "                           columns=[\"importance\"]).sort_values(\"importance\", ascending=False)\n",
    "print(feature_imp)"
   ]
  },
  {
   "cell_type": "code",
   "execution_count": null,
   "metadata": {},
   "outputs": [],
   "source": [
    "# Comments\n",
    "# I thought Extra Tree would give poor performance because of random splitting, but that didn't happen.\n",
    "# Many mistakes are made within the model. But mistakes fade each other. I got a good result"
   ]
  }
 ],
 "metadata": {
  "kernelspec": {
   "display_name": "Python 3",
   "language": "python",
   "name": "python3"
  },
  "language_info": {
   "codemirror_mode": {
    "name": "ipython",
    "version": 3
   },
   "file_extension": ".py",
   "mimetype": "text/x-python",
   "name": "python",
   "nbconvert_exporter": "python",
   "pygments_lexer": "ipython3",
   "version": "3.8.5"
  }
 },
 "nbformat": 4,
 "nbformat_minor": 4
}
