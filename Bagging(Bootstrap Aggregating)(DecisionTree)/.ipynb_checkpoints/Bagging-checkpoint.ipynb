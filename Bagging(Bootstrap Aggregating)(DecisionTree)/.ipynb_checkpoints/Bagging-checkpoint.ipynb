{
 "cells": [
  {
   "cell_type": "code",
   "execution_count": 26,
   "metadata": {},
   "outputs": [],
   "source": [
    "import pandas as pd\n",
    "import numpy as np\n",
    "from sklearn import metrics\n",
    "import matplotlib.pyplot as plt\n",
    "from sklearn.model_selection import train_test_split\n",
    "import seaborn\n",
    "from sklearn.tree import DecisionTreeClassifier\n",
    "from sklearn.metrics import accuracy_score\n",
    "from sklearn.metrics import confusion_matrix\n",
    "from sklearn.metrics import recall_score\n",
    "from sklearn.metrics import f1_score\n",
    "from sklearn.metrics import precision_score\n",
    "from sklearn.metrics import roc_auc_score\n",
    "from sklearn.ensemble import BaggingClassifier\n",
    "from sklearn import tree"
   ]
  },
  {
   "cell_type": "code",
   "execution_count": 27,
   "metadata": {},
   "outputs": [
    {
     "data": {
      "text/plain": [
       "Index(['Pregnancies', 'Glucose', 'BloodPressure', 'SkinThickness', 'Insulin',\n",
       "       'BMI', 'DiabetesPedigreeFunction', 'Age', 'Outcome'],\n",
       "      dtype='object')"
      ]
     },
     "execution_count": 27,
     "metadata": {},
     "output_type": "execute_result"
    }
   ],
   "source": [
    "data = pd.read_csv(\"diabetes.csv\")\n",
    "data.columns"
   ]
  },
  {
   "cell_type": "code",
   "execution_count": 28,
   "metadata": {},
   "outputs": [],
   "source": [
    "feature_cols = ['Pregnancies', 'Insulin', 'BMI', 'Age','Glucose','BloodPressure','DiabetesPedigreeFunction']\n",
    "x = data[feature_cols]\n",
    "y = data.Outcome"
   ]
  },
  {
   "cell_type": "code",
   "execution_count": 29,
   "metadata": {},
   "outputs": [
    {
     "data": {
      "text/html": [
       "<div>\n",
       "<style scoped>\n",
       "    .dataframe tbody tr th:only-of-type {\n",
       "        vertical-align: middle;\n",
       "    }\n",
       "\n",
       "    .dataframe tbody tr th {\n",
       "        vertical-align: top;\n",
       "    }\n",
       "\n",
       "    .dataframe thead th {\n",
       "        text-align: right;\n",
       "    }\n",
       "</style>\n",
       "<table border=\"1\" class=\"dataframe\">\n",
       "  <thead>\n",
       "    <tr style=\"text-align: right;\">\n",
       "      <th></th>\n",
       "      <th>Pregnancies</th>\n",
       "      <th>Insulin</th>\n",
       "      <th>BMI</th>\n",
       "      <th>Age</th>\n",
       "      <th>Glucose</th>\n",
       "      <th>BloodPressure</th>\n",
       "      <th>DiabetesPedigreeFunction</th>\n",
       "    </tr>\n",
       "  </thead>\n",
       "  <tbody>\n",
       "    <tr>\n",
       "      <th>88</th>\n",
       "      <td>15</td>\n",
       "      <td>110</td>\n",
       "      <td>37.1</td>\n",
       "      <td>43</td>\n",
       "      <td>136</td>\n",
       "      <td>70</td>\n",
       "      <td>0.153</td>\n",
       "    </tr>\n",
       "    <tr>\n",
       "      <th>467</th>\n",
       "      <td>0</td>\n",
       "      <td>100</td>\n",
       "      <td>36.8</td>\n",
       "      <td>25</td>\n",
       "      <td>97</td>\n",
       "      <td>64</td>\n",
       "      <td>0.600</td>\n",
       "    </tr>\n",
       "    <tr>\n",
       "      <th>550</th>\n",
       "      <td>1</td>\n",
       "      <td>0</td>\n",
       "      <td>27.4</td>\n",
       "      <td>21</td>\n",
       "      <td>116</td>\n",
       "      <td>70</td>\n",
       "      <td>0.204</td>\n",
       "    </tr>\n",
       "    <tr>\n",
       "      <th>147</th>\n",
       "      <td>2</td>\n",
       "      <td>119</td>\n",
       "      <td>30.5</td>\n",
       "      <td>34</td>\n",
       "      <td>106</td>\n",
       "      <td>64</td>\n",
       "      <td>1.400</td>\n",
       "    </tr>\n",
       "    <tr>\n",
       "      <th>481</th>\n",
       "      <td>0</td>\n",
       "      <td>0</td>\n",
       "      <td>35.2</td>\n",
       "      <td>29</td>\n",
       "      <td>123</td>\n",
       "      <td>88</td>\n",
       "      <td>0.197</td>\n",
       "    </tr>\n",
       "  </tbody>\n",
       "</table>\n",
       "</div>"
      ],
      "text/plain": [
       "     Pregnancies  Insulin   BMI  Age  Glucose  BloodPressure  \\\n",
       "88            15      110  37.1   43      136             70   \n",
       "467            0      100  36.8   25       97             64   \n",
       "550            1        0  27.4   21      116             70   \n",
       "147            2      119  30.5   34      106             64   \n",
       "481            0        0  35.2   29      123             88   \n",
       "\n",
       "     DiabetesPedigreeFunction  \n",
       "88                      0.153  \n",
       "467                     0.600  \n",
       "550                     0.204  \n",
       "147                     1.400  \n",
       "481                     0.197  "
      ]
     },
     "execution_count": 29,
     "metadata": {},
     "output_type": "execute_result"
    }
   ],
   "source": [
    "# Split\n",
    "x_train, x_test, y_train, y_test = train_test_split(x, y, test_size=0.3, random_state=1)\n",
    "x_train.head()"
   ]
  },
  {
   "cell_type": "code",
   "execution_count": 30,
   "metadata": {},
   "outputs": [
    {
     "name": "stdout",
     "output_type": "stream",
     "text": [
      "[[112  34]\n",
      " [ 40  45]]\n",
      "Accuracy: 0.6796536796536796\n",
      "Auc Score Prob 0.6482675261885575\n",
      "Recall: 0.5294117647058824\n",
      "Precission: 0.569620253164557\n",
      "F1 Score: 0.5487804878048781\n",
      "                          Importance\n",
      "Glucose                     0.321662\n",
      "BMI                         0.209405\n",
      "DiabetesPedigreeFunction    0.135865\n",
      "BloodPressure               0.133061\n",
      "Age                         0.101435\n",
      "Pregnancies                 0.052589\n",
      "Insulin                     0.045983\n"
     ]
    }
   ],
   "source": [
    "clsfr = DecisionTreeClassifier()\n",
    "clsfr.fit(x_train, y_train)\n",
    "\n",
    "# Predict\n",
    "pred = clsfr.predict(x_test)\n",
    "pred_prob = clsfr.predict_proba(x_test)[:,1]\n",
    "\n",
    "# Metrics\n",
    "print(confusion_matrix(y_test, pred))\n",
    "print(\"Accuracy:\", accuracy_score(y_test, pred))\n",
    "print(\"Auc Score Prob\", roc_auc_score(y_test, pred_prob))\n",
    "print(\"Recall:\", recall_score(y_test, pred))\n",
    "print(\"Precission:\", precision_score(y_test, pred))\n",
    "print(\"F1 Score:\", f1_score(y_test, pred))\n",
    "\n",
    "# Important Features\n",
    "features_imp = pd.DataFrame(clsfr.feature_importances_, index=x_train.columns, columns=[\"Importance\"], \n",
    "                           ).sort_values(\"Importance\", ascending=False)\n",
    "print(features_imp)"
   ]
  },
  {
   "cell_type": "code",
   "execution_count": 31,
   "metadata": {},
   "outputs": [
    {
     "name": "stdout",
     "output_type": "stream",
     "text": [
      "[[127  19]\n",
      " [ 30  55]]\n",
      "Accuracy: 0.7878787878787878\n",
      "Auc Score Prob 0.8624093473005641\n",
      "Recall: 0.6470588235294118\n",
      "Precission: 0.7432432432432432\n",
      "F1 Score: 0.6918238993710691\n",
      "                          Importance\n",
      "Glucose                     0.308644\n",
      "BMI                         0.202219\n",
      "DiabetesPedigreeFunction    0.137684\n",
      "Age                         0.130382\n",
      "BloodPressure               0.094963\n",
      "Pregnancies                 0.071597\n",
      "Insulin                     0.054510\n"
     ]
    }
   ],
   "source": [
    "# Model\n",
    "bag = BaggingClassifier(base_estimator=clsfr, n_estimators=100, random_state=42)\n",
    "bag = bag.fit(x_train, y_train)\n",
    "\n",
    "# Predict\n",
    "pred = bag.predict(x_test)\n",
    "pred_prob = bag.predict_proba(x_test)[:,1]\n",
    "\n",
    "# Metrics\n",
    "print(confusion_matrix(y_test, pred))\n",
    "print(\"Accuracy:\", accuracy_score(y_test, pred))\n",
    "print(\"Auc Score Prob\", roc_auc_score(y_test, pred_prob))\n",
    "print(\"Recall:\", recall_score(y_test, pred))\n",
    "print(\"Precission:\", precision_score(y_test, pred))\n",
    "print(\"F1 Score:\", f1_score(y_test, pred))\n",
    "\n",
    "# Important Features\n",
    "featimp = np.mean([tree.feature_importances_ for tree in bag.estimators_], axis=0)\n",
    "features_imp = pd.DataFrame(featimp, index=x_train.columns, columns=[\"Importance\"]).sort_values(\"Importance\", \n",
    "                                                                                               ascending=False)\n",
    "\n",
    "print(features_imp)"
   ]
  },
  {
   "cell_type": "code",
   "execution_count": 34,
   "metadata": {},
   "outputs": [
    {
     "name": "stdout",
     "output_type": "stream",
     "text": [
      "[[124  22]\n",
      " [ 31  54]]\n",
      "Accuracy: 0.7705627705627706\n",
      "Auc Score Prob 0.84709911361805\n",
      "Recall: 0.6352941176470588\n",
      "Precission: 0.7105263157894737\n",
      "F1 Score: 0.6708074534161491\n",
      "                          Importance\n",
      "Glucose                     0.562837\n",
      "BMI                         0.326594\n",
      "Age                         0.110569\n",
      "Pregnancies                 0.000000\n",
      "Insulin                     0.000000\n",
      "BloodPressure               0.000000\n",
      "DiabetesPedigreeFunction    0.000000\n"
     ]
    }
   ],
   "source": [
    "clsfr2 = DecisionTreeClassifier(criterion=\"entropy\", max_depth=3)\n",
    "clsfr2.fit(x_train, y_train)\n",
    "\n",
    "# Predict\n",
    "pred = clsfr2.predict(x_test)\n",
    "pred_prob = clsfr2.predict_proba(x_test)[:,1]\n",
    "\n",
    "# Metrics\n",
    "print(confusion_matrix(y_test, pred))\n",
    "print(\"Accuracy:\", accuracy_score(y_test, pred))\n",
    "print(\"Auc Score Prob\", roc_auc_score(y_test, pred_prob))\n",
    "print(\"Recall:\", recall_score(y_test, pred))\n",
    "print(\"Precission:\", precision_score(y_test, pred))\n",
    "print(\"F1 Score:\", f1_score(y_test, pred))\n",
    "\n",
    "# Important Features\n",
    "features_imp = pd.DataFrame(clsfr2.feature_importances_, index=x_train.columns, columns=[\"Importance\"], \n",
    "                           ).sort_values(\"Importance\", ascending=False)\n",
    "print(features_imp)"
   ]
  },
  {
   "cell_type": "code",
   "execution_count": 35,
   "metadata": {},
   "outputs": [
    {
     "name": "stdout",
     "output_type": "stream",
     "text": [
      "[[131  15]\n",
      " [ 36  49]]\n",
      "Accuracy: 0.7792207792207793\n",
      "Auc Score Prob 0.8764705882352941\n",
      "Recall: 0.5764705882352941\n",
      "Precission: 0.765625\n",
      "F1 Score: 0.6577181208053692\n",
      "                          Importance\n",
      "Glucose                     0.526292\n",
      "BMI                         0.264483\n",
      "Age                         0.107289\n",
      "DiabetesPedigreeFunction    0.049213\n",
      "Pregnancies                 0.026514\n",
      "BloodPressure               0.016478\n",
      "Insulin                     0.009731\n"
     ]
    }
   ],
   "source": [
    "# Model\n",
    "bag = BaggingClassifier(base_estimator=clsfr2, n_estimators=100, random_state=42)\n",
    "bag = bag.fit(x_train, y_train)\n",
    "\n",
    "# Predict\n",
    "pred = bag.predict(x_test)\n",
    "pred_prob = bag.predict_proba(x_test)[:,1]\n",
    "\n",
    "# Metrics\n",
    "print(confusion_matrix(y_test, pred))\n",
    "print(\"Accuracy:\", accuracy_score(y_test, pred))\n",
    "print(\"Auc Score Prob\", roc_auc_score(y_test, pred_prob))\n",
    "print(\"Recall:\", recall_score(y_test, pred))\n",
    "print(\"Precission:\", precision_score(y_test, pred))\n",
    "print(\"F1 Score:\", f1_score(y_test, pred))\n",
    "\n",
    "# Important Features\n",
    "featimp = np.mean([tree.feature_importances_ for tree in bag.estimators_], axis=0)\n",
    "features_imp = pd.DataFrame(featimp, index=x_train.columns, columns=[\"Importance\"]).sort_values(\"Importance\", \n",
    "                                                                                               ascending=False)\n",
    "\n",
    "print(features_imp)"
   ]
  }
 ],
 "metadata": {
  "kernelspec": {
   "display_name": "Python 3",
   "language": "python",
   "name": "python3"
  },
  "language_info": {
   "codemirror_mode": {
    "name": "ipython",
    "version": 3
   },
   "file_extension": ".py",
   "mimetype": "text/x-python",
   "name": "python",
   "nbconvert_exporter": "python",
   "pygments_lexer": "ipython3",
   "version": "3.8.5"
  }
 },
 "nbformat": 4,
 "nbformat_minor": 4
}
