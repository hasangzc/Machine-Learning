{
 "cells": [
  {
   "cell_type": "code",
   "execution_count": 41,
   "metadata": {},
   "outputs": [],
   "source": [
    "import pandas as pd\n",
    "import numpy as np\n",
    "import math\n",
    "from sklearn import metrics\n",
    "import statsmodels.api as sm\n",
    "from statsmodels.formula.api import ols\n",
    "import matplotlib.pyplot as plt\n",
    "import seaborn as sns\n",
    "import random\n",
    "import time\n",
    "from sklearn.model_selection import train_test_split\n",
    "from statsmodels.stats.outliers_influence import variance_inflation_factor"
   ]
  },
  {
   "cell_type": "code",
   "execution_count": 42,
   "metadata": {},
   "outputs": [
    {
     "data": {
      "text/html": [
       "<div>\n",
       "<style scoped>\n",
       "    .dataframe tbody tr th:only-of-type {\n",
       "        vertical-align: middle;\n",
       "    }\n",
       "\n",
       "    .dataframe tbody tr th {\n",
       "        vertical-align: top;\n",
       "    }\n",
       "\n",
       "    .dataframe thead th {\n",
       "        text-align: right;\n",
       "    }\n",
       "</style>\n",
       "<table border=\"1\" class=\"dataframe\">\n",
       "  <thead>\n",
       "    <tr style=\"text-align: right;\">\n",
       "      <th></th>\n",
       "      <th>Cement</th>\n",
       "      <th>Blast</th>\n",
       "      <th>Fly Ash</th>\n",
       "      <th>Water</th>\n",
       "      <th>Superplasticizer</th>\n",
       "      <th>CA</th>\n",
       "      <th>FA</th>\n",
       "      <th>Age</th>\n",
       "      <th>CMS</th>\n",
       "    </tr>\n",
       "  </thead>\n",
       "  <tbody>\n",
       "    <tr>\n",
       "      <th>0</th>\n",
       "      <td>540.0</td>\n",
       "      <td>0.0</td>\n",
       "      <td>0.0</td>\n",
       "      <td>162.0</td>\n",
       "      <td>2.5</td>\n",
       "      <td>1040.0</td>\n",
       "      <td>676.0</td>\n",
       "      <td>28</td>\n",
       "      <td>79.99</td>\n",
       "    </tr>\n",
       "    <tr>\n",
       "      <th>1</th>\n",
       "      <td>540.0</td>\n",
       "      <td>0.0</td>\n",
       "      <td>0.0</td>\n",
       "      <td>162.0</td>\n",
       "      <td>2.5</td>\n",
       "      <td>1055.0</td>\n",
       "      <td>676.0</td>\n",
       "      <td>28</td>\n",
       "      <td>61.89</td>\n",
       "    </tr>\n",
       "    <tr>\n",
       "      <th>2</th>\n",
       "      <td>332.5</td>\n",
       "      <td>142.5</td>\n",
       "      <td>0.0</td>\n",
       "      <td>228.0</td>\n",
       "      <td>0.0</td>\n",
       "      <td>932.0</td>\n",
       "      <td>594.0</td>\n",
       "      <td>270</td>\n",
       "      <td>40.27</td>\n",
       "    </tr>\n",
       "    <tr>\n",
       "      <th>3</th>\n",
       "      <td>332.5</td>\n",
       "      <td>142.5</td>\n",
       "      <td>0.0</td>\n",
       "      <td>228.0</td>\n",
       "      <td>0.0</td>\n",
       "      <td>932.0</td>\n",
       "      <td>594.0</td>\n",
       "      <td>365</td>\n",
       "      <td>41.05</td>\n",
       "    </tr>\n",
       "    <tr>\n",
       "      <th>4</th>\n",
       "      <td>198.6</td>\n",
       "      <td>132.4</td>\n",
       "      <td>0.0</td>\n",
       "      <td>192.0</td>\n",
       "      <td>0.0</td>\n",
       "      <td>978.4</td>\n",
       "      <td>825.5</td>\n",
       "      <td>360</td>\n",
       "      <td>44.30</td>\n",
       "    </tr>\n",
       "  </tbody>\n",
       "</table>\n",
       "</div>"
      ],
      "text/plain": [
       "   Cement  Blast  Fly Ash  Water  Superplasticizer      CA     FA  Age    CMS\n",
       "0   540.0    0.0      0.0  162.0               2.5  1040.0  676.0   28  79.99\n",
       "1   540.0    0.0      0.0  162.0               2.5  1055.0  676.0   28  61.89\n",
       "2   332.5  142.5      0.0  228.0               0.0   932.0  594.0  270  40.27\n",
       "3   332.5  142.5      0.0  228.0               0.0   932.0  594.0  365  41.05\n",
       "4   198.6  132.4      0.0  192.0               0.0   978.4  825.5  360  44.30"
      ]
     },
     "execution_count": 42,
     "metadata": {},
     "output_type": "execute_result"
    }
   ],
   "source": [
    "data = pd.read_csv(\"Concrete_Data.csv\")\n",
    "data.head()"
   ]
  },
  {
   "cell_type": "code",
   "execution_count": 43,
   "metadata": {},
   "outputs": [
    {
     "name": "stdout",
     "output_type": "stream",
     "text": [
      "                            OLS Regression Results                            \n",
      "==============================================================================\n",
      "Dep. Variable:                    CMS   R-squared:                       0.613\n",
      "Model:                            OLS   Adj. R-squared:                  0.609\n",
      "Method:                 Least Squares   F-statistic:                     161.0\n",
      "Date:                Thu, 28 Jan 2021   Prob (F-statistic):          4.37e-162\n",
      "Time:                        23:29:29   Log-Likelihood:                -3090.4\n",
      "No. Observations:                 824   AIC:                             6199.\n",
      "Df Residuals:                     815   BIC:                             6241.\n",
      "Df Model:                           8                                         \n",
      "Covariance Type:            nonrobust                                         \n",
      "====================================================================================\n",
      "                       coef    std err          t      P>|t|      [0.025      0.975]\n",
      "------------------------------------------------------------------------------------\n",
      "const              -34.2735     29.931     -1.145      0.253     -93.025      24.478\n",
      "Cement               0.1242      0.010     13.054      0.000       0.105       0.143\n",
      "Blast                0.1037      0.011      9.229      0.000       0.082       0.126\n",
      "Fly Ash              0.0934      0.014      6.687      0.000       0.066       0.121\n",
      "Water               -0.1343      0.046     -2.947      0.003      -0.224      -0.045\n",
      "Superplasticizer     0.2880      0.102      2.810      0.005       0.087       0.489\n",
      "CA                   0.0207      0.011      1.966      0.050    2.79e-05       0.041\n",
      "FA                   0.0256      0.012      2.131      0.033       0.002       0.049\n",
      "Age                  0.1146      0.006     19.064      0.000       0.103       0.126\n",
      "==============================================================================\n",
      "Omnibus:                        3.757   Durbin-Watson:                   2.033\n",
      "Prob(Omnibus):                  0.153   Jarque-Bera (JB):                3.762\n",
      "Skew:                          -0.165   Prob(JB):                        0.152\n",
      "Kurtosis:                       2.974   Cond. No.                     1.07e+05\n",
      "==============================================================================\n",
      "\n",
      "Notes:\n",
      "[1] Standard Errors assume that the covariance matrix of the errors is correctly specified.\n",
      "[2] The condition number is large, 1.07e+05. This might indicate that there are\n",
      "strong multicollinearity or other numerical problems.\n"
     ]
    }
   ],
   "source": [
    "x  = data.iloc[:, 0:8]\n",
    "y  = data.iloc[:, 8:]\n",
    "x_train, x_test, y_train, y_test = train_test_split(x, y, test_size=0.2, random_state=100)\n",
    "\n",
    "X_train = sm.add_constant(x_train)\n",
    "X_test = sm.add_constant(x_test)\n",
    "\n",
    "m = sm.OLS(y_train, X_train).fit()\n",
    "print(m.summary())\n",
    "y_predict = m.predict(X_test)"
   ]
  },
  {
   "cell_type": "code",
   "execution_count": 44,
   "metadata": {},
   "outputs": [
    {
     "name": "stdout",
     "output_type": "stream",
     "text": [
      "   Cement  Blast  Fly Ash  Water  Superplasticizer      CA     FA    Age  Student Residuals\n",
      "0   540.0    0.0      0.0  162.0               2.5  1040.0  676.0   28.0           1.559672\n",
      "1   540.0    0.0      0.0  162.0               2.5  1055.0  676.0   28.0          -0.917354\n",
      "2   332.5  142.5      0.0  228.0               0.0   932.0  594.0  270.0           1.057443\n",
      "3   332.5  142.5      0.0  228.0               0.0   932.0  594.0  365.0           0.637504\n",
      "4   198.6  132.4      0.0  192.0               0.0   978.4  825.5  360.0          -1.170290\n"
     ]
    },
    {
     "name": "stderr",
     "output_type": "stream",
     "text": [
      "/home/hasan/code/jupyterenvironment/lib/python3.8/site-packages/pandas/core/frame.py:4167: SettingWithCopyWarning: \n",
      "A value is trying to be set on a copy of a slice from a DataFrame\n",
      "\n",
      "See the caveats in the documentation: https://pandas.pydata.org/pandas-docs/stable/user_guide/indexing.html#returning-a-view-versus-a-copy\n",
      "  return super().drop(\n"
     ]
    }
   ],
   "source": [
    "# Detect Outliers\n",
    "influence = m.get_influence()\n",
    "resid_student = influence.resid_studentized_external\n",
    "resid = pd.concat([x_train, pd.Series(resid_student, name=\"Student Residuals\")], axis=1)\n",
    "print(resid.head())\n",
    "\n",
    "resid.loc[np.absolute(resid[\"Student Residuals\"]) > 3,:]\n",
    "\n",
    "index = resid.loc[np.absolute(resid[\"Student Residuals\"]) > 3, :].index\n",
    "index\n",
    "\n",
    "y_train.drop(index, axis=0, inplace=True) # When inplace=True is passed, the data is renamed in place (it returns nothing)\n",
    "x_train.drop(index, axis=0, inplace=True)\n",
    "X_train.drop(index, axis=0, inplace=True)\n"
   ]
  },
  {
   "cell_type": "code",
   "execution_count": 45,
   "metadata": {},
   "outputs": [
    {
     "data": {
      "text/plain": [
       "8"
      ]
     },
     "execution_count": 45,
     "metadata": {},
     "output_type": "execute_result"
    }
   ],
   "source": [
    "x_train.shape\n",
    "x_train.shape[1]"
   ]
  },
  {
   "cell_type": "code",
   "execution_count": 46,
   "metadata": {},
   "outputs": [
    {
     "name": "stdout",
     "output_type": "stream",
     "text": [
      "15.47758260195686\n",
      "3.2696650121931814\n",
      "4.129325501299342\n",
      "82.21008475163109\n",
      "5.21853674386234\n",
      "85.86694548901554\n",
      "71.81633694293068\n",
      "1.686160096846766\n"
     ]
    },
    {
     "data": {
      "text/plain": [
       "[None, None, None, None, None, None, None, None]"
      ]
     },
     "execution_count": 46,
     "metadata": {},
     "output_type": "execute_result"
    }
   ],
   "source": [
    "# vif (variance inflation factor)\n",
    "[print(variance_inflation_factor(x_train.values, j)) for j in range(x_train.shape[1])]"
   ]
  },
  {
   "cell_type": "code",
   "execution_count": 47,
   "metadata": {},
   "outputs": [
    {
     "name": "stdout",
     "output_type": "stream",
     "text": [
      "Iteration No:\n",
      "1\n",
      "[15.47758260195686, 3.2696650121931814, 4.129325501299342, 82.21008475163109, 5.21853674386234, 85.86694548901554, 71.81633694293068, 1.686160096846766]\n",
      "Max vif variable no: 5\n",
      "Iteration No:\n",
      "2\n",
      "[14.517486362670928, 3.2477734890453647, 3.968695653417151, 71.53530428408644, 5.1775267752249094, 48.27016091702854, 1.6861256310510393]\n",
      "Max vif variable no: 3\n",
      "Iteration No:\n",
      "3\n",
      "[9.385732352700492, 2.082876994657241, 3.009516852485082, 2.910827525646028, 14.418586504418238, 1.572151969798833]\n",
      "Max vif variable no: 4\n",
      "Iteration No:\n",
      "4\n",
      "[2.6936535297265767, 1.528289203660763, 1.9044394378899658, 2.8907052492126315, 1.5380724272424997]\n",
      "Max vif variable no: 3\n",
      "     Cement  Blast  Fly Ash  Superplasticizer  Age\n",
      "337   275.1    0.0    121.4               9.9   56\n",
      "384   516.0    0.0      0.0               8.2   28\n",
      "805   393.0    0.0      0.0               0.0   90\n",
      "682   183.9  122.6      0.0               0.0   28\n",
      "329   246.8    0.0    125.1              12.0    3\n"
     ]
    }
   ],
   "source": [
    "def calc_vif(x):\n",
    "    tresh  = 5\n",
    "    output = pd.DataFrame()\n",
    "    k = x.shape[1]\n",
    "    vif = [variance_inflation_factor(x.values, j) for j in range(x.shape[1])]\n",
    "    for i in range(1, k):\n",
    "        print(\"Iteration No:\")\n",
    "        print(i)\n",
    "        print(vif)\n",
    "        maks = np.argmax(vif) # Returns the indices of the maximum values along an axis.\n",
    "        print(\"Max vif variable no:\", maks)\n",
    "        if vif[maks] <= tresh:\n",
    "            break\n",
    "        if i == 1:\n",
    "            output = x.drop(x.columns[maks], axis=1)\n",
    "            vif = [variance_inflation_factor(output.values, j) for j in range(output.shape[1])]\n",
    "        elif i > 1:\n",
    "            output = output.drop(output.columns[maks], axis=1)\n",
    "            vif = [variance_inflation_factor(output.values, j) for j in range(output.shape[1])]\n",
    "    return output\n",
    "\n",
    "tr_output = calc_vif(x_train)\n",
    "print(tr_output.head())"
   ]
  },
  {
   "cell_type": "code",
   "execution_count": 48,
   "metadata": {},
   "outputs": [
    {
     "name": "stdout",
     "output_type": "stream",
     "text": [
      "                            OLS Regression Results                            \n",
      "==============================================================================\n",
      "Dep. Variable:                    CMS   R-squared:                       0.570\n",
      "Model:                            OLS   Adj. R-squared:                  0.567\n",
      "Method:                 Least Squares   F-statistic:                     216.3\n",
      "Date:                Thu, 28 Jan 2021   Prob (F-statistic):          6.88e-147\n",
      "Time:                        23:29:31   Log-Likelihood:                -3128.8\n",
      "No. Observations:                 823   AIC:                             6270.\n",
      "Df Residuals:                     817   BIC:                             6298.\n",
      "Df Model:                           5                                         \n",
      "Covariance Type:            nonrobust                                         \n",
      "====================================================================================\n",
      "                       coef    std err          t      P>|t|      [0.025      0.975]\n",
      "------------------------------------------------------------------------------------\n",
      "const              -11.1119      1.915     -5.803      0.000     -14.871      -7.353\n",
      "Cement               0.1031      0.005     20.941      0.000       0.093       0.113\n",
      "Blast                0.0721      0.006     12.622      0.000       0.061       0.083\n",
      "Fly Ash              0.0614      0.009      6.749      0.000       0.044       0.079\n",
      "Superplasticizer     0.7519      0.077      9.739      0.000       0.600       0.903\n",
      "Age                  0.1021      0.006     16.582      0.000       0.090       0.114\n",
      "==============================================================================\n",
      "Omnibus:                        0.870   Durbin-Watson:                   2.090\n",
      "Prob(Omnibus):                  0.647   Jarque-Bera (JB):                0.945\n",
      "Skew:                           0.039   Prob(JB):                        0.623\n",
      "Kurtosis:                       2.853   Cond. No.                     1.59e+03\n",
      "==============================================================================\n",
      "\n",
      "Notes:\n",
      "[1] Standard Errors assume that the covariance matrix of the errors is correctly specified.\n",
      "[2] The condition number is large, 1.59e+03. This might indicate that there are\n",
      "strong multicollinearity or other numerical problems.\n"
     ]
    },
    {
     "name": "stderr",
     "output_type": "stream",
     "text": [
      "/home/hasan/code/jupyterenvironment/lib/python3.8/site-packages/pandas/core/frame.py:4167: SettingWithCopyWarning: \n",
      "A value is trying to be set on a copy of a slice from a DataFrame\n",
      "\n",
      "See the caveats in the documentation: https://pandas.pydata.org/pandas-docs/stable/user_guide/indexing.html#returning-a-view-versus-a-copy\n",
      "  return super().drop(\n"
     ]
    }
   ],
   "source": [
    "x_test.drop([\"Water\", \"CA\", \"FA\"], axis=1, inplace=True)\n",
    "tr_output = sm.add_constant(tr_output)\n",
    "X_test = sm.add_constant(x_test)\n",
    "m = sm.OLS(y_train, tr_output).fit()\n",
    "print(m.summary())\n",
    "y_predict2 = m.predict(X_test)"
   ]
  },
  {
   "cell_type": "code",
   "execution_count": 51,
   "metadata": {},
   "outputs": [
    {
     "name": "stdout",
     "output_type": "stream",
     "text": [
      "8.262654160599256\n",
      "10.638550623928959\n",
      "\n",
      "8.624057608810352\n",
      "11.154666497336011\n"
     ]
    }
   ],
   "source": [
    "# Compare Performance\n",
    "print(metrics.mean_absolute_error(y_test, y_predict))\n",
    "print(np.sqrt(metrics.mean_squared_error(y_test, y_predict)))\n",
    "print(\"\")\n",
    "print(metrics.mean_absolute_error(y_test, y_predict2))\n",
    "print(np.sqrt(metrics.mean_squared_error(y_test, y_predict2)))\n"
   ]
  },
  {
   "cell_type": "code",
   "execution_count": null,
   "metadata": {},
   "outputs": [],
   "source": [
    "# I extracted 3 variables from the model.\n",
    "# My performance has not deteriorated. \n",
    "# The interpretability of my model has increased"
   ]
  }
 ],
 "metadata": {
  "kernelspec": {
   "display_name": "Python 3",
   "language": "python",
   "name": "python3"
  },
  "language_info": {
   "codemirror_mode": {
    "name": "ipython",
    "version": 3
   },
   "file_extension": ".py",
   "mimetype": "text/x-python",
   "name": "python",
   "nbconvert_exporter": "python",
   "pygments_lexer": "ipython3",
   "version": "3.8.5"
  }
 },
 "nbformat": 4,
 "nbformat_minor": 4
}
