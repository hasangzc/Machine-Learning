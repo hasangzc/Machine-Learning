{
 "cells": [
  {
   "cell_type": "code",
   "execution_count": 23,
   "metadata": {},
   "outputs": [],
   "source": [
    "import pandas as pd\n",
    "import numpy as np\n",
    "from sklearn.model_selection import train_test_split\n",
    "from sklearn import metrics\n",
    "import statsmodels.api as sm"
   ]
  },
  {
   "cell_type": "code",
   "execution_count": 24,
   "metadata": {},
   "outputs": [],
   "source": [
    "np.random.seed(12)"
   ]
  },
  {
   "cell_type": "code",
   "execution_count": 25,
   "metadata": {},
   "outputs": [
    {
     "data": {
      "text/html": [
       "<div>\n",
       "<style scoped>\n",
       "    .dataframe tbody tr th:only-of-type {\n",
       "        vertical-align: middle;\n",
       "    }\n",
       "\n",
       "    .dataframe tbody tr th {\n",
       "        vertical-align: top;\n",
       "    }\n",
       "\n",
       "    .dataframe thead th {\n",
       "        text-align: right;\n",
       "    }\n",
       "</style>\n",
       "<table border=\"1\" class=\"dataframe\">\n",
       "  <thead>\n",
       "    <tr style=\"text-align: right;\">\n",
       "      <th></th>\n",
       "      <th>Id</th>\n",
       "      <th>RI</th>\n",
       "      <th>Na</th>\n",
       "      <th>Mg</th>\n",
       "      <th>Al</th>\n",
       "      <th>Si</th>\n",
       "      <th>K</th>\n",
       "      <th>Ca</th>\n",
       "      <th>Ba</th>\n",
       "      <th>Fe</th>\n",
       "      <th>glass-type</th>\n",
       "    </tr>\n",
       "  </thead>\n",
       "  <tbody>\n",
       "    <tr>\n",
       "      <th>0</th>\n",
       "      <td>1</td>\n",
       "      <td>1.52101</td>\n",
       "      <td>13.64</td>\n",
       "      <td>4.49</td>\n",
       "      <td>1.10</td>\n",
       "      <td>71.78</td>\n",
       "      <td>0.06</td>\n",
       "      <td>8.75</td>\n",
       "      <td>0.0</td>\n",
       "      <td>0.0</td>\n",
       "      <td>1</td>\n",
       "    </tr>\n",
       "    <tr>\n",
       "      <th>1</th>\n",
       "      <td>2</td>\n",
       "      <td>1.51761</td>\n",
       "      <td>13.89</td>\n",
       "      <td>3.60</td>\n",
       "      <td>1.36</td>\n",
       "      <td>72.73</td>\n",
       "      <td>0.48</td>\n",
       "      <td>7.83</td>\n",
       "      <td>0.0</td>\n",
       "      <td>0.0</td>\n",
       "      <td>1</td>\n",
       "    </tr>\n",
       "    <tr>\n",
       "      <th>2</th>\n",
       "      <td>3</td>\n",
       "      <td>1.51618</td>\n",
       "      <td>13.53</td>\n",
       "      <td>3.55</td>\n",
       "      <td>1.54</td>\n",
       "      <td>72.99</td>\n",
       "      <td>0.39</td>\n",
       "      <td>7.78</td>\n",
       "      <td>0.0</td>\n",
       "      <td>0.0</td>\n",
       "      <td>1</td>\n",
       "    </tr>\n",
       "    <tr>\n",
       "      <th>3</th>\n",
       "      <td>4</td>\n",
       "      <td>1.51766</td>\n",
       "      <td>13.21</td>\n",
       "      <td>3.69</td>\n",
       "      <td>1.29</td>\n",
       "      <td>72.61</td>\n",
       "      <td>0.57</td>\n",
       "      <td>8.22</td>\n",
       "      <td>0.0</td>\n",
       "      <td>0.0</td>\n",
       "      <td>1</td>\n",
       "    </tr>\n",
       "    <tr>\n",
       "      <th>4</th>\n",
       "      <td>5</td>\n",
       "      <td>1.51742</td>\n",
       "      <td>13.27</td>\n",
       "      <td>3.62</td>\n",
       "      <td>1.24</td>\n",
       "      <td>73.08</td>\n",
       "      <td>0.55</td>\n",
       "      <td>8.07</td>\n",
       "      <td>0.0</td>\n",
       "      <td>0.0</td>\n",
       "      <td>1</td>\n",
       "    </tr>\n",
       "  </tbody>\n",
       "</table>\n",
       "</div>"
      ],
      "text/plain": [
       "   Id       RI     Na    Mg    Al     Si     K    Ca   Ba   Fe  glass-type\n",
       "0   1  1.52101  13.64  4.49  1.10  71.78  0.06  8.75  0.0  0.0           1\n",
       "1   2  1.51761  13.89  3.60  1.36  72.73  0.48  7.83  0.0  0.0           1\n",
       "2   3  1.51618  13.53  3.55  1.54  72.99  0.39  7.78  0.0  0.0           1\n",
       "3   4  1.51766  13.21  3.69  1.29  72.61  0.57  8.22  0.0  0.0           1\n",
       "4   5  1.51742  13.27  3.62  1.24  73.08  0.55  8.07  0.0  0.0           1"
      ]
     },
     "execution_count": 25,
     "metadata": {},
     "output_type": "execute_result"
    }
   ],
   "source": [
    "data = pd.read_csv(\"glass.csv\")\n",
    "data.head()"
   ]
  },
  {
   "cell_type": "code",
   "execution_count": 26,
   "metadata": {},
   "outputs": [
    {
     "name": "stdout",
     "output_type": "stream",
     "text": [
      "Headers: ['Id' 'RI' 'Na' 'Mg' 'Al' 'Si' 'K' 'Ca' 'Ba' 'Fe' 'glass-type']\n",
      "Number of Observation: 214\n",
      "Number of Columns: 11\n"
     ]
    },
    {
     "data": {
      "text/plain": [
       "(214, 11)"
      ]
     },
     "execution_count": 26,
     "metadata": {},
     "output_type": "execute_result"
    }
   ],
   "source": [
    "print(\"Headers:\",data.columns.values)\n",
    "print(\"Number of Observation:\", len(data.index))\n",
    "print(\"Number of Columns:\", len(data.columns))\n",
    "data.shape"
   ]
  },
  {
   "cell_type": "code",
   "execution_count": 27,
   "metadata": {},
   "outputs": [
    {
     "data": {
      "text/plain": [
       "(214, 10)"
      ]
     },
     "execution_count": 27,
     "metadata": {},
     "output_type": "execute_result"
    }
   ],
   "source": [
    "# Target = glass-type\n",
    "labels = np.array(data[\"glass-type\"])\n",
    "data = data.drop(\"glass-type\", axis=1)\n",
    "#data = data.drop(\"Id\", axis=1)\n",
    "data = np.array(data)\n",
    "data.shape"
   ]
  },
  {
   "cell_type": "code",
   "execution_count": 28,
   "metadata": {},
   "outputs": [],
   "source": [
    "train_x, test_x, train_y, test_y = train_test_split(data, labels, test_size=0.3, random_state=42)"
   ]
  },
  {
   "cell_type": "code",
   "execution_count": 29,
   "metadata": {},
   "outputs": [
    {
     "name": "stdout",
     "output_type": "stream",
     "text": [
      "[[-1.36872402e+00  9.84514601e-04 -7.70733136e-02 -1.09417648e-02\n",
      "  -9.47775032e-02 -3.17440203e-02 -5.03716197e-02  3.05278613e-01\n",
      "   8.03004520e-03 -2.77263174e-02]\n",
      " [-7.08291281e-01  5.29580413e-04 -1.31770846e-01  3.78252346e-02\n",
      "   1.58676556e-01  2.73401364e-02  2.05804068e-01 -2.84043758e-01\n",
      "  -4.00381940e-03  1.82652211e-01]\n",
      " [-2.83913645e-02 -2.34025992e-03  3.66298359e-01  3.69926917e-01\n",
      "  -3.43986694e-01  7.51322423e-02 -2.90623913e-01 -3.38266891e-02\n",
      "  -2.59390621e-01 -1.36059084e-01]\n",
      " [ 2.62342206e-01  6.66446267e-04 -5.25936211e-01 -6.44842679e-01\n",
      "   4.42967861e-01 -1.39921577e-01  3.47557732e-01  1.51922313e-01\n",
      "   3.03965407e-01  8.06355822e-02]\n",
      " [ 6.02179754e-01 -6.84121506e-04  4.11740018e-01  1.14576802e-02\n",
      "  -2.25525402e-01  2.92544525e-01 -3.13455631e-01  6.48132244e-02\n",
      "  -1.36638179e-01 -1.00859218e-01]\n",
      " [ 1.24088471e+00  8.43840143e-04 -4.32580058e-02  2.36574613e-01\n",
      "   6.26451818e-02 -2.23351306e-01  1.01089364e-01 -2.04143703e-01\n",
      "   8.80371678e-02  1.35682647e-03]]\n",
      "Train Accuracy: 1.0\n",
      "Test Accuracy: 1.0\n"
     ]
    }
   ],
   "source": [
    "from sklearn import linear_model\n",
    "logic_reg = linear_model.LogisticRegression(max_iter=10000)\n",
    "model = logic_reg.fit(train_x, train_y)\n",
    "print(model.coef_)\n",
    "print(\"Train Accuracy:\", metrics.accuracy_score(train_y, logic_reg.predict(train_x)))\n",
    "print(\"Test Accuracy:\", metrics.accuracy_score(test_y, logic_reg.predict(test_x)))"
   ]
  },
  {
   "cell_type": "code",
   "execution_count": 30,
   "metadata": {},
   "outputs": [
    {
     "name": "stdout",
     "output_type": "stream",
     "text": [
      "[[-1.37288486e+00  8.30264072e-04 -7.79466408e-02 -1.12344248e-02\n",
      "  -9.49315522e-02 -3.98107753e-02 -5.05803162e-02  3.04595965e-01\n",
      "   7.97248515e-03 -2.76383335e-02]\n",
      " [-7.10728955e-01 -1.75498822e-04 -1.38097175e-01  3.48711349e-02\n",
      "   1.56198336e-01 -3.45270162e-03  2.03064445e-01 -2.86679611e-01\n",
      "  -4.05022258e-03  1.79890955e-01]\n",
      " [-1.55584556e-02 -6.58413278e-04  3.81428359e-01  3.85175537e-01\n",
      "  -3.36457059e-01  1.42058346e-01 -2.83961009e-01 -3.94057595e-02\n",
      "  -2.53006777e-01 -1.33342625e-01]\n",
      " [ 2.66077592e-01  3.96446210e-04 -5.33246802e-01 -6.52649095e-01\n",
      "   4.40452057e-01 -1.44089020e-01  3.46630343e-01  1.62461564e-01\n",
      "   2.98214804e-01  8.07042237e-02]\n",
      " [ 6.00183935e-01 -9.60644690e-04  4.12823915e-01  1.00704359e-02\n",
      "  -2.28676393e-01  2.83770509e-01 -3.16304244e-01  6.43398679e-02\n",
      "  -1.38771526e-01 -1.01091691e-01]\n",
      " [ 1.23291074e+00  5.67846509e-04 -4.49616562e-02  2.33766412e-01\n",
      "   6.34146106e-02 -2.38476357e-01  1.01150780e-01 -2.05312026e-01\n",
      "   8.96412366e-02  1.47747066e-03]]\n",
      "Train Accuracy: 1.0\n",
      "Test Accuracy: 1.0\n"
     ]
    }
   ],
   "source": [
    "from sklearn import linear_model\n",
    "multinomial_reg = linear_model.LogisticRegression(multi_class=\"multinomial\", solver=\"newton-cg\")\n",
    "model = multinomial_reg.fit(train_x, train_y)\n",
    "print(model.coef_)\n",
    "print(\"Train Accuracy:\", metrics.accuracy_score(train_y, multinomial_reg.predict(train_x)))\n",
    "print(\"Test Accuracy:\", metrics.accuracy_score(test_y, multinomial_reg.predict(test_x)))"
   ]
  },
  {
   "cell_type": "code",
   "execution_count": 31,
   "metadata": {},
   "outputs": [],
   "source": [
    "# Accuracys = 1 My model is either too simple or has data leakage.\n",
    "# Drop ıd cloumn\n",
    "# My model learns wrong taking into account ID because the predictions are ordered. Example(if ıd < 70---> target = 1)"
   ]
  },
  {
   "cell_type": "code",
   "execution_count": null,
   "metadata": {},
   "outputs": [],
   "source": [
    "# Solution : Drop Id columnd and check again!"
   ]
  }
 ],
 "metadata": {
  "kernelspec": {
   "display_name": "Python 3",
   "language": "python",
   "name": "python3"
  },
  "language_info": {
   "codemirror_mode": {
    "name": "ipython",
    "version": 3
   },
   "file_extension": ".py",
   "mimetype": "text/x-python",
   "name": "python",
   "nbconvert_exporter": "python",
   "pygments_lexer": "ipython3",
   "version": "3.8.5"
  }
 },
 "nbformat": 4,
 "nbformat_minor": 4
}
