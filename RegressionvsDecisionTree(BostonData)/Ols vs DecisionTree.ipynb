{
 "cells": [
  {
   "cell_type": "code",
   "execution_count": 5,
   "metadata": {},
   "outputs": [
    {
     "name": "stdout",
     "output_type": "stream",
     "text": [
      "      CRIM    ZN  INDUS  CHAS    NOX     RM    AGE     DIS  RAD    TAX  PTRATIO       B  LSTAT  PRICE  const\n",
      "0  0.00632  18.0   2.31   0.0  0.538  6.575   65.2  4.0900  1.0  296.0     15.3  396.90   4.98   24.0      1\n",
      "1  0.02731   0.0   7.07   0.0  0.469  6.421   78.9  4.9671  2.0  242.0     17.8  396.90   9.14   21.6      1\n",
      "2  0.02729   0.0   7.07   0.0  0.469  7.185   61.1  4.9671  2.0  242.0     17.8  392.83   4.03   34.7      1\n",
      "3  0.03237   0.0   2.18   0.0  0.458  6.998   45.8  6.0622  3.0  222.0     18.7  394.63   2.94   33.4      1\n",
      "4  0.06905   0.0   2.18   0.0  0.458  7.147   54.2  6.0622  3.0  222.0     18.7  396.90   5.33   36.2      1\n",
      "5  0.02985   0.0   2.18   0.0  0.458  6.430   58.7  6.0622  3.0  222.0     18.7  394.12   5.21   28.7      1\n",
      "6  0.08829  12.5   7.87   0.0  0.524  6.012   66.6  5.5605  5.0  311.0     15.2  395.60  12.43   22.9      1\n",
      "7  0.14455  12.5   7.87   0.0  0.524  6.172   96.1  5.9505  5.0  311.0     15.2  396.90  19.15   27.1      1\n",
      "8  0.21124  12.5   7.87   0.0  0.524  5.631  100.0  6.0821  5.0  311.0     15.2  386.63  29.93   16.5      1\n",
      "9  0.17004  12.5   7.87   0.0  0.524  6.004   85.9  6.5921  5.0  311.0     15.2  386.71  17.10   18.9      1\n"
     ]
    }
   ],
   "source": [
    "import pandas as pd\n",
    "import numpy as np\n",
    "import matplotlib.pyplot as plt\n",
    "from sklearn.model_selection import train_test_split\n",
    "from sklearn import metrics\n",
    "from sklearn.metrics import mean_absolute_error\n",
    "from sklearn.metrics import mean_squared_error\n",
    "from sklearn.datasets import load_boston\n",
    "from sklearn import tree\n",
    "from sklearn.tree import DecisionTreeRegressor\n",
    "from statsmodels.api import OLS\n",
    "from sklearn.linear_model import LinearRegression, Ridge, Lasso\n",
    "\n",
    "price = load_boston()\n",
    "df = pd.DataFrame(price.data, columns=price.feature_names)\n",
    "df['PRICE'] = price.target\n",
    "df['const'] = 1\n",
    "\n",
    "print(df.head(10))"
   ]
  },
  {
   "cell_type": "code",
   "execution_count": 6,
   "metadata": {},
   "outputs": [],
   "source": [
    "# Split\n",
    "x_train, x_test, y_train, y_test  = train_test_split(price.data, price.target, test_size=0.3,\n",
    "                                                    random_state=10)"
   ]
  },
  {
   "cell_type": "code",
   "execution_count": 7,
   "metadata": {},
   "outputs": [
    {
     "name": "stdout",
     "output_type": "stream",
     "text": [
      "MAE: 3.70712713727181\n",
      "MSE: 29.326596526123172\n",
      "sqrt(MSE): 5.415403634644713\n"
     ]
    }
   ],
   "source": [
    "ols_reg = LinearRegression()\n",
    "ols_reg.fit(x_train, y_train)\n",
    "ols_pred = ols_reg.predict(x_test)\n",
    "\n",
    "print(\"MAE:\", metrics.mean_absolute_error(y_test, ols_pred))\n",
    "print(\"MSE:\", metrics.mean_squared_error(y_test, ols_pred))\n",
    "print(\"sqrt(MSE):\", np.sqrt(metrics.mean_squared_error(y_test, ols_pred)))"
   ]
  },
  {
   "cell_type": "code",
   "execution_count": 8,
   "metadata": {},
   "outputs": [
    {
     "name": "stdout",
     "output_type": "stream",
     "text": [
      "MAE: 3.0085526315789473\n",
      "MSE: 20.601644736842108\n",
      "sqrt(MSE): 4.538903472959312\n"
     ]
    }
   ],
   "source": [
    "reg_tree = DecisionTreeRegressor()\n",
    "reg_tree.fit(x_train, y_train)\n",
    "tree_pred = reg_tree.predict(x_test)\n",
    "\n",
    "print(\"MAE:\", metrics.mean_absolute_error(y_test, tree_pred))\n",
    "print(\"MSE:\", metrics.mean_squared_error(y_test, tree_pred))\n",
    "print(\"sqrt(MSE):\", np.sqrt(metrics.mean_squared_error(y_test, tree_pred)))"
   ]
  },
  {
   "cell_type": "code",
   "execution_count": 9,
   "metadata": {},
   "outputs": [
    {
     "name": "stdout",
     "output_type": "stream",
     "text": [
      "MAE: 3.0908089251522357\n",
      "MSE: 21.23070009405348\n",
      "sqrt(MSE): 4.607678384398533\n"
     ]
    }
   ],
   "source": [
    "reg_tree = DecisionTreeRegressor(max_depth=4)\n",
    "reg_tree.fit(x_train, y_train)\n",
    "tree_pred = reg_tree.predict(x_test)\n",
    "\n",
    "print(\"MAE:\", metrics.mean_absolute_error(y_test, tree_pred))\n",
    "print(\"MSE:\", metrics.mean_squared_error(y_test, tree_pred))\n",
    "print(\"sqrt(MSE):\", np.sqrt(metrics.mean_squared_error(y_test, tree_pred)))"
   ]
  },
  {
   "cell_type": "code",
   "execution_count": 11,
   "metadata": {},
   "outputs": [
    {
     "name": "stdout",
     "output_type": "stream",
     "text": [
      "MAE: 2.885423691440139\n",
      "MSE: 19.77843636315064\n",
      "sqrt(MSE): 4.447295398683411\n"
     ]
    }
   ],
   "source": [
    "reg_tree = DecisionTreeRegressor(max_depth=6)\n",
    "reg_tree.fit(x_train, y_train)\n",
    "tree_pred = reg_tree.predict(x_test)\n",
    "\n",
    "print(\"MAE:\", metrics.mean_absolute_error(y_test, tree_pred))\n",
    "print(\"MSE:\", metrics.mean_squared_error(y_test, tree_pred))\n",
    "print(\"sqrt(MSE):\", np.sqrt(metrics.mean_squared_error(y_test, tree_pred)))"
   ]
  },
  {
   "cell_type": "code",
   "execution_count": 12,
   "metadata": {},
   "outputs": [
    {
     "name": "stdout",
     "output_type": "stream",
     "text": [
      "MAE: 2.8815412771364866\n",
      "MSE: 19.591104561378664\n",
      "sqrt(MSE): 4.426183972834688\n"
     ]
    }
   ],
   "source": [
    "reg_tree = DecisionTreeRegressor(max_depth=5)\n",
    "reg_tree.fit(x_train, y_train)\n",
    "tree_pred = reg_tree.predict(x_test)\n",
    "\n",
    "print(\"MAE:\", metrics.mean_absolute_error(y_test, tree_pred))\n",
    "print(\"MSE:\", metrics.mean_squared_error(y_test, tree_pred))\n",
    "print(\"sqrt(MSE):\", np.sqrt(metrics.mean_squared_error(y_test, tree_pred)))"
   ]
  }
 ],
 "metadata": {
  "kernelspec": {
   "display_name": "Python 3",
   "language": "python",
   "name": "python3"
  },
  "language_info": {
   "codemirror_mode": {
    "name": "ipython",
    "version": 3
   },
   "file_extension": ".py",
   "mimetype": "text/x-python",
   "name": "python",
   "nbconvert_exporter": "python",
   "pygments_lexer": "ipython3",
   "version": "3.8.5"
  }
 },
 "nbformat": 4,
 "nbformat_minor": 4
}
