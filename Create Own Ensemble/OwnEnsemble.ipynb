{
 "cells": [
  {
   "cell_type": "code",
   "execution_count": 35,
   "metadata": {},
   "outputs": [],
   "source": [
    "import pandas as pd\n",
    "import numpy as np\n",
    "import matplotlib.pyplot as plt\n",
    "from sklearn.model_selection import train_test_split\n",
    "from sklearn.metrics import accuracy_score\n",
    "from sklearn.metrics import confusion_matrix\n",
    "from sklearn.metrics import recall_score\n",
    "from sklearn.metrics import precision_score\n",
    "from sklearn.metrics import roc_auc_score\n",
    "from sklearn.metrics import f1_score\n",
    "from sklearn.tree import DecisionTreeClassifier\n",
    "from sklearn.ensemble import BaggingClassifier\n",
    "from sklearn.ensemble import RandomForestClassifier\n",
    "from sklearn.ensemble import AdaBoostClassifier\n",
    "from sklearn.ensemble import GradientBoostingClassifier\n",
    "import graphviz\n",
    "import seaborn as sns\n",
    "import random\n",
    "import pydotplus\n",
    "import math\n",
    "from IPython.display import Image\n",
    "from sklearn import tree"
   ]
  },
  {
   "cell_type": "code",
   "execution_count": 36,
   "metadata": {},
   "outputs": [
    {
     "data": {
      "text/html": [
       "<div>\n",
       "<style scoped>\n",
       "    .dataframe tbody tr th:only-of-type {\n",
       "        vertical-align: middle;\n",
       "    }\n",
       "\n",
       "    .dataframe tbody tr th {\n",
       "        vertical-align: top;\n",
       "    }\n",
       "\n",
       "    .dataframe thead th {\n",
       "        text-align: right;\n",
       "    }\n",
       "</style>\n",
       "<table border=\"1\" class=\"dataframe\">\n",
       "  <thead>\n",
       "    <tr style=\"text-align: right;\">\n",
       "      <th></th>\n",
       "      <th>A</th>\n",
       "      <th>B</th>\n",
       "      <th>C</th>\n",
       "      <th>D</th>\n",
       "      <th>E</th>\n",
       "      <th>F</th>\n",
       "      <th>G</th>\n",
       "      <th>H</th>\n",
       "      <th>I</th>\n",
       "      <th>J</th>\n",
       "      <th>K</th>\n",
       "      <th>L</th>\n",
       "      <th>M</th>\n",
       "      <th>N</th>\n",
       "      <th>O</th>\n",
       "    </tr>\n",
       "  </thead>\n",
       "  <tbody>\n",
       "    <tr>\n",
       "      <th>0</th>\n",
       "      <td>39</td>\n",
       "      <td>State-gov</td>\n",
       "      <td>77516</td>\n",
       "      <td>Bachelors</td>\n",
       "      <td>13</td>\n",
       "      <td>Never-married</td>\n",
       "      <td>Adm-clerical</td>\n",
       "      <td>Not-in-family</td>\n",
       "      <td>White</td>\n",
       "      <td>Male</td>\n",
       "      <td>2174</td>\n",
       "      <td>0</td>\n",
       "      <td>40</td>\n",
       "      <td>United-States</td>\n",
       "      <td>0</td>\n",
       "    </tr>\n",
       "    <tr>\n",
       "      <th>1</th>\n",
       "      <td>50</td>\n",
       "      <td>Self-emp-not-inc</td>\n",
       "      <td>83311</td>\n",
       "      <td>Bachelors</td>\n",
       "      <td>13</td>\n",
       "      <td>Married-civ-spouse</td>\n",
       "      <td>Exec-managerial</td>\n",
       "      <td>Husband</td>\n",
       "      <td>White</td>\n",
       "      <td>Male</td>\n",
       "      <td>0</td>\n",
       "      <td>0</td>\n",
       "      <td>13</td>\n",
       "      <td>United-States</td>\n",
       "      <td>0</td>\n",
       "    </tr>\n",
       "    <tr>\n",
       "      <th>2</th>\n",
       "      <td>38</td>\n",
       "      <td>Private</td>\n",
       "      <td>215646</td>\n",
       "      <td>HS-grad</td>\n",
       "      <td>9</td>\n",
       "      <td>Divorced</td>\n",
       "      <td>Handlers-cleaners</td>\n",
       "      <td>Not-in-family</td>\n",
       "      <td>White</td>\n",
       "      <td>Male</td>\n",
       "      <td>0</td>\n",
       "      <td>0</td>\n",
       "      <td>40</td>\n",
       "      <td>United-States</td>\n",
       "      <td>0</td>\n",
       "    </tr>\n",
       "    <tr>\n",
       "      <th>3</th>\n",
       "      <td>53</td>\n",
       "      <td>Private</td>\n",
       "      <td>234721</td>\n",
       "      <td>11th</td>\n",
       "      <td>7</td>\n",
       "      <td>Married-civ-spouse</td>\n",
       "      <td>Handlers-cleaners</td>\n",
       "      <td>Husband</td>\n",
       "      <td>Black</td>\n",
       "      <td>Male</td>\n",
       "      <td>0</td>\n",
       "      <td>0</td>\n",
       "      <td>40</td>\n",
       "      <td>United-States</td>\n",
       "      <td>0</td>\n",
       "    </tr>\n",
       "    <tr>\n",
       "      <th>4</th>\n",
       "      <td>28</td>\n",
       "      <td>Private</td>\n",
       "      <td>338409</td>\n",
       "      <td>Bachelors</td>\n",
       "      <td>13</td>\n",
       "      <td>Married-civ-spouse</td>\n",
       "      <td>Prof-specialty</td>\n",
       "      <td>Wife</td>\n",
       "      <td>Black</td>\n",
       "      <td>Female</td>\n",
       "      <td>0</td>\n",
       "      <td>0</td>\n",
       "      <td>40</td>\n",
       "      <td>Cuba</td>\n",
       "      <td>0</td>\n",
       "    </tr>\n",
       "  </tbody>\n",
       "</table>\n",
       "</div>"
      ],
      "text/plain": [
       "    A                  B       C           D   E                    F  \\\n",
       "0  39          State-gov   77516   Bachelors  13        Never-married   \n",
       "1  50   Self-emp-not-inc   83311   Bachelors  13   Married-civ-spouse   \n",
       "2  38            Private  215646     HS-grad   9             Divorced   \n",
       "3  53            Private  234721        11th   7   Married-civ-spouse   \n",
       "4  28            Private  338409   Bachelors  13   Married-civ-spouse   \n",
       "\n",
       "                    G               H       I        J     K  L   M  \\\n",
       "0        Adm-clerical   Not-in-family   White     Male  2174  0  40   \n",
       "1     Exec-managerial         Husband   White     Male     0  0  13   \n",
       "2   Handlers-cleaners   Not-in-family   White     Male     0  0  40   \n",
       "3   Handlers-cleaners         Husband   Black     Male     0  0  40   \n",
       "4      Prof-specialty            Wife   Black   Female     0  0  40   \n",
       "\n",
       "                N  O  \n",
       "0   United-States  0  \n",
       "1   United-States  0  \n",
       "2   United-States  0  \n",
       "3   United-States  0  \n",
       "4            Cuba  0  "
      ]
     },
     "execution_count": 36,
     "metadata": {},
     "output_type": "execute_result"
    }
   ],
   "source": [
    "data = pd.read_csv(\"bench.csv\" ,encoding=\"latin-1\")\n",
    "data.head()"
   ]
  },
  {
   "cell_type": "code",
   "execution_count": 37,
   "metadata": {},
   "outputs": [
    {
     "name": "stdout",
     "output_type": "stream",
     "text": [
      "          A         C         E         K         L         M         O\n",
      "A  1.000000 -0.077369  0.022270  0.071350  0.058579  0.067277  0.224656\n",
      "C -0.077369  1.000000 -0.038342 -0.005941 -0.001596 -0.009567 -0.006185\n",
      "E  0.022270 -0.038342  1.000000  0.125241  0.081180  0.139487  0.326353\n",
      "K  0.071350 -0.005941  0.125241  1.000000 -0.031297  0.082815  0.221688\n",
      "L  0.058579 -0.001596  0.081180 -0.031297  1.000000  0.054575  0.147742\n",
      "M  0.067277 -0.009567  0.139487  0.082815  0.054575  1.000000  0.223298\n",
      "O  0.224656 -0.006185  0.326353  0.221688  0.147742  0.223298  1.000000\n"
     ]
    },
    {
     "data": {
      "image/png": "[encoded data removed]",
      "text/plain": [
       "<Figure size 432x288 with 2 Axes>"
      ]
     },
     "metadata": {
      "needs_background": "light"
     },
     "output_type": "display_data"
    }
   ],
   "source": [
    "corr = data.corr()\n",
    "sns.heatmap(corr)\n",
    "print(corr)"
   ]
  },
  {
   "cell_type": "code",
   "execution_count": 38,
   "metadata": {},
   "outputs": [
    {
     "name": "stdout",
     "output_type": "stream",
     "text": [
      "(31321, 15)\n"
     ]
    }
   ],
   "source": [
    "data.dropna(inplace=True)\n",
    "print(data.shape)"
   ]
  },
  {
   "cell_type": "code",
   "execution_count": 39,
   "metadata": {},
   "outputs": [
    {
     "data": {
      "text/plain": [
       "(31321, 107)"
      ]
     },
     "execution_count": 39,
     "metadata": {},
     "output_type": "execute_result"
    }
   ],
   "source": [
    "data = pd.get_dummies(data)\n",
    "labels = np.array(data['O'])\n",
    "data= data.drop('O', axis = 1)\n",
    "data_list = list(data.columns)\n",
    "data.shape"
   ]
  },
  {
   "cell_type": "code",
   "execution_count": 40,
   "metadata": {},
   "outputs": [
    {
     "name": "stdout",
     "output_type": "stream",
     "text": [
      "Train_x Shape:  (25056, 107)\n",
      "Train_y Shape:  (25056,)\n",
      "Test_x Shape:  (6265, 107)\n",
      "Test_y Shape:  (6265,)\n"
     ]
    }
   ],
   "source": [
    "x_train, x_test, y_train, y_test = train_test_split(data, labels, test_size=0.2, random_state=42)\n",
    "print (\"Train_x Shape: \",x_train.shape)\n",
    "print (\"Train_y Shape: \", y_train.shape)\n",
    "print (\"Test_x Shape: \", x_test.shape)\n",
    "print (\"Test_y Shape: \", y_test.shape)"
   ]
  },
  {
   "cell_type": "code",
   "execution_count": 41,
   "metadata": {},
   "outputs": [
    {
     "name": "stdout",
     "output_type": "stream",
     "text": [
      "[[4183  577]\n",
      " [ 551  954]]\n",
      "Accuracy Score: 0.819952114924182\n",
      "Auc Score: 0.7563342778972053\n",
      "Auc Score Prob: 0.7563342778972053\n",
      "Recall Score: 0.6338870431893687\n",
      "Precission Score: 0.6231221423905944\n",
      "F1 Score: 0.6284584980237155\n",
      "                               importance\n",
      "F_ Married-civ-spouse            0.200971\n",
      "C                                0.187145\n",
      "E                                0.107410\n",
      "A                                0.107119\n",
      "K                                0.103100\n",
      "...                                   ...\n",
      "N_ Scotland                      0.000000\n",
      "N_ Ecuador                       0.000000\n",
      "N_ Thailand                      0.000000\n",
      "N_ Hong                          0.000000\n",
      "N_ Outlying-US(Guam-USVI-etc)    0.000000\n",
      "\n",
      "[107 rows x 1 columns]\n"
     ]
    }
   ],
   "source": [
    "# Decision Tree\n",
    "clsfr = DecisionTreeClassifier()\n",
    "clsfr = clsfr.fit(x_train, y_train)\n",
    "\n",
    "pred = clsfr.predict(x_test)\n",
    "pred_prob = clsfr.predict_proba(x_test)[:,1]\n",
    "\n",
    "print(confusion_matrix(y_test, pred))\n",
    "print(\"Accuracy Score:\", accuracy_score(y_test, pred))\n",
    "print(\"Auc Score:\", roc_auc_score(y_test, pred))\n",
    "print(\"Auc Score Prob:\", roc_auc_score(y_test, pred_prob))\n",
    "print(\"Recall Score:\", recall_score(y_test, pred))\n",
    "print(\"Precission Score:\", precision_score(y_test, pred))\n",
    "print(\"F1 Score:\", f1_score(y_test, pred))\n",
    "\n",
    "feature_imp = pd.DataFrame(clsfr.feature_importances_, index=x_train.columns, columns=[\"importance\"]).sort_values(\n",
    "                            \"importance\", ascending=False)\n",
    "\n",
    "print(feature_imp)"
   ]
  },
  {
   "cell_type": "code",
   "execution_count": 45,
   "metadata": {},
   "outputs": [
    {
     "name": "stdout",
     "output_type": "stream",
     "text": [
      "[[4478  282]\n",
      " [ 602  903]]\n",
      "Accuracy Score: 0.8588986432561851\n",
      "Auc Score: 0.7703781512605042\n",
      "Auc Score Prob: 0.8983885647282169\n",
      "Recall Score: 0.6\n",
      "Precission Score: 0.7620253164556962\n",
      "F1 Score: 0.6713754646840149\n",
      "                       importance\n",
      "F_ Married-civ-spouse    0.407731\n",
      "E                        0.185235\n",
      "K                        0.182123\n",
      "A                        0.065783\n",
      "L                        0.063546\n",
      "...                           ...\n",
      "G_ Machine-op-inspct     0.000000\n",
      "B_ Never-worked          0.000000\n",
      "G_ Craft-repair          0.000000\n",
      "G_ Armed-Forces          0.000000\n",
      "N_ Yugoslavia            0.000000\n",
      "\n",
      "[107 rows x 1 columns]\n"
     ]
    }
   ],
   "source": [
    "# Decision Tree\n",
    "clsfr2 = DecisionTreeClassifier(criterion=\"entropy\", max_depth=9)\n",
    "clsfr2 = clsfr2.fit(x_train, y_train)\n",
    "\n",
    "pred2 = clsfr2.predict(x_test)\n",
    "pred_prob2 = clsfr2.predict_proba(x_test)[:,1]\n",
    "\n",
    "print(confusion_matrix(y_test, pred2))\n",
    "print(\"Accuracy Score:\", accuracy_score(y_test, pred2))\n",
    "print(\"Auc Score:\", roc_auc_score(y_test, pred2))\n",
    "print(\"Auc Score Prob:\", roc_auc_score(y_test, pred_prob2))\n",
    "print(\"Recall Score:\", recall_score(y_test, pred2))\n",
    "print(\"Precission Score:\", precision_score(y_test, pred2))\n",
    "print(\"F1 Score:\", f1_score(y_test, pred2))\n",
    "\n",
    "feature_imp = pd.DataFrame(clsfr2.feature_importances_, index=x_train.columns, columns=[\"importance\"]).sort_values(\n",
    "                            \"importance\", ascending=False)\n",
    "\n",
    "print(feature_imp)"
   ]
  },
  {
   "cell_type": "code",
   "execution_count": 46,
   "metadata": {},
   "outputs": [
    {
     "data": {
      "image/png": "[encoded data removed]",
      "text/plain": [
       "<IPython.core.display.Image object>"
      ]
     },
     "execution_count": 46,
     "metadata": {},
     "output_type": "execute_result"
    }
   ],
   "source": [
    "dot_dat = tree.export_graphviz(clsfr2, out_file=None, feature_names=data.columns, class_names=[\"0\", \"1\"], filled=True,\n",
    "                              rounded=True)\n",
    "\n",
    "pydot_grp = pydotplus.graph_from_dot_data(dot_dat)\n",
    "pydot_grp.write_png(\"tree.png\")\n",
    "pydot_grp.set_size(\"10, 10!\")\n",
    "Image(pydot_grp.create_png())"
   ]
  },
  {
   "cell_type": "code",
   "execution_count": 48,
   "metadata": {},
   "outputs": [
    {
     "name": "stdout",
     "output_type": "stream",
     "text": [
      "[[4535  225]\n",
      " [ 642  863]]\n",
      "Accuracy 0.8616121308858739\n",
      "Auc Score Prob 0.9133293084675731\n",
      "Recall 0.573421926910299\n",
      "Precission 0.7931985294117647\n",
      "F1 Score 0.6656382568453528\n",
      "                       importance\n",
      "F_ Married-civ-spouse    0.392250\n",
      "K                        0.182672\n",
      "E                        0.176368\n",
      "A                        0.069174\n",
      "L                        0.061265\n",
      "...                           ...\n",
      "N_ Laos                  0.000000\n",
      "N_ Haiti                 0.000000\n",
      "N_ Hong                  0.000000\n",
      "B_ Never-worked          0.000000\n",
      "B_ Without-pay           0.000000\n",
      "\n",
      "[107 rows x 1 columns]\n"
     ]
    }
   ],
   "source": [
    "# Bagging\n",
    "bag = BaggingClassifier(base_estimator=clsfr2, n_estimators=100, random_state=42)\n",
    "bag = bag.fit(x_train, y_train)\n",
    "\n",
    "pred3 = bag.predict(x_test)\n",
    "pred_prob3 = bag.predict_proba(x_test)[:,1]\n",
    "\n",
    "print(confusion_matrix(y_test, pred3))\n",
    "print(\"Accuracy\", accuracy_score(y_test, pred3))\n",
    "print(\"Auc Score Prob\", roc_auc_score(y_test, pred_prob3))\n",
    "print(\"Recall\", recall_score(y_test, pred3))\n",
    "print(\"Precission\", precision_score(y_test, pred3))\n",
    "print(\"F1 Score\", f1_score(y_test, pred3))\n",
    "\n",
    "featureimp = np.mean([tree.feature_importances_ for tree in bag.estimators_], axis=0)\n",
    "\n",
    "featureimpo = pd.DataFrame(featureimp, index=x_train.columns, columns=[\"importance\"]).sort_values(\"importance\",\n",
    "                                                                                                 ascending=False)\n",
    "\n",
    "print(featureimpo)\n"
   ]
  },
  {
   "cell_type": "code",
   "execution_count": 50,
   "metadata": {},
   "outputs": [
    {
     "name": "stdout",
     "output_type": "stream",
     "text": [
      "[[4427  333]\n",
      " [ 625  880]]\n",
      "Accuracy: 0.8470869912210695\n",
      "AUC Score: 0.7573798123900723\n",
      "AUC Score prob: 0.8943770066166001\n",
      "Precision: 0.7254740313272877\n",
      "Recall: 0.584717607973422\n",
      "F1 Score: 0.6475349521707138\n",
      "                                 importance\n",
      "C                              1.679253e-01\n",
      "A                              1.563202e-01\n",
      "M                              9.181854e-02\n",
      "K                              7.642381e-02\n",
      "F_ Married-civ-spouse          6.303041e-02\n",
      "...                                     ...\n",
      "G_ Armed-Forces                6.274075e-05\n",
      "N_ Laos                        5.509713e-05\n",
      "N_ Outlying-US(Guam-USVI-etc)  4.737133e-05\n",
      "N_ Honduras                    3.371500e-05\n",
      "B_ Never-worked                4.696468e-07\n",
      "\n",
      "[107 rows x 1 columns]\n"
     ]
    }
   ],
   "source": [
    "# Random Forest\n",
    "frst = RandomForestClassifier(n_estimators=100, max_features=4)\n",
    "frst = frst.fit(x_train, y_train)\n",
    "\n",
    "pred4 = frst.predict(x_test)\n",
    "pred_prob4 = frst.predict_proba(x_test)[:,1]\n",
    "\n",
    "print(confusion_matrix(y_test, pred4))\n",
    "print(\"Accuracy:\", accuracy_score(y_test, pred4))\n",
    "print (\"AUC Score:\", roc_auc_score(y_test, pred4))\n",
    "print (\"AUC Score prob:\", roc_auc_score(y_test, pred_prob4))\n",
    "print (\"Precision:\", precision_score(y_test, pred4))\n",
    "print (\"Recall:\", recall_score(y_test, pred4))\n",
    "print (\"F1 Score:\", f1_score(y_test, pred4))\n",
    "\n",
    "feature_importances = pd.DataFrame(frst.feature_importances_,\n",
    "                                   index = x_train.columns,\n",
    "                                    columns=['importance']).sort_values('importance', ascending=False)\n",
    "\n",
    "print(feature_importances)\n"
   ]
  },
  {
   "cell_type": "code",
   "execution_count": 51,
   "metadata": {},
   "outputs": [
    {
     "name": "stdout",
     "output_type": "stream",
     "text": [
      "[[4492  268]\n",
      " [ 569  936]]\n",
      "Accuracy: 0.8664006384676776\n",
      "AUC Score: 0.7828121946453\n",
      "AUC Score prob: 0.9205573857449956\n",
      "Precision: 0.7774086378737541\n",
      "Recall: 0.6219269102990034\n",
      "F1 Score: 0.6910299003322259\n"
     ]
    }
   ],
   "source": [
    "# Adaptive Boosting\n",
    "abc = AdaBoostClassifier(n_estimators=100, random_state=42)\n",
    "abc = abc.fit(x_train, y_train)\n",
    "\n",
    "pred5 = abc.predict(x_test)\n",
    "pred_prob5 = abc.predict_proba(x_test)[:,1]\n",
    "\n",
    "print(confusion_matrix(y_test, pred5))\n",
    "print(\"Accuracy:\", accuracy_score(y_test, pred5))\n",
    "print (\"AUC Score:\", roc_auc_score(y_test, pred5))\n",
    "print (\"AUC Score prob:\", roc_auc_score(y_test, pred_prob5))\n",
    "print (\"Precision:\", precision_score(y_test, pred5))\n",
    "print (\"Recall:\", recall_score(y_test, pred5))\n",
    "print (\"F1 Score:\", f1_score(y_test, pred5))\n",
    "\n",
    "feature_importances = pd.DataFrame(abc.feature_importances_,\n",
    "                                   index = x_train.columns,\n",
    "                                    columns=['importance']).sort_values('importance', ascending=False)"
   ]
  },
  {
   "cell_type": "code",
   "execution_count": 52,
   "metadata": {},
   "outputs": [
    {
     "name": "stdout",
     "output_type": "stream",
     "text": [
      "[[4529  231]\n",
      " [ 604  901]]\n",
      "Accuracy: 0.8667198723064645\n",
      "AUC Score: 0.7750708422904045\n",
      "AUC Score prob: 0.9208584829280549\n",
      "Precision: 0.7959363957597173\n",
      "Recall: 0.598671096345515\n",
      "F1 Score: 0.683352294273796\n",
      "                       importance\n",
      "F_ Married-civ-spouse    0.396344\n",
      "E                        0.196710\n",
      "K                        0.194042\n",
      "L                        0.061476\n",
      "A                        0.052466\n",
      "...                           ...\n",
      "N_ China                 0.000000\n",
      "N_ Columbia              0.000000\n",
      "N_ Cuba                  0.000000\n",
      "N_ Dominican-Republic    0.000000\n",
      "I_ Black                 0.000000\n",
      "\n",
      "[107 rows x 1 columns]\n"
     ]
    }
   ],
   "source": [
    "# Gradient Boosting\n",
    "grd = GradientBoostingClassifier(n_estimators=100, random_state=42)\n",
    "grd = grd.fit(x_train, y_train)\n",
    "\n",
    "pred6 = grd.predict(x_test)\n",
    "pred_prob6 = grd.predict_proba(x_test)[:,1]\n",
    "\n",
    "print(confusion_matrix(y_test, pred6))\n",
    "print(\"Accuracy:\", accuracy_score(y_test, pred6))\n",
    "print (\"AUC Score:\", roc_auc_score(y_test, pred6))\n",
    "print (\"AUC Score prob:\", roc_auc_score(y_test, pred_prob6))\n",
    "print (\"Precision:\", precision_score(y_test, pred6))\n",
    "print (\"Recall:\", recall_score(y_test, pred6))\n",
    "print (\"F1 Score:\", f1_score(y_test, pred6))\n",
    "\n",
    "feature_importances = pd.DataFrame(grd.feature_importances_,\n",
    "                                   index = x_train.columns,\n",
    "                                    columns=['importance']).sort_values('importance', ascending=False)\n",
    "\n",
    "print(feature_importances)"
   ]
  },
  {
   "cell_type": "code",
   "execution_count": 61,
   "metadata": {},
   "outputs": [
    {
     "name": "stdout",
     "output_type": "stream",
     "text": [
      "[0 0 0 ... 0 0 0]\n",
      "[0 0 0 ... 0 0 0]\n",
      "[0 0 0 ... 0 0 0]\n",
      "[0 0 0 ... 0 0 0]\n",
      "[0 0 0 ... 0 0 0]\n",
      "[0 0 0 ... 0 0 0]\n"
     ]
    }
   ],
   "source": [
    "pred7 = pred2 + pred3 + pred4 + pred5 + pred6 \n",
    "print(pred2)\n",
    "print(pred3)\n",
    "print(pred4)\n",
    "print(pred5)\n",
    "print(pred6)\n",
    "print(pred7)"
   ]
  },
  {
   "cell_type": "code",
   "execution_count": 64,
   "metadata": {},
   "outputs": [
    {
     "name": "stdout",
     "output_type": "stream",
     "text": [
      "[0 0 0 ... 0 0 0]\n",
      "[[4460  300]\n",
      " [ 541  964]]\n",
      "Accuracy: 0.8657621707901038\n",
      "AUC Score: 0.7887531756888803\n",
      "Precision: 0.7626582278481012\n",
      "Recall: 0.640531561461794\n",
      "F1 Score: 0.6962802455760202\n"
     ]
    }
   ],
   "source": [
    "pred_my_ens = (pred7 > 1).astype(int)\n",
    "print(pred_my_ens)\n",
    "print(confusion_matrix(y_test, pred_my_ens))\n",
    "print(\"Accuracy:\", accuracy_score(y_test, pred_my_ens))\n",
    "print (\"AUC Score:\", roc_auc_score(y_test, pred_my_ens))\n",
    "print (\"Precision:\", precision_score(y_test, pred_my_ens))\n",
    "print (\"Recall:\", recall_score(y_test, pred_my_ens))\n",
    "print (\"F1 Score:\", f1_score(y_test, pred_my_ens))"
   ]
  }
 ],
 "metadata": {
  "kernelspec": {
   "display_name": "Python 3",
   "language": "python",
   "name": "python3"
  },
  "language_info": {
   "codemirror_mode": {
    "name": "ipython",
    "version": 3
   },
   "file_extension": ".py",
   "mimetype": "text/x-python",
   "name": "python",
   "nbconvert_exporter": "python",
   "pygments_lexer": "ipython3",
   "version": "3.8.5"
  }
 },
 "nbformat": 4,
 "nbformat_minor": 4
}
