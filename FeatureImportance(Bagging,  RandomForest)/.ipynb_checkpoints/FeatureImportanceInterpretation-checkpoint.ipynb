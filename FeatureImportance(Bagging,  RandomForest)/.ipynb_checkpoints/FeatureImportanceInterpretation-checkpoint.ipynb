{
 "cells": [
  {
   "cell_type": "code",
   "execution_count": 14,
   "metadata": {},
   "outputs": [
    {
     "name": "stdout",
     "output_type": "stream",
     "text": [
      "          A         C         E         K         L         M         O\n",
      "A  1.000000 -0.077369  0.022270  0.071350  0.058579  0.067277  0.224656\n",
      "C -0.077369  1.000000 -0.038342 -0.005941 -0.001596 -0.009567 -0.006185\n",
      "E  0.022270 -0.038342  1.000000  0.125241  0.081180  0.139487  0.326353\n",
      "K  0.071350 -0.005941  0.125241  1.000000 -0.031297  0.082815  0.221688\n",
      "L  0.058579 -0.001596  0.081180 -0.031297  1.000000  0.054575  0.147742\n",
      "M  0.067277 -0.009567  0.139487  0.082815  0.054575  1.000000  0.223298\n",
      "O  0.224656 -0.006185  0.326353  0.221688  0.147742  0.223298  1.000000\n",
      "df Shape:  (31321, 15)\n",
      "Train_x Shape:  (25056, 107)\n",
      "Train_y Shape:  (25056,)\n",
      "Test_x Shape:  (6265, 107)\n",
      "Test_y Shape:  (6265,)\n"
     ]
    },
    {
     "data": {
      "image/png": "[encoded data removed]",
      "text/plain": [
       "<Figure size 432x288 with 2 Axes>"
      ]
     },
     "metadata": {
      "needs_background": "light"
     },
     "output_type": "display_data"
    }
   ],
   "source": [
    "import pandas as pd\n",
    "import numpy as np\n",
    "from sklearn.tree import DecisionTreeClassifier # Import Decision Tree Classifier\n",
    "from sklearn.model_selection import train_test_split # Import train_test_split function\n",
    "from sklearn import metrics #Import scikit-learn metrics module for accuracy calculation\n",
    "from sklearn.metrics import roc_auc_score\n",
    "from sklearn.metrics import accuracy_score\n",
    "from sklearn.metrics import confusion_matrix\n",
    "from sklearn.metrics import precision_score\n",
    "from sklearn.metrics import recall_score\n",
    "from sklearn.metrics import f1_score\n",
    "from sklearn.ensemble import BaggingClassifier\n",
    "from sklearn.ensemble import RandomForestClassifier\n",
    "import seaborn as sns\n",
    "\n",
    "df = pd.read_csv('bench.csv', encoding='latin-1')\n",
    "\n",
    "corr = df.corr()\n",
    "sns.heatmap(corr)\n",
    "print(corr)\n",
    "\n",
    "\n",
    "df.dropna(inplace= True)\n",
    "print (\"df Shape: \", df.shape)\n",
    "df = pd.get_dummies(df)\n",
    "labels = np.array(df['O'])\n",
    "df= df.drop('O', axis = 1)\n",
    "df_list = list(df.columns)\n",
    "\n",
    "train_x, test_x, train_y, test_y = train_test_split(df, labels, test_size = 0.2, random_state = 42)\n",
    "\n",
    "print (\"Train_x Shape: \",train_x.shape)\n",
    "print (\"Train_y Shape: \", train_y.shape)\n",
    "print (\"Test_x Shape: \", test_x.shape)\n",
    "print (\"Test_y Shape: \", test_y.shape)"
   ]
  },
  {
   "cell_type": "code",
   "execution_count": 15,
   "metadata": {},
   "outputs": [
    {
     "name": "stdout",
     "output_type": "stream",
     "text": [
      "[[4421  339]\n",
      " [ 593  912]]\n",
      "Accuracy: 0.8512370311252992\n",
      "Auc Score: 0.7673807895251125\n",
      "Auc Score Prob: 0.8993675144476395\n",
      "Recall 0.6059800664451828\n",
      "Precission: 0.7290167865707434\n",
      "F1 Score: 0.6618287373004355\n",
      "                         Importance\n",
      "C                      1.592051e-01\n",
      "A                      1.508749e-01\n",
      "K                      9.192937e-02\n",
      "M                      8.406287e-02\n",
      "F_ Married-civ-spouse  6.847570e-02\n",
      "...                             ...\n",
      "N_ Laos                4.627724e-05\n",
      "D_ Preschool           4.224133e-05\n",
      "N_ Scotland            4.221801e-05\n",
      "N_ Honduras            1.713334e-05\n",
      "B_ Never-worked        4.488875e-08\n",
      "\n",
      "[107 rows x 1 columns]\n"
     ]
    }
   ],
   "source": [
    "rfc = RandomForestClassifier(n_estimators=100, max_features=10)\n",
    "rfc = rfc.fit(train_x, train_y)\n",
    "pred = rfc.predict(test_x)\n",
    "pred_porb =  rfc.predict_proba(test_x)[:,1]\n",
    "\n",
    "print(confusion_matrix(test_y, pred))\n",
    "print(\"Accuracy:\", accuracy_score(test_y, pred))\n",
    "print(\"Auc Score:\", roc_auc_score(test_y, pred))\n",
    "print(\"Auc Score Prob:\", roc_auc_score(test_y, pred_porb))\n",
    "print(\"Recall\", recall_score(test_y, pred))\n",
    "print(\"Precission:\", precision_score(test_y, pred))\n",
    "print(\"F1 Score:\", f1_score(test_y, pred))\n",
    "\n",
    "feature_imp = pd.DataFrame(rfc.feature_importances_, index=train_x.columns, columns=[\"Importance\"]).sort_values(\n",
    "                        \"Importance\", ascending=False)\n",
    "\n",
    "print(feature_imp)"
   ]
  },
  {
   "cell_type": "code",
   "execution_count": 16,
   "metadata": {},
   "outputs": [],
   "source": [
    "clsfr = DecisionTreeClassifier()\n",
    "clsfr.fit(train_x, train_y)\n",
    "\n",
    "# Predict\n",
    "pred = clsfr.predict(test_x)\n",
    "pred_prob = clsfr.predict_proba(test_x)[:,1]\n",
    "\n"
   ]
  },
  {
   "cell_type": "code",
   "execution_count": 17,
   "metadata": {},
   "outputs": [
    {
     "name": "stdout",
     "output_type": "stream",
     "text": [
      "[[4441  319]\n",
      " [ 589  916]]\n",
      "Accuracy: 0.8550678371907422\n",
      "Auc Score Prob 0.9007886177726905\n",
      "Recall: 0.6086378737541528\n",
      "Precission: 0.7417004048582996\n",
      "F1 Score: 0.6686131386861314\n",
      "                       Importance\n",
      "F_ Married-civ-spouse    0.200608\n",
      "C                        0.170212\n",
      "E                        0.111513\n",
      "A                        0.111120\n",
      "K                        0.101642\n",
      "...                           ...\n",
      "N_ Guatemala             0.000013\n",
      "N_ Scotland              0.000007\n",
      "D_ Preschool             0.000004\n",
      "N_ Laos                  0.000003\n",
      "B_ Never-worked          0.000000\n",
      "\n",
      "[107 rows x 1 columns]\n"
     ]
    }
   ],
   "source": [
    "# Model\n",
    "bag = BaggingClassifier(base_estimator=clsfr, n_estimators=100, random_state=42)\n",
    "bag = bag.fit(train_x, train_y)\n",
    "\n",
    "# Predict\n",
    "pred = bag.predict(test_x)\n",
    "pred_prob = bag.predict_proba(test_x)[:,1]\n",
    "\n",
    "# Metrics\n",
    "print(confusion_matrix(test_y, pred))\n",
    "print(\"Accuracy:\", accuracy_score(test_y, pred))\n",
    "print(\"Auc Score Prob\", roc_auc_score(test_y, pred_prob))\n",
    "print(\"Recall:\", recall_score(test_y, pred))\n",
    "print(\"Precission:\", precision_score(test_y, pred))\n",
    "print(\"F1 Score:\", f1_score(test_y, pred))\n",
    "\n",
    "# Important Features\n",
    "featimp = np.mean([tree.feature_importances_ for tree in bag.estimators_], axis=0)\n",
    "features_imp = pd.DataFrame(featimp, index=train_x.columns, columns=[\"Importance\"]).sort_values(\"Importance\", \n",
    "                                                                                               ascending=False)\n",
    "\n",
    "print(features_imp)"
   ]
  },
  {
   "cell_type": "code",
   "execution_count": null,
   "metadata": {},
   "outputs": [],
   "source": [
    "#                                        My Comments"
   ]
  },
  {
   "cell_type": "code",
   "execution_count": 18,
   "metadata": {},
   "outputs": [],
   "source": [
    "# Why F_ Married-civ-spouse  in feature importance ranks so differently ? \n",
    "\n",
    "# F ----> Categorical variable\n",
    "# Others -----> Numeric variables\n",
    "# If I have a dummy variable, the importance of this variable may be transferred to the variables   \n",
    "# in the same column."
   ]
  },
  {
   "cell_type": "code",
   "execution_count": 20,
   "metadata": {},
   "outputs": [],
   "source": [
    "# What about the E variable?\n",
    "\n",
    "# For example, there may be a high correlation between variable E and variable M.\n",
    "# In this case, my random forest model may have used M where E is not present.\n",
    "\n",
    "# Check correlation\n",
    "# 0.139487  Didn't support my thesis\n",
    "\n",
    "# When I look at the performances; Bagging Accuracy = 0.85    RandomForest Accuracy= 0.85\n",
    "# Both of them can't match 15 percent.\n",
    "# But 15% in these 2 models is not the same\n",
    "# That could be the reason"
   ]
  }
 ],
 "metadata": {
  "kernelspec": {
   "display_name": "Python 3",
   "language": "python",
   "name": "python3"
  },
  "language_info": {
   "codemirror_mode": {
    "name": "ipython",
    "version": 3
   },
   "file_extension": ".py",
   "mimetype": "text/x-python",
   "name": "python",
   "nbconvert_exporter": "python",
   "pygments_lexer": "ipython3",
   "version": "3.8.5"
  }
 },
 "nbformat": 4,
 "nbformat_minor": 4
}
