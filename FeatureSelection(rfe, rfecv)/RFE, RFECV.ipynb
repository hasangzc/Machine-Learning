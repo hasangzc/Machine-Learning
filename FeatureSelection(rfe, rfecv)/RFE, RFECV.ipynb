{
 "cells": [
  {
   "cell_type": "code",
   "execution_count": 78,
   "metadata": {},
   "outputs": [
    {
     "data": {
      "text/plain": [
       "(7043, 21)"
      ]
     },
     "execution_count": 78,
     "metadata": {},
     "output_type": "execute_result"
    }
   ],
   "source": [
    "import pandas as pd\n",
    "import numpy as np\n",
    "import matplotlib.pyplot as plt\n",
    "import seaborn as sns\n",
    "from sklearn import metrics\n",
    "import statsmodels.api as sm\n",
    "from sklearn import linear_model\n",
    "from sklearn.metrics import confusion_matrix\n",
    "from sklearn.metrics import roc_auc_score\n",
    "from sklearn.feature_selection import RFE\n",
    "from sklearn.feature_selection import RFECV\n",
    "from sklearn.model_selection import train_test_split\n",
    "from sklearn.linear_model import LinearRegression\n",
    "\n",
    "df = pd.read_csv(\"WA_Fn-UseC_-Telco-Customer-Churn.csv\")\n",
    "df.shape\n",
    "df.shape"
   ]
  },
  {
   "cell_type": "code",
   "execution_count": 79,
   "metadata": {},
   "outputs": [
    {
     "data": {
      "text/html": [
       "<div>\n",
       "<style scoped>\n",
       "    .dataframe tbody tr th:only-of-type {\n",
       "        vertical-align: middle;\n",
       "    }\n",
       "\n",
       "    .dataframe tbody tr th {\n",
       "        vertical-align: top;\n",
       "    }\n",
       "\n",
       "    .dataframe thead th {\n",
       "        text-align: right;\n",
       "    }\n",
       "</style>\n",
       "<table border=\"1\" class=\"dataframe\">\n",
       "  <thead>\n",
       "    <tr style=\"text-align: right;\">\n",
       "      <th></th>\n",
       "      <th>customerID</th>\n",
       "      <th>gender</th>\n",
       "      <th>SeniorCitizen</th>\n",
       "      <th>Partner</th>\n",
       "      <th>Dependents</th>\n",
       "      <th>tenure</th>\n",
       "      <th>PhoneService</th>\n",
       "      <th>MultipleLines</th>\n",
       "      <th>InternetService</th>\n",
       "      <th>OnlineSecurity</th>\n",
       "      <th>OnlineBackup</th>\n",
       "      <th>DeviceProtection</th>\n",
       "      <th>TechSupport</th>\n",
       "      <th>StreamingTV</th>\n",
       "      <th>StreamingMovies</th>\n",
       "      <th>Contract</th>\n",
       "      <th>PaperlessBilling</th>\n",
       "      <th>PaymentMethod</th>\n",
       "      <th>MonthlyCharges</th>\n",
       "      <th>TotalCharges</th>\n",
       "      <th>Churn</th>\n",
       "    </tr>\n",
       "  </thead>\n",
       "  <tbody>\n",
       "    <tr>\n",
       "      <th>0</th>\n",
       "      <td>7590-VHVEG</td>\n",
       "      <td>Female</td>\n",
       "      <td>0</td>\n",
       "      <td>Yes</td>\n",
       "      <td>No</td>\n",
       "      <td>1</td>\n",
       "      <td>No</td>\n",
       "      <td>No phone service</td>\n",
       "      <td>DSL</td>\n",
       "      <td>No</td>\n",
       "      <td>Yes</td>\n",
       "      <td>No</td>\n",
       "      <td>No</td>\n",
       "      <td>No</td>\n",
       "      <td>No</td>\n",
       "      <td>Month-to-month</td>\n",
       "      <td>Yes</td>\n",
       "      <td>Electronic check</td>\n",
       "      <td>29.85</td>\n",
       "      <td>29.85</td>\n",
       "      <td>No</td>\n",
       "    </tr>\n",
       "    <tr>\n",
       "      <th>1</th>\n",
       "      <td>5575-GNVDE</td>\n",
       "      <td>Male</td>\n",
       "      <td>0</td>\n",
       "      <td>No</td>\n",
       "      <td>No</td>\n",
       "      <td>34</td>\n",
       "      <td>Yes</td>\n",
       "      <td>No</td>\n",
       "      <td>DSL</td>\n",
       "      <td>Yes</td>\n",
       "      <td>No</td>\n",
       "      <td>Yes</td>\n",
       "      <td>No</td>\n",
       "      <td>No</td>\n",
       "      <td>No</td>\n",
       "      <td>One year</td>\n",
       "      <td>No</td>\n",
       "      <td>Mailed check</td>\n",
       "      <td>56.95</td>\n",
       "      <td>1889.5</td>\n",
       "      <td>No</td>\n",
       "    </tr>\n",
       "    <tr>\n",
       "      <th>2</th>\n",
       "      <td>3668-QPYBK</td>\n",
       "      <td>Male</td>\n",
       "      <td>0</td>\n",
       "      <td>No</td>\n",
       "      <td>No</td>\n",
       "      <td>2</td>\n",
       "      <td>Yes</td>\n",
       "      <td>No</td>\n",
       "      <td>DSL</td>\n",
       "      <td>Yes</td>\n",
       "      <td>Yes</td>\n",
       "      <td>No</td>\n",
       "      <td>No</td>\n",
       "      <td>No</td>\n",
       "      <td>No</td>\n",
       "      <td>Month-to-month</td>\n",
       "      <td>Yes</td>\n",
       "      <td>Mailed check</td>\n",
       "      <td>53.85</td>\n",
       "      <td>108.15</td>\n",
       "      <td>Yes</td>\n",
       "    </tr>\n",
       "    <tr>\n",
       "      <th>3</th>\n",
       "      <td>7795-CFOCW</td>\n",
       "      <td>Male</td>\n",
       "      <td>0</td>\n",
       "      <td>No</td>\n",
       "      <td>No</td>\n",
       "      <td>45</td>\n",
       "      <td>No</td>\n",
       "      <td>No phone service</td>\n",
       "      <td>DSL</td>\n",
       "      <td>Yes</td>\n",
       "      <td>No</td>\n",
       "      <td>Yes</td>\n",
       "      <td>Yes</td>\n",
       "      <td>No</td>\n",
       "      <td>No</td>\n",
       "      <td>One year</td>\n",
       "      <td>No</td>\n",
       "      <td>Bank transfer (automatic)</td>\n",
       "      <td>42.30</td>\n",
       "      <td>1840.75</td>\n",
       "      <td>No</td>\n",
       "    </tr>\n",
       "    <tr>\n",
       "      <th>4</th>\n",
       "      <td>9237-HQITU</td>\n",
       "      <td>Female</td>\n",
       "      <td>0</td>\n",
       "      <td>No</td>\n",
       "      <td>No</td>\n",
       "      <td>2</td>\n",
       "      <td>Yes</td>\n",
       "      <td>No</td>\n",
       "      <td>Fiber optic</td>\n",
       "      <td>No</td>\n",
       "      <td>No</td>\n",
       "      <td>No</td>\n",
       "      <td>No</td>\n",
       "      <td>No</td>\n",
       "      <td>No</td>\n",
       "      <td>Month-to-month</td>\n",
       "      <td>Yes</td>\n",
       "      <td>Electronic check</td>\n",
       "      <td>70.70</td>\n",
       "      <td>151.65</td>\n",
       "      <td>Yes</td>\n",
       "    </tr>\n",
       "  </tbody>\n",
       "</table>\n",
       "</div>"
      ],
      "text/plain": [
       "   customerID  gender  SeniorCitizen Partner Dependents  ...  PaperlessBilling              PaymentMethod MonthlyCharges TotalCharges Churn\n",
       "0  7590-VHVEG  Female              0     Yes         No  ...               Yes           Electronic check          29.85        29.85    No\n",
       "1  5575-GNVDE    Male              0      No         No  ...                No               Mailed check          56.95       1889.5    No\n",
       "2  3668-QPYBK    Male              0      No         No  ...               Yes               Mailed check          53.85       108.15   Yes\n",
       "3  7795-CFOCW    Male              0      No         No  ...                No  Bank transfer (automatic)          42.30      1840.75    No\n",
       "4  9237-HQITU  Female              0      No         No  ...               Yes           Electronic check          70.70       151.65   Yes\n",
       "\n",
       "[5 rows x 21 columns]"
      ]
     },
     "execution_count": 79,
     "metadata": {},
     "output_type": "execute_result"
    }
   ],
   "source": [
    "df.head()"
   ]
  },
  {
   "cell_type": "code",
   "execution_count": 80,
   "metadata": {},
   "outputs": [
    {
     "data": {
      "text/plain": [
       "(7043, 21)"
      ]
     },
     "execution_count": 80,
     "metadata": {},
     "output_type": "execute_result"
    }
   ],
   "source": [
    "df[\"TotalCharges\"] = pd.to_numeric(df[\"TotalCharges\"], errors=\"coerce\")\n",
    "# If ‘coerce’, then invalid parsing will be set as NaN\n",
    "df.TotalCharges.fillna(value=df[\"TotalCharges\"].median(), inplace=True)\n",
    "df[\"Churn\"] = df[\"Churn\"].apply(lambda x:1 if x== \"Yes\" else 0)\n",
    "df.shape"
   ]
  },
  {
   "cell_type": "code",
   "execution_count": 81,
   "metadata": {},
   "outputs": [],
   "source": [
    "df = df.drop(\"customerID\", axis=1)\n"
   ]
  },
  {
   "cell_type": "code",
   "execution_count": 82,
   "metadata": {},
   "outputs": [
    {
     "data": {
      "text/plain": [
       "(7043, 46)"
      ]
     },
     "execution_count": 82,
     "metadata": {},
     "output_type": "execute_result"
    }
   ],
   "source": [
    "df  = pd.get_dummies(df)\n",
    "df.shape"
   ]
  },
  {
   "cell_type": "code",
   "execution_count": 83,
   "metadata": {},
   "outputs": [
    {
     "name": "stdout",
     "output_type": "stream",
     "text": [
      "Tranin Data :  (5282, 44)\n",
      "Test Data :  (1761, 44)\n",
      "                            OLS Regression Results                            \n",
      "==============================================================================\n",
      "Dep. Variable:                      y   R-squared:                       0.906\n",
      "Model:                            OLS   Adj. R-squared:                  0.905\n",
      "Method:                 Least Squares   F-statistic:                     2295.\n",
      "Date:                Sun, 31 Jan 2021   Prob (F-statistic):               0.00\n",
      "Time:                        23:23:13   Log-Likelihood:                -42073.\n",
      "No. Observations:                5282   AIC:                         8.419e+04\n",
      "Df Residuals:                    5259   BIC:                         8.434e+04\n",
      "Df Model:                          22                                         \n",
      "Covariance Type:            nonrobust                                         \n",
      "===========================================================================================================\n",
      "                                              coef    std err          t      P>|t|      [0.025      0.975]\n",
      "-----------------------------------------------------------------------------------------------------------\n",
      "const                                      -3.5811      4.663     -0.768      0.442     -12.722       5.559\n",
      "SeniorCitizen                               9.5893     27.974      0.343      0.732     -45.252      64.431\n",
      "tenure                                     59.5280      0.671     88.757      0.000      58.213      60.843\n",
      "Churn                                    -164.9259     25.741     -6.407      0.000    -215.389    -114.462\n",
      "gender_Female                              -5.2504      9.872     -0.532      0.595     -24.604      14.103\n",
      "gender_Male                                 1.6692      9.930      0.168      0.867     -17.797      21.136\n",
      "Partner_No                                -16.3326     11.685     -1.398      0.162     -39.241       6.576\n",
      "Partner_Yes                                12.7514     12.146      1.050      0.294     -11.059      36.562\n",
      "Dependents_No                              17.2368     12.415      1.388      0.165      -7.102      41.576\n",
      "Dependents_Yes                            -20.8179     12.732     -1.635      0.102     -45.777       4.142\n",
      "PhoneService_No                          -210.2612     11.609    -18.112      0.000    -233.020    -187.502\n",
      "PhoneService_Yes                          206.6801      9.835     21.015      0.000     187.399     225.961\n",
      "MultipleLines_No                          -32.4211     12.032     -2.695      0.007     -56.008      -8.834\n",
      "MultipleLines_No phone service           -210.2612     11.609    -18.112      0.000    -233.020    -187.502\n",
      "MultipleLines_Yes                         239.1013     13.077     18.284      0.000     213.464     264.738\n",
      "InternetService_DSL                      -344.3167     13.400    -25.696      0.000    -370.586    -318.047\n",
      "InternetService_Fiber optic               543.1930     14.479     37.515      0.000     514.808     571.578\n",
      "InternetService_No                       -202.4574      3.032    -66.766      0.000    -208.402    -196.513\n",
      "OnlineSecurity_No                         -87.4970     12.707     -6.886      0.000    -112.408     -62.586\n",
      "OnlineSecurity_No internet service       -202.4574      3.032    -66.766      0.000    -208.402    -196.513\n",
      "OnlineSecurity_Yes                        286.3733     13.094     21.870      0.000     260.703     312.044\n",
      "OnlineBackup_No                          -129.4245     11.805    -10.964      0.000    -152.567    -106.282\n",
      "OnlineBackup_No internet service         -202.4574      3.032    -66.766      0.000    -208.402    -196.513\n",
      "OnlineBackup_Yes                          328.3008     12.368     26.544      0.000     304.054     352.548\n",
      "DeviceProtection_No                       -91.9469     12.430     -7.397      0.000    -116.314     -67.580\n",
      "DeviceProtection_No internet service     -202.4574      3.032    -66.766      0.000    -208.402    -196.513\n",
      "DeviceProtection_Yes                      290.8232     12.627     23.031      0.000     266.068     315.578\n",
      "TechSupport_No                            -85.2995     13.198     -6.463      0.000    -111.174     -59.425\n",
      "TechSupport_No internet service          -202.4574      3.032    -66.766      0.000    -208.402    -196.513\n",
      "TechSupport_Yes                           284.1758     13.243     21.459      0.000     258.215     310.137\n",
      "StreamingTV_No                           -126.3873     12.782     -9.888      0.000    -151.445    -101.329\n",
      "StreamingTV_No internet service          -202.4574      3.032    -66.766      0.000    -208.402    -196.513\n",
      "StreamingTV_Yes                           325.2636     12.963     25.092      0.000     299.851     350.676\n",
      "StreamingMovies_No                       -127.0403     12.750     -9.964      0.000    -152.035    -102.046\n",
      "StreamingMovies_No internet service      -202.4574      3.032    -66.766      0.000    -208.402    -196.513\n",
      "StreamingMovies_Yes                       325.9166     12.918     25.230      0.000     300.592     351.241\n",
      "Contract_Month-to-month                    66.9060     19.262      3.473      0.001      29.144     104.667\n",
      "Contract_One year                          63.1129     16.602      3.802      0.000      30.566      95.659\n",
      "Contract_Two year                        -133.6000     20.875     -6.400      0.000    -174.524     -92.675\n",
      "PaperlessBilling_No                        -2.2413     10.972     -0.204      0.838     -23.751      19.268\n",
      "PaperlessBilling_Yes                       -1.3398     11.122     -0.120      0.904     -23.144      20.464\n",
      "PaymentMethod_Bank transfer (automatic)   -60.1727     18.241     -3.299      0.001     -95.933     -24.413\n",
      "PaymentMethod_Credit card (automatic)     -17.5498     18.262     -0.961      0.337     -53.351      18.251\n",
      "PaymentMethod_Electronic check           -105.3733     17.558     -6.002      0.000    -139.794     -70.953\n",
      "PaymentMethod_Mailed check                179.5147     19.244      9.328      0.000     141.789     217.241\n",
      "==============================================================================\n",
      "Omnibus:                       39.129   Durbin-Watson:                   2.002\n",
      "Prob(Omnibus):                  0.000   Jarque-Bera (JB):               27.379\n",
      "Skew:                           0.042   Prob(JB):                     1.13e-06\n",
      "Kurtosis:                       2.657   Cond. No.                     3.95e+16\n",
      "==============================================================================\n",
      "\n",
      "Notes:\n",
      "[1] Standard Errors assume that the covariance matrix of the errors is correctly specified.\n",
      "[2] The smallest eigenvalue is 5.59e-27. This might indicate that there are\n",
      "strong multicollinearity problems or that the design matrix is singular.\n",
      "\n",
      "\n",
      "OLS MSE: 459355.32825735776\n"
     ]
    }
   ],
   "source": [
    "# Target Variable: TotalCharges\n",
    "labels = np.array(df[\"TotalCharges\"])\n",
    "df = df.drop(\"TotalCharges\", axis=1)\n",
    "df = df.drop(\"MonthlyCharges\", axis=1)\n",
    "\n",
    "train_x, test_x, train_y, test_y = train_test_split(df, labels, test_size=0.25, shuffle=False)\n",
    "print(\"Tranin Data : \", train_x.shape)\n",
    "print(\"Test Data : \", test_x.shape)\n",
    "\n",
    "train_xc = sm.add_constant(train_x)\n",
    "test_xc = sm.add_constant(test_x)\n",
    "\n",
    "reg = sm.OLS(train_y, train_xc)\n",
    "results = reg.fit()\n",
    "\n",
    "print(results.summary())\n",
    "\n",
    "predict = results.predict(test_xc)\n",
    "\n",
    "print(\"\")\n",
    "print(\"\")\n",
    "\n",
    "print(\"OLS MSE:\", metrics.mean_squared_error(test_y, predict))"
   ]
  },
  {
   "cell_type": "code",
   "execution_count": 84,
   "metadata": {},
   "outputs": [
    {
     "name": "stdout",
     "output_type": "stream",
     "text": [
      "[False False  True False False False False False False  True  True False\n",
      "  True  True  True  True  True  True  True  True  True  True  True  True\n",
      "  True  True  True  True  True  True  True  True  True  True  True  True\n",
      "  True  True False False False False False False]\n"
     ]
    }
   ],
   "source": [
    "ols = LinearRegression()\n",
    "rfe = RFE(ols, n_features_to_select=29)\n",
    "# RFE: Automated Selection -----> Backward Selection\n",
    "train_x_rfe = rfe.fit_transform(train_x, train_y)\n",
    "print(rfe.support_)"
   ]
  },
  {
   "cell_type": "code",
   "execution_count": 86,
   "metadata": {},
   "outputs": [
    {
     "name": "stdout",
     "output_type": "stream",
     "text": [
      "(5282, 29)\n",
      "(1761, 29)\n"
     ]
    }
   ],
   "source": [
    "train_x_RFE = train_x[train_x.columns[rfe.support_]]\n",
    "test_x_RFE = test_x[test_x.columns[rfe.support_]]\n",
    "\n",
    "print(train_x_RFE.shape)\n",
    "print(test_x_RFE.shape)"
   ]
  },
  {
   "cell_type": "code",
   "execution_count": 89,
   "metadata": {},
   "outputs": [
    {
     "name": "stdout",
     "output_type": "stream",
     "text": [
      "                            OLS Regression Results                            \n",
      "==============================================================================\n",
      "Dep. Variable:                      y   R-squared:                       0.751\n",
      "Model:                            OLS   Adj. R-squared:                  0.750\n",
      "Method:                 Least Squares   F-statistic:                     1222.\n",
      "Date:                Sun, 31 Jan 2021   Prob (F-statistic):               0.00\n",
      "Time:                        23:35:33   Log-Likelihood:                -44636.\n",
      "No. Observations:                5282   AIC:                         8.930e+04\n",
      "Df Residuals:                    5268   BIC:                         8.939e+04\n",
      "Df Model:                          13                                         \n",
      "Covariance Type:            nonrobust                                         \n",
      "========================================================================================================\n",
      "                                           coef    std err          t      P>|t|      [0.025      0.975]\n",
      "--------------------------------------------------------------------------------------------------------\n",
      "const                                  1.23e+14   1.27e+15      0.097      0.923   -2.37e+15    2.61e+15\n",
      "Churn                                 -589.3089     45.914    -12.835      0.000    -679.319    -499.299\n",
      "PhoneService_No                      -4.718e+14    1.3e+15     -0.362      0.717   -3.03e+15    2.08e+15\n",
      "PhoneService_Yes                      3.975e+14    2.8e+15      0.142      0.887   -5.09e+15    5.89e+15\n",
      "MultipleLines_No phone service        8.693e+14   2.58e+15      0.337      0.736   -4.19e+15    5.93e+15\n",
      "MultipleLines_Yes                      812.0728     36.191     22.439      0.000     741.124     883.022\n",
      "InternetService_DSL                   1.244e+15   2.62e+15      0.475      0.635   -3.88e+15    6.37e+15\n",
      "InternetService_Fiber optic           1.244e+15   2.62e+15      0.475      0.635   -3.88e+15    6.37e+15\n",
      "InternetService_No                    5.239e+13   1.79e+14      0.292      0.770   -2.99e+14    4.04e+14\n",
      "OnlineSecurity_No                     1.756e+14   8.36e+14      0.210      0.834   -1.46e+15    1.81e+15\n",
      "OnlineSecurity_No internet service    8.303e+13   3.87e+14      0.215      0.830   -6.75e+14    8.41e+14\n",
      "OnlineSecurity_Yes                    1.756e+14   8.36e+14      0.210      0.834   -1.46e+15    1.81e+15\n",
      "OnlineBackup_No                       -3.06e+14   6.51e+14     -0.470      0.639   -1.58e+15    9.71e+14\n",
      "OnlineBackup_No internet service      2.223e+14   4.71e+14      0.472      0.637   -7.01e+14    1.15e+15\n",
      "OnlineBackup_Yes                      -3.06e+14   6.51e+14     -0.470      0.639   -1.58e+15    9.71e+14\n",
      "DeviceProtection_No                   1.706e+14   4.98e+14      0.342      0.732   -8.06e+14    1.15e+15\n",
      "DeviceProtection_No internet service  7.829e+13    3.1e+14      0.252      0.801    -5.3e+14    6.87e+14\n",
      "DeviceProtection_Yes                  1.706e+14   4.98e+14      0.342      0.732   -8.06e+14    1.15e+15\n",
      "TechSupport_No                       -2.882e+14   6.12e+14     -0.471      0.638   -1.49e+15    9.12e+14\n",
      "TechSupport_No internet service      -1.903e+13   3.83e+14     -0.050      0.960    -7.7e+14    7.32e+14\n",
      "TechSupport_Yes                      -2.882e+14   6.12e+14     -0.471      0.638   -1.49e+15    9.12e+14\n",
      "StreamingTV_No                       -4.639e+14   9.76e+14     -0.476      0.634   -2.38e+15    1.45e+15\n",
      "StreamingTV_No internet service       2.715e+14   5.78e+14      0.470      0.638   -8.61e+14     1.4e+15\n",
      "StreamingTV_Yes                      -4.639e+14   9.76e+14     -0.476      0.634   -2.38e+15    1.45e+15\n",
      "StreamingMovies_No                    1.255e+14   6.25e+14      0.201      0.841    -1.1e+15    1.35e+15\n",
      "StreamingMovies_No internet service  -3.109e+13   3.91e+14     -0.079      0.937   -7.98e+14    7.36e+14\n",
      "StreamingMovies_Yes                   1.255e+14   6.25e+14      0.201      0.841    -1.1e+15    1.35e+15\n",
      "Contract_Month-to-month              -1.178e+15   2.47e+15     -0.476      0.634   -6.03e+15    3.67e+15\n",
      "Contract_One year                    -1.178e+15   2.47e+15     -0.476      0.634   -6.03e+15    3.67e+15\n",
      "Contract_Two year                    -1.178e+15   2.47e+15     -0.476      0.634   -6.03e+15    3.67e+15\n",
      "==============================================================================\n",
      "Omnibus:                       33.825   Durbin-Watson:                   1.972\n",
      "Prob(Omnibus):                  0.000   Jarque-Bera (JB):               43.322\n",
      "Skew:                          -0.102   Prob(JB):                     3.91e-10\n",
      "Kurtosis:                       3.394   Cond. No.                     3.37e+16\n",
      "==============================================================================\n",
      "\n",
      "Notes:\n",
      "[1] Standard Errors assume that the covariance matrix of the errors is correctly specified.\n",
      "[2] The smallest eigenvalue is 2.42e-29. This might indicate that there are\n",
      "strong multicollinearity problems or that the design matrix is singular.\n",
      "\n",
      "\n",
      "OLS MSE: 1352329.4046922913\n"
     ]
    }
   ],
   "source": [
    "train_x_cRFE = sm.add_constant(train_x_RFE)\n",
    "test_x_cRFE = sm.add_constant(test_x_RFE)\n",
    "\n",
    "reg = sm.OLS(train_y, train_x_cRFE)\n",
    "results = reg.fit()\n",
    "\n",
    "print(results.summary())\n",
    "\n",
    "pred = results.predict(test_x_cRFE)\n",
    "\n",
    "print(\"\")\n",
    "print(\"\")\n",
    "\n",
    "print(\"OLS MSE:\", metrics.mean_squared_error(test_y, pred))\n"
   ]
  },
  {
   "cell_type": "code",
   "execution_count": 90,
   "metadata": {},
   "outputs": [
    {
     "name": "stdout",
     "output_type": "stream",
     "text": [
      "[False  True  True False False False False False False  True  True False\n",
      "  True  True  True  True  True  True  True  True  True  True  True  True\n",
      "  True  True  True  True  True  True  True  True  True  True  True  True\n",
      "  True  True False False False False  True  True]\n"
     ]
    }
   ],
   "source": [
    "ols2  = LinearRegression()\n",
    "rfe2 = RFE(ols2, n_features_to_select=32)\n",
    "train_x_rfe2 = rfe2.fit_transform(train_x, train_y)\n",
    "print(rfe2.support_)"
   ]
  },
  {
   "cell_type": "code",
   "execution_count": 91,
   "metadata": {},
   "outputs": [
    {
     "name": "stdout",
     "output_type": "stream",
     "text": [
      "(5282, 32)\n",
      "(1761, 32)\n"
     ]
    }
   ],
   "source": [
    "train_x_RFE2 = train_x[train_x.columns[rfe2.support_]]\n",
    "test_x_RFE2 = test_x[test_x.columns[rfe2.support_]]\n",
    "\n",
    "print(train_x_RFE2.shape)\n",
    "print(test_x_RFE2.shape)"
   ]
  },
  {
   "cell_type": "code",
   "execution_count": 94,
   "metadata": {},
   "outputs": [
    {
     "name": "stdout",
     "output_type": "stream",
     "text": [
      "                            OLS Regression Results                            \n",
      "==============================================================================\n",
      "Dep. Variable:                      y   R-squared:                       0.906\n",
      "Model:                            OLS   Adj. R-squared:                  0.905\n",
      "Method:                 Least Squares   F-statistic:                     3156.\n",
      "Date:                Sun, 31 Jan 2021   Prob (F-statistic):               0.00\n",
      "Time:                        23:43:04   Log-Likelihood:                -42075.\n",
      "No. Observations:                5282   AIC:                         8.418e+04\n",
      "Df Residuals:                    5265   BIC:                         8.430e+04\n",
      "Df Model:                          16                                         \n",
      "Covariance Type:            nonrobust                                         \n",
      "========================================================================================================\n",
      "                                           coef    std err          t      P>|t|      [0.025      0.975]\n",
      "--------------------------------------------------------------------------------------------------------\n",
      "const                                  -18.8282      7.548     -2.494      0.013     -33.625      -4.031\n",
      "tenure                                  59.6815      0.653     91.333      0.000      58.400      60.963\n",
      "Churn                                 -163.9500     25.674     -6.386      0.000    -214.281    -113.618\n",
      "PhoneService_No                       -204.1738     13.709    -14.894      0.000    -231.048    -177.299\n",
      "PhoneService_Yes                       185.3456     12.330     15.032      0.000     161.173     209.518\n",
      "MultipleLines_No phone service        -204.1738     13.709    -14.894      0.000    -231.048    -177.299\n",
      "MultipleLines_Yes                      273.3052     23.076     11.844      0.000     228.066     318.544\n",
      "InternetService_DSL                   -350.5458     13.253    -26.450      0.000    -376.528    -324.564\n",
      "InternetService_Fiber optic            539.6153     14.659     36.812      0.000     510.878     568.353\n",
      "InternetService_No                    -207.8977      3.471    -59.902      0.000    -214.702    -201.094\n",
      "OnlineSecurity_No                      -91.5958     12.707     -7.208      0.000    -116.507     -66.684\n",
      "OnlineSecurity_No internet service    -207.8977      3.471    -59.902      0.000    -214.702    -201.094\n",
      "OnlineSecurity_Yes                     280.6653     13.318     21.074      0.000     254.556     306.775\n",
      "OnlineBackup_No                       -134.1717     11.834    -11.338      0.000    -157.371    -110.973\n",
      "OnlineBackup_No internet service      -207.8977      3.471    -59.902      0.000    -214.702    -201.094\n",
      "OnlineBackup_Yes                       323.2412     12.665     25.521      0.000     298.412     348.071\n",
      "DeviceProtection_No                    -97.6373     12.548     -7.781      0.000    -122.237     -73.037\n",
      "DeviceProtection_No internet service  -207.8977      3.471    -59.902      0.000    -214.702    -201.094\n",
      "DeviceProtection_Yes                   286.7068     12.819     22.365      0.000     261.576     311.838\n",
      "TechSupport_No                         -89.4299     13.349     -6.699      0.000    -115.600     -63.259\n",
      "TechSupport_No internet service       -207.8977      3.471    -59.902      0.000    -214.702    -201.094\n",
      "TechSupport_Yes                        278.4994     13.342     20.874      0.000     252.344     304.655\n",
      "StreamingTV_No                        -130.9786     12.840    -10.201      0.000    -156.150    -105.807\n",
      "StreamingTV_No internet service       -207.8977      3.471    -59.902      0.000    -214.702    -201.094\n",
      "StreamingTV_Yes                        320.0481     13.160     24.320      0.000     294.249     345.847\n",
      "StreamingMovies_No                    -132.5515     12.846    -10.319      0.000    -157.734    -107.369\n",
      "StreamingMovies_No internet service   -207.8977      3.471    -59.902      0.000    -214.702    -201.094\n",
      "StreamingMovies_Yes                    321.6210     13.113     24.527      0.000     295.914     347.328\n",
      "Contract_Month-to-month                 63.2431     18.776      3.368      0.001      26.435     100.051\n",
      "Contract_One year                       58.3189     16.771      3.477      0.001      25.440      91.198\n",
      "Contract_Two year                     -140.3902     21.122     -6.647      0.000    -181.797     -98.983\n",
      "PaymentMethod_Electronic check         -64.2555     24.846     -2.586      0.010    -112.965     -15.546\n",
      "PaymentMethod_Mailed check             216.5008     27.476      7.880      0.000     162.637     270.365\n",
      "==============================================================================\n",
      "Omnibus:                       40.112   Durbin-Watson:                   2.003\n",
      "Prob(Omnibus):                  0.000   Jarque-Bera (JB):               27.892\n",
      "Skew:                           0.041   Prob(JB):                     8.78e-07\n",
      "Kurtosis:                       2.654   Cond. No.                     5.78e+16\n",
      "==============================================================================\n",
      "\n",
      "Notes:\n",
      "[1] Standard Errors assume that the covariance matrix of the errors is correctly specified.\n",
      "[2] The smallest eigenvalue is 2.61e-27. This might indicate that there are\n",
      "strong multicollinearity problems or that the design matrix is singular.\n",
      "\n",
      "\n",
      "OLS MSE: 459243.4303138436\n"
     ]
    }
   ],
   "source": [
    "train_x_cRFE2 = sm.add_constant(train_x_RFE2)\n",
    "test_x_cRFE2 = sm.add_constant(test_x_RFE2)\n",
    "\n",
    "reg = sm.OLS(train_y, train_x_cRFE2)\n",
    "results = reg.fit()\n",
    "\n",
    "print(results.summary())\n",
    "\n",
    "predict2 = results.predict(test_x_cRFE2)\n",
    "\n",
    "print(\"\")\n",
    "print(\"\")\n",
    "\n",
    "print(\"OLS MSE:\", metrics.mean_squared_error(test_y, predict2))"
   ]
  },
  {
   "cell_type": "code",
   "execution_count": 95,
   "metadata": {},
   "outputs": [
    {
     "name": "stdout",
     "output_type": "stream",
     "text": [
      "[False  True  True False False False False False False  True  True False\n",
      "  True  True  True  True  True  True  True  True  True  True  True  True\n",
      "  True  True  True  True  True  True  True  True  True  True  True  True\n",
      "  True  True False False  True False  True  True]\n"
     ]
    }
   ],
   "source": [
    "rfecv = RFECV(estimator=ols, step=1, scoring=\"neg_mean_squared_error\")\n",
    "\n",
    "train_x_rfecv = rfecv.fit_transform(train_x, train_y)\n",
    "print(rfecv.support_)"
   ]
  },
  {
   "cell_type": "code",
   "execution_count": 96,
   "metadata": {},
   "outputs": [
    {
     "data": {
      "text/plain": [
       "33"
      ]
     },
     "execution_count": 96,
     "metadata": {},
     "output_type": "execute_result"
    }
   ],
   "source": [
    "rfecv.n_features_"
   ]
  },
  {
   "cell_type": "code",
   "execution_count": 98,
   "metadata": {},
   "outputs": [
    {
     "name": "stdout",
     "output_type": "stream",
     "text": [
      "(5282, 33)\n",
      "(1761, 33)\n",
      "                            OLS Regression Results                            \n",
      "==============================================================================\n",
      "Dep. Variable:                      y   R-squared:                       0.906\n",
      "Model:                            OLS   Adj. R-squared:                  0.905\n",
      "Method:                 Least Squares   F-statistic:                     2971.\n",
      "Date:                Sun, 31 Jan 2021   Prob (F-statistic):               0.00\n",
      "Time:                        23:51:12   Log-Likelihood:                -42074.\n",
      "No. Observations:                5282   AIC:                         8.418e+04\n",
      "Df Residuals:                    5264   BIC:                         8.430e+04\n",
      "Df Model:                          17                                         \n",
      "Covariance Type:            nonrobust                                         \n",
      "===========================================================================================================\n",
      "                                              coef    std err          t      P>|t|      [0.025      0.975]\n",
      "-----------------------------------------------------------------------------------------------------------\n",
      "const                                     -14.2253      8.204     -1.734      0.083     -30.309       1.858\n",
      "tenure                                     59.7020      0.654     91.352      0.000      58.421      60.983\n",
      "Churn                                    -163.6297     25.672     -6.374      0.000    -213.958    -113.301\n",
      "PhoneService_No                          -202.6084     13.751    -14.734      0.000    -229.566    -175.651\n",
      "PhoneService_Yes                          188.3831     12.511     15.058      0.000     163.857     212.909\n",
      "MultipleLines_No phone service           -202.6084     13.751    -14.734      0.000    -229.566    -175.651\n",
      "MultipleLines_Yes                         273.1912     23.074     11.840      0.000     227.956     318.426\n",
      "InternetService_DSL                      -349.1749     13.287    -26.280      0.000    -375.222    -323.128\n",
      "InternetService_Fiber optic               541.2608     14.702     36.814      0.000     512.438     570.084\n",
      "InternetService_No                       -206.3113      3.643    -56.631      0.000    -213.453    -199.169\n",
      "OnlineSecurity_No                         -90.0876     12.750     -7.066      0.000    -115.082     -65.093\n",
      "OnlineSecurity_No internet service       -206.3113      3.643    -56.631      0.000    -213.453    -199.169\n",
      "OnlineSecurity_Yes                        282.1736     13.359     21.123      0.000     255.985     308.362\n",
      "OnlineBackup_No                          -132.7768     11.873    -11.183      0.000    -156.052    -109.502\n",
      "OnlineBackup_No internet service         -206.3113      3.643    -56.631      0.000    -213.453    -199.169\n",
      "OnlineBackup_Yes                          324.8627     12.715     25.550      0.000     299.936     349.789\n",
      "DeviceProtection_No                       -96.0062     12.599     -7.620      0.000    -120.705     -71.308\n",
      "DeviceProtection_No internet service     -206.3113      3.643    -56.631      0.000    -213.453    -199.169\n",
      "DeviceProtection_Yes                      288.0922     12.855     22.412      0.000     262.892     313.292\n",
      "TechSupport_No                            -87.8111     13.396     -6.555      0.000    -114.073     -61.549\n",
      "TechSupport_No internet service          -206.3113      3.643    -56.631      0.000    -213.453    -199.169\n",
      "TechSupport_Yes                           279.8971     13.376     20.925      0.000     253.675     306.120\n",
      "StreamingTV_No                           -129.5496     12.877    -10.060      0.000    -154.794    -104.305\n",
      "StreamingTV_No internet service          -206.3113      3.643    -56.631      0.000    -213.453    -199.169\n",
      "StreamingTV_Yes                           321.6356     13.205     24.356      0.000     295.747     347.524\n",
      "StreamingMovies_No                       -131.1014     12.884    -10.175      0.000    -156.360    -105.843\n",
      "StreamingMovies_No internet service      -206.3113      3.643    -56.631      0.000    -213.453    -199.169\n",
      "StreamingMovies_Yes                       323.1874     13.157     24.563      0.000     297.394     348.981\n",
      "Contract_Month-to-month                    65.6796     18.851      3.484      0.000      28.724     102.635\n",
      "Contract_One year                          59.4948     16.790      3.544      0.000      26.580      92.410\n",
      "Contract_Two year                        -139.3996     21.131     -6.597      0.000    -180.825     -97.975\n",
      "PaymentMethod_Bank transfer (automatic)   -41.6146     29.083     -1.431      0.153     -98.629      15.400\n",
      "PaymentMethod_Electronic check            -85.3695     28.896     -2.954      0.003    -142.017     -28.722\n",
      "PaymentMethod_Mailed check                195.7627     31.062      6.302      0.000     134.869     256.656\n",
      "==============================================================================\n",
      "Omnibus:                       39.475   Durbin-Watson:                   2.003\n",
      "Prob(Omnibus):                  0.000   Jarque-Bera (JB):               27.578\n",
      "Skew:                           0.042   Prob(JB):                     1.03e-06\n",
      "Kurtosis:                       2.656   Cond. No.                     5.89e+16\n",
      "==============================================================================\n",
      "\n",
      "Notes:\n",
      "[1] Standard Errors assume that the covariance matrix of the errors is correctly specified.\n",
      "[2] The smallest eigenvalue is 2.52e-27. This might indicate that there are\n",
      "strong multicollinearity problems or that the design matrix is singular.\n",
      "\n",
      "\n",
      "OLS MSE: 459504.65751654067\n"
     ]
    }
   ],
   "source": [
    "train_x_rfecv = train_x[train_x.columns[rfecv.support_]]\n",
    "test_x_rfecv = test_x[test_x.columns[rfecv.support_]]\n",
    "\n",
    "print(train_x_rfecv.shape)\n",
    "print(test_x_rfecv.shape)\n",
    "\n",
    "train_x_Crfecv = sm.add_constant(train_x_rfecv)\n",
    "test_x_Crfecv = sm.add_constant(test_x_rfecv)\n",
    "\n",
    "reg = sm.OLS(train_y, train_x_Crfecv)\n",
    "results = reg.fit()\n",
    "\n",
    "print(results.summary())\n",
    "\n",
    "predict3 = results.predict(test_x_Crfecv)\n",
    "\n",
    "print(\"\")\n",
    "print(\"\")\n",
    "\n",
    "print(\"OLS MSE:\", metrics.mean_squared_error(test_y, predict3))"
   ]
  },
  {
   "cell_type": "code",
   "execution_count": null,
   "metadata": {},
   "outputs": [],
   "source": []
  }
 ],
 "metadata": {
  "kernelspec": {
   "display_name": "Python 3",
   "language": "python",
   "name": "python3"
  },
  "language_info": {
   "codemirror_mode": {
    "name": "ipython",
    "version": 3
   },
   "file_extension": ".py",
   "mimetype": "text/x-python",
   "name": "python",
   "nbconvert_exporter": "python",
   "pygments_lexer": "ipython3",
   "version": "3.8.5"
  }
 },
 "nbformat": 4,
 "nbformat_minor": 4
}
