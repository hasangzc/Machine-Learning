{
 "cells": [
  {
   "cell_type": "code",
   "execution_count": 2,
   "metadata": {},
   "outputs": [],
   "source": [
    "import pandas as pd\n",
    "import numpy as np\n",
    "from keras.datasets import mnist\n",
    "(train_images, train_labels), (test_images, test_labels) = mnist.load_data()\n",
    "from keras import models\n",
    "from keras import layers\n",
    "from keras import optimizers\n",
    "from numpy.random import seed\n",
    "import tensorflow\n",
    "seed(1881)\n",
    "\n",
    "tensorflow.random.set_seed(2)"
   ]
  },
  {
   "cell_type": "code",
   "execution_count": 3,
   "metadata": {},
   "outputs": [
    {
     "name": "stdout",
     "output_type": "stream",
     "text": [
      "Epoch 1/5\n",
      "100/100 [==============================] - 3s 19ms/step - loss: 0.6684 - accuracy: 0.7956\n",
      "Epoch 2/5\n",
      "100/100 [==============================] - 2s 18ms/step - loss: 0.1973 - accuracy: 0.9436\n",
      "Epoch 3/5\n",
      "100/100 [==============================] - 2s 19ms/step - loss: 0.1344 - accuracy: 0.9620\n",
      "Epoch 4/5\n",
      "100/100 [==============================] - 2s 19ms/step - loss: 0.0956 - accuracy: 0.9718\n",
      "Epoch 5/5\n",
      "100/100 [==============================] - 2s 19ms/step - loss: 0.0716 - accuracy: 0.9795\n",
      "313/313 [==============================] - 1s 2ms/step - loss: 0.0805 - accuracy: 0.9759\n",
      "test_acc 0.9758999943733215\n"
     ]
    }
   ],
   "source": [
    "network = models.Sequential()\n",
    "network.add(layers.Dense(512, activation=\"relu\", input_shape=(28*28,)))\n",
    "network.add(layers.Dense(10, activation=\"softmax\"))\n",
    "\n",
    "opt = optimizers.RMSprop(learning_rate=0.001, rho=0.95, epsilon=1e-07)\n",
    "network.compile(optimizer=opt, loss=\"categorical_crossentropy\", metrics=[\"accuracy\"])\n",
    "\n",
    "train_images = train_images.reshape((60000,28*28))\n",
    "train_images = train_images.astype(\"float32\")/255\n",
    "test_images = test_images.reshape((10000, 28*28))\n",
    "test_images = test_images.astype(\"float32\")/255\n",
    "\n",
    "from keras.utils import to_categorical\n",
    "train_labels = to_categorical(train_labels)\n",
    "test_labels  = to_categorical(test_labels)\n",
    "\n",
    "network.fit(train_images, train_labels, epochs=5, batch_size=600)\n",
    "test_loss, test_acc = network.evaluate(test_images, test_labels)\n",
    "print(\"test_acc\", test_acc)"
   ]
  }
 ],
 "metadata": {
  "kernelspec": {
   "display_name": "Python 3",
   "language": "python",
   "name": "python3"
  },
  "language_info": {
   "codemirror_mode": {
    "name": "ipython",
    "version": 3
   },
   "file_extension": ".py",
   "mimetype": "text/x-python",
   "name": "python",
   "nbconvert_exporter": "python",
   "pygments_lexer": "ipython3",
   "version": "3.8.5"
  }
 },
 "nbformat": 4,
 "nbformat_minor": 4
}
