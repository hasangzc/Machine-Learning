{
 "cells": [
  {
   "cell_type": "code",
   "execution_count": 2,
   "metadata": {},
   "outputs": [
    {
     "name": "stdout",
     "output_type": "stream",
     "text": [
      "          A         C         E         K         L         M         O\n",
      "A  1.000000 -0.077369  0.022270  0.071350  0.058579  0.067277  0.224656\n",
      "C -0.077369  1.000000 -0.038342 -0.005941 -0.001596 -0.009567 -0.006185\n",
      "E  0.022270 -0.038342  1.000000  0.125241  0.081180  0.139487  0.326353\n",
      "K  0.071350 -0.005941  0.125241  1.000000 -0.031297  0.082815  0.221688\n",
      "L  0.058579 -0.001596  0.081180 -0.031297  1.000000  0.054575  0.147742\n",
      "M  0.067277 -0.009567  0.139487  0.082815  0.054575  1.000000  0.223298\n",
      "O  0.224656 -0.006185  0.326353  0.221688  0.147742  0.223298  1.000000\n",
      "df Shape:  (31321, 15)\n",
      "Train_x Shape:  (25056, 107)\n",
      "Train_y Shape:  (25056,)\n",
      "Test_x Shape:  (6265, 107)\n",
      "Test_y Shape:  (6265,)\n"
     ]
    },
    {
     "data": {
      "image/png": "[encoded data removed]",
      "text/plain": [
       "<Figure size 432x288 with 2 Axes>"
      ]
     },
     "metadata": {
      "needs_background": "light"
     },
     "output_type": "display_data"
    }
   ],
   "source": [
    "import pandas as pd\n",
    "import numpy as np\n",
    "from sklearn.model_selection import train_test_split # Import train_test_split function\n",
    "from sklearn import metrics #Import scikit-learn metrics module for accuracy calculation\n",
    "from sklearn.metrics import roc_auc_score\n",
    "from sklearn.metrics import accuracy_score\n",
    "from sklearn.metrics import confusion_matrix\n",
    "from sklearn.metrics import precision_score\n",
    "from sklearn.metrics import recall_score\n",
    "from sklearn.metrics import f1_score\n",
    "from sklearn.preprocessing import StandardScaler\n",
    "import seaborn as sns\n",
    "\n",
    "\n",
    "from keras import models\n",
    "from keras import layers\n",
    "from keras import optimizers\n",
    "import tensorflow\n",
    "\n",
    "from numpy.random import seed\n",
    "tensorflow.random.set_seed(2)\n",
    "\n",
    "df = pd.read_csv('bench.csv', encoding='latin-1')\n",
    "\n",
    "corr = df.corr()\n",
    "sns.heatmap(corr)\n",
    "print(corr)\n",
    "\n",
    "\n",
    "df.dropna(inplace= True)\n",
    "print (\"df Shape: \", df.shape)\n",
    "df = pd.get_dummies(df)\n",
    "labels = np.array(df['O'])\n",
    "df= df.drop('O', axis = 1)\n",
    "df_list = list(df.columns)\n",
    "\n",
    "train_x, test_x, train_y, test_y = train_test_split(df, labels, test_size = 0.2, random_state = 42)\n",
    "\n",
    "scaler = StandardScaler()\n",
    "scaler.fit(train_x)\n",
    "train_x = scaler.transform(train_x)\n",
    "test_x = scaler.transform(test_x)\n",
    "\n",
    "\n",
    "print (\"Train_x Shape: \",train_x.shape)\n",
    "print (\"Train_y Shape: \", train_y.shape)\n",
    "print (\"Test_x Shape: \", test_x.shape)\n",
    "print (\"Test_y Shape: \", test_y.shape)\n"
   ]
  },
  {
   "cell_type": "code",
   "execution_count": 3,
   "metadata": {},
   "outputs": [
    {
     "name": "stdout",
     "output_type": "stream",
     "text": [
      "Epoch 1/30\n",
      "783/783 [==============================] - 1s 1ms/step - loss: 0.3676 - accuracy: 0.8287\n",
      "Epoch 2/30\n",
      "783/783 [==============================] - 1s 1ms/step - loss: 0.3338 - accuracy: 0.8494\n",
      "Epoch 3/30\n",
      "783/783 [==============================] - 1s 1000us/step - loss: 0.3329 - accuracy: 0.8534\n",
      "Epoch 4/30\n",
      "783/783 [==============================] - 1s 1ms/step - loss: 0.3363 - accuracy: 0.8548\n",
      "Epoch 5/30\n",
      "783/783 [==============================] - 1s 1ms/step - loss: 0.3523 - accuracy: 0.8541\n",
      "Epoch 6/30\n",
      "783/783 [==============================] - 1s 1ms/step - loss: 0.3647 - accuracy: 0.8496\n",
      "Epoch 7/30\n",
      "783/783 [==============================] - 1s 1ms/step - loss: 0.3792 - accuracy: 0.8515\n",
      "Epoch 8/30\n",
      "783/783 [==============================] - 1s 1ms/step - loss: 0.4172 - accuracy: 0.8514\n",
      "Epoch 9/30\n",
      "783/783 [==============================] - 1s 1ms/step - loss: 0.4364 - accuracy: 0.8552\n",
      "Epoch 10/30\n",
      "783/783 [==============================] - 1s 1ms/step - loss: 0.4729 - accuracy: 0.8490\n",
      "Epoch 11/30\n",
      "783/783 [==============================] - 1s 1ms/step - loss: 0.4666 - accuracy: 0.8511\n",
      "Epoch 12/30\n",
      "783/783 [==============================] - 1s 1ms/step - loss: 0.4854 - accuracy: 0.8502\n",
      "Epoch 13/30\n",
      "783/783 [==============================] - 1s 1ms/step - loss: 0.4821 - accuracy: 0.8527\n",
      "Epoch 14/30\n",
      "783/783 [==============================] - 1s 1ms/step - loss: 0.5190 - accuracy: 0.8541\n",
      "Epoch 15/30\n",
      "783/783 [==============================] - 1s 1ms/step - loss: 0.5586 - accuracy: 0.8492\n",
      "Epoch 16/30\n",
      "783/783 [==============================] - 1s 1ms/step - loss: 0.5425 - accuracy: 0.8530\n",
      "Epoch 17/30\n",
      "783/783 [==============================] - 1s 1ms/step - loss: 0.6405 - accuracy: 0.8538\n",
      "Epoch 18/30\n",
      "783/783 [==============================] - 1s 1ms/step - loss: 0.5986 - accuracy: 0.8529\n",
      "Epoch 19/30\n",
      "783/783 [==============================] - 1s 998us/step - loss: 0.6084 - accuracy: 0.8531\n",
      "Epoch 20/30\n",
      "783/783 [==============================] - 1s 996us/step - loss: 0.8190 - accuracy: 0.8554\n",
      "Epoch 21/30\n",
      "783/783 [==============================] - 1s 1ms/step - loss: 0.6085 - accuracy: 0.8531\n",
      "Epoch 22/30\n",
      "783/783 [==============================] - 1s 962us/step - loss: 0.6642 - accuracy: 0.8499\n",
      "Epoch 23/30\n",
      "783/783 [==============================] - 1s 1ms/step - loss: 0.7826 - accuracy: 0.8496\n",
      "Epoch 24/30\n",
      "783/783 [==============================] - 1s 1ms/step - loss: 0.8404 - accuracy: 0.8511\n",
      "Epoch 25/30\n",
      "783/783 [==============================] - 1s 1ms/step - loss: 0.7604 - accuracy: 0.8505\n",
      "Epoch 26/30\n",
      "783/783 [==============================] - 1s 1ms/step - loss: 0.8068 - accuracy: 0.8496\n",
      "Epoch 27/30\n",
      "783/783 [==============================] - 1s 983us/step - loss: 0.7589 - accuracy: 0.8508\n",
      "Epoch 28/30\n",
      "783/783 [==============================] - 1s 1ms/step - loss: 0.7712 - accuracy: 0.8558\n",
      "Epoch 29/30\n",
      "783/783 [==============================] - 1s 959us/step - loss: 0.8607 - accuracy: 0.8508\n",
      "Epoch 30/30\n",
      "783/783 [==============================] - 1s 1ms/step - loss: 0.8380 - accuracy: 0.8504\n"
     ]
    },
    {
     "name": "stderr",
     "output_type": "stream",
     "text": [
      "/home/hasan/code/jupyterenvironment/lib/python3.8/site-packages/tensorflow/python/keras/engine/sequential.py:450: UserWarning: `model.predict_classes()` is deprecated and will be removed after 2021-01-01. Please use instead:* `np.argmax(model.predict(x), axis=-1)`,   if your model does multi-class classification   (e.g. if it uses a `softmax` last-layer activation).* `(model.predict(x) > 0.5).astype(\"int32\")`,   if your model does binary classification   (e.g. if it uses a `sigmoid` last-layer activation).\n",
      "  warnings.warn('`model.predict_classes()` is deprecated and '\n"
     ]
    },
    {
     "name": "stdout",
     "output_type": "stream",
     "text": [
      "[[4415  345]\n",
      " [ 584  921]]\n",
      "Accuracy: 0.8517158818834797\n",
      "Auc Score: 0.7697405706468634\n",
      "Auc Score Prob: 0.8896804070465395\n",
      "Recall 0.6119601328903654\n",
      "Precission: 0.7274881516587678\n",
      "F1 Score: 0.664741970407795\n"
     ]
    }
   ],
   "source": [
    "network = models.Sequential()\n",
    "network.add(layers.Dense(25, input_dim=107, activation=\"relu\"))\n",
    "network.add(layers.Dense(1, activation=\"sigmoid\"))\n",
    "\n",
    "opt = optimizers.RMSprop(learning_rate=0.01, epsilon=1e-07)\n",
    "network.compile(optimizer=opt, loss=\"binary_crossentropy\", metrics=[\"accuracy\"])\n",
    "\n",
    "network.fit(train_x, train_y, epochs=30, batch_size=32)\n",
    "\n",
    "nn_pred = network.predict_classes(test_x)\n",
    "nn_pred_prob = network.predict(test_x)\n",
    "\n",
    "print(confusion_matrix(test_y, nn_pred))\n",
    "print(\"Accuracy:\", accuracy_score(test_y, nn_pred))\n",
    "print(\"Auc Score:\", roc_auc_score(test_y, nn_pred))\n",
    "print(\"Auc Score Prob:\", roc_auc_score(test_y, nn_pred_prob))\n",
    "print(\"Recall\", recall_score(test_y, nn_pred))\n",
    "print(\"Precission:\", precision_score(test_y, nn_pred))\n",
    "print(\"F1 Score:\", f1_score(test_y, nn_pred))"
   ]
  }
 ],
 "metadata": {
  "kernelspec": {
   "display_name": "Python 3",
   "language": "python",
   "name": "python3"
  },
  "language_info": {
   "codemirror_mode": {
    "name": "ipython",
    "version": 3
   },
   "file_extension": ".py",
   "mimetype": "text/x-python",
   "name": "python",
   "nbconvert_exporter": "python",
   "pygments_lexer": "ipython3",
   "version": "3.8.5"
  }
 },
 "nbformat": 4,
 "nbformat_minor": 4
}
