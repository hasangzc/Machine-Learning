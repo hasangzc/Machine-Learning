{
 "cells": [
  {
   "cell_type": "code",
   "execution_count": 74,
   "metadata": {},
   "outputs": [],
   "source": [
    "import pandas as pd\n",
    "import numpy as np\n",
    "import matplotlib.pyplot as plt\n",
    "import seaborn as sns\n",
    "from sklearn.model_selection import train_test_split\n",
    "import warnings\n",
    "import statsmodels.api as sm\n",
    "from sklearn import metrics\n",
    "\n",
    "warnings.filterwarnings(\"ignore\")\n",
    "np.random.seed(1881)"
   ]
  },
  {
   "cell_type": "code",
   "execution_count": 76,
   "metadata": {},
   "outputs": [
    {
     "data": {
      "text/html": [
       "<div>\n",
       "<style scoped>\n",
       "    .dataframe tbody tr th:only-of-type {\n",
       "        vertical-align: middle;\n",
       "    }\n",
       "\n",
       "    .dataframe tbody tr th {\n",
       "        vertical-align: top;\n",
       "    }\n",
       "\n",
       "    .dataframe thead th {\n",
       "        text-align: right;\n",
       "    }\n",
       "</style>\n",
       "<table border=\"1\" class=\"dataframe\">\n",
       "  <thead>\n",
       "    <tr style=\"text-align: right;\">\n",
       "      <th></th>\n",
       "      <th>FacA</th>\n",
       "      <th>FacB</th>\n",
       "      <th>FacAB</th>\n",
       "      <th>Result</th>\n",
       "    </tr>\n",
       "  </thead>\n",
       "  <tbody>\n",
       "    <tr>\n",
       "      <th>0</th>\n",
       "      <td>56</td>\n",
       "      <td>81</td>\n",
       "      <td>4536</td>\n",
       "      <td>24000</td>\n",
       "    </tr>\n",
       "    <tr>\n",
       "      <th>1</th>\n",
       "      <td>144</td>\n",
       "      <td>91</td>\n",
       "      <td>13104</td>\n",
       "      <td>43455</td>\n",
       "    </tr>\n",
       "    <tr>\n",
       "      <th>2</th>\n",
       "      <td>140</td>\n",
       "      <td>149</td>\n",
       "      <td>20860</td>\n",
       "      <td>55234</td>\n",
       "    </tr>\n",
       "    <tr>\n",
       "      <th>3</th>\n",
       "      <td>107</td>\n",
       "      <td>60</td>\n",
       "      <td>6420</td>\n",
       "      <td>28766</td>\n",
       "    </tr>\n",
       "    <tr>\n",
       "      <th>4</th>\n",
       "      <td>80</td>\n",
       "      <td>129</td>\n",
       "      <td>10320</td>\n",
       "      <td>37205</td>\n",
       "    </tr>\n",
       "  </tbody>\n",
       "</table>\n",
       "</div>"
      ],
      "text/plain": [
       "   FacA  FacB  FacAB  Result\n",
       "0    56    81   4536   24000\n",
       "1   144    91  13104   43455\n",
       "2   140   149  20860   55234\n",
       "3   107    60   6420   28766\n",
       "4    80   129  10320   37205"
      ]
     },
     "execution_count": 76,
     "metadata": {},
     "output_type": "execute_result"
    }
   ],
   "source": [
    "df = pd.read_csv(\"multidata.csv\")\n",
    "df.head()"
   ]
  },
  {
   "cell_type": "code",
   "execution_count": 77,
   "metadata": {},
   "outputs": [
    {
     "name": "stdout",
     "output_type": "stream",
     "text": [
      "Data size: (999, 4)\n",
      "\n",
      "            FacA      FacB     FacAB    Result\n",
      "FacA    1.000000 -0.002828  0.696131  0.703105\n",
      "FacB   -0.002828  1.000000  0.687298  0.698661\n",
      "FacAB   0.696131  0.687298  1.000000  0.992209\n",
      "Result  0.703105  0.698661  0.992209  1.000000\n",
      "\n"
     ]
    },
    {
     "data": {
      "text/plain": [
       "<AxesSubplot:>"
      ]
     },
     "execution_count": 77,
     "metadata": {},
     "output_type": "execute_result"
    },
    {
     "data": {
      "image/png": "[encoded data removed]",
      "text/plain": [
       "<Figure size 432x288 with 2 Axes>"
      ]
     },
     "metadata": {
      "needs_background": "light"
     },
     "output_type": "display_data"
    }
   ],
   "source": [
    "print(\"Data size:\", df.shape)\n",
    "\n",
    "print(\"\")\n",
    "\n",
    "orr  = df.corr()\n",
    "print(corr)\n",
    "df[\"const\"] = 1\n",
    "\n",
    "print(\"\")\n",
    "\n",
    "sns.heatmap(corr)"
   ]
  },
  {
   "cell_type": "code",
   "execution_count": 78,
   "metadata": {},
   "outputs": [
    {
     "name": "stdout",
     "output_type": "stream",
     "text": [
      "                            OLS Regression Results                            \n",
      "==============================================================================\n",
      "Dep. Variable:                      y   R-squared:                       0.995\n",
      "Model:                            OLS   Adj. R-squared:                  0.995\n",
      "Method:                 Least Squares   F-statistic:                 5.150e+04\n",
      "Date:                Wed, 27 Jan 2021   Prob (F-statistic):               0.00\n",
      "Time:                        23:04:49   Log-Likelihood:                -5839.2\n",
      "No. Observations:                 749   AIC:                         1.169e+04\n",
      "Df Residuals:                     745   BIC:                         1.170e+04\n",
      "Df Model:                           3                                         \n",
      "Covariance Type:            nonrobust                                         \n",
      "==============================================================================\n",
      "                 coef    std err          t      P>|t|      [0.025      0.975]\n",
      "------------------------------------------------------------------------------\n",
      "FacA         102.8000      2.629     39.108      0.000      97.640     107.960\n",
      "FacB         102.2828      2.625     38.968      0.000      97.130     107.436\n",
      "FacAB          0.9803      0.025     39.276      0.000       0.931       1.029\n",
      "const       5687.6139    275.925     20.613      0.000    5145.931    6229.297\n",
      "==============================================================================\n",
      "Omnibus:                      542.889   Durbin-Watson:                   2.005\n",
      "Prob(Omnibus):                  0.000   Jarque-Bera (JB):               45.364\n",
      "Skew:                           0.017   Prob(JB):                     1.41e-10\n",
      "Kurtosis:                       1.795   Cond. No.                     1.42e+05\n",
      "==============================================================================\n",
      "\n",
      "Notes:\n",
      "[1] Standard Errors assume that the covariance matrix of the errors is correctly specified.\n",
      "[2] The condition number is large, 1.42e+05. This might indicate that there are\n",
      "strong multicollinearity or other numerical problems.\n",
      "\n",
      "519.8449006474685\n",
      "596.2433303539266\n"
     ]
    }
   ],
   "source": [
    "df01 = np.array(df[\"Result\"])\n",
    "df_new = df.drop(\"Result\", axis=1)\n",
    "\n",
    "\n",
    "x_train, x_test, y_train, y_test = train_test_split(df_new, df01, test_size = 0.25, shuffle=False)\n",
    "ols_predict = model.predict(x_test.values)\n",
    "\n",
    "model = sm.OLS(y_train, x_train).fit()\n",
    "predict = model.predict(x_test.values)\n",
    "\n",
    "print(model.summary())\n",
    "      \n",
    "print(\"\")\n",
    "\n",
    "print(metrics.mean_absolute_error(y_test, ols_predict))\n",
    "print(np.sqrt(metrics.mean_squared_error(y_test, ols_predict)))\n"
   ]
  },
  {
   "cell_type": "code",
   "execution_count": 80,
   "metadata": {},
   "outputs": [
    {
     "name": "stdout",
     "output_type": "stream",
     "text": [
      "                            OLS Regression Results                            \n",
      "==============================================================================\n",
      "Dep. Variable:                      y   R-squared:                       0.985\n",
      "Model:                            OLS   Adj. R-squared:                  0.985\n",
      "Method:                 Least Squares   F-statistic:                 2.494e+04\n",
      "Date:                Wed, 27 Jan 2021   Prob (F-statistic):               0.00\n",
      "Time:                        23:11:15   Log-Likelihood:                -6259.3\n",
      "No. Observations:                 749   AIC:                         1.252e+04\n",
      "Df Residuals:                     746   BIC:                         1.254e+04\n",
      "Df Model:                           2                                         \n",
      "Covariance Type:            nonrobust                                         \n",
      "==============================================================================\n",
      "                 coef    std err          t      P>|t|      [0.025      0.975]\n",
      "------------------------------------------------------------------------------\n",
      "FacA         201.9522      1.283    157.423      0.000     199.434     204.471\n",
      "FacB         201.2401      1.289    156.176      0.000     198.710     203.770\n",
      "const      -4309.3056    186.555    -23.099      0.000   -4675.541   -3943.071\n",
      "==============================================================================\n",
      "Omnibus:                        2.206   Durbin-Watson:                   2.070\n",
      "Prob(Omnibus):                  0.332   Jarque-Bera (JB):                2.281\n",
      "Skew:                           0.117   Prob(JB):                        0.320\n",
      "Kurtosis:                       2.866   Cond. No.                         723.\n",
      "==============================================================================\n",
      "\n",
      "Notes:\n",
      "[1] Standard Errors assume that the covariance matrix of the errors is correctly specified.\n",
      "\n",
      "742.1344601521739\n",
      "968.9428009277461\n"
     ]
    }
   ],
   "source": [
    "# Drop FacAB\n",
    "drop_facab_df = df_new.drop(\"FacAB\", axis=1)\n",
    "train_x, test_x, train_y, test_y = train_test_split(drop_facab_df, df01, test_size=0.25, shuffle=False)\n",
    "\n",
    "model = sm.OLS(train_y, train_x).fit()\n",
    "ols_predict = model.predict(test_x.values)\n",
    "\n",
    "print(model.summary())\n",
    "\n",
    "print(\"\")\n",
    "\n",
    "print(metrics.mean_absolute_error(test_y, ols_predict))\n",
    "print(np.sqrt(metrics.mean_squared_error(test_y, ols_predict)))"
   ]
  },
  {
   "cell_type": "code",
   "execution_count": 86,
   "metadata": {},
   "outputs": [
    {
     "name": "stdout",
     "output_type": "stream",
     "text": [
      "                            OLS Regression Results                            \n",
      "==============================================================================\n",
      "Dep. Variable:                      y   R-squared:                       0.985\n",
      "Model:                            OLS   Adj. R-squared:                  0.985\n",
      "Method:                 Least Squares   F-statistic:                 2.509e+04\n",
      "Date:                Wed, 27 Jan 2021   Prob (F-statistic):               0.00\n",
      "Time:                        23:17:31   Log-Likelihood:                -6257.1\n",
      "No. Observations:                 749   AIC:                         1.252e+04\n",
      "Df Residuals:                     746   BIC:                         1.253e+04\n",
      "Df Model:                           2                                         \n",
      "Covariance Type:            nonrobust                                         \n",
      "==============================================================================\n",
      "                 coef    std err          t      P>|t|      [0.025      0.975]\n",
      "------------------------------------------------------------------------------\n",
      "FacB           7.7671      1.788      4.344      0.000       4.257      11.277\n",
      "FacAB          1.9178      0.012    157.893      0.000       1.894       1.942\n",
      "const       1.605e+04    134.769    119.075      0.000    1.58e+04    1.63e+04\n",
      "==============================================================================\n",
      "Omnibus:                        0.525   Durbin-Watson:                   1.987\n",
      "Prob(Omnibus):                  0.769   Jarque-Bera (JB):                0.516\n",
      "Skew:                           0.064   Prob(JB):                        0.772\n",
      "Kurtosis:                       2.988   Cond. No.                     3.98e+04\n",
      "==============================================================================\n",
      "\n",
      "Notes:\n",
      "[1] Standard Errors assume that the covariance matrix of the errors is correctly specified.\n",
      "[2] The condition number is large, 3.98e+04. This might indicate that there are\n",
      "strong multicollinearity or other numerical problems.\n",
      "\n",
      "804.9881902143499\n",
      "1011.827155610229\n"
     ]
    }
   ],
   "source": [
    "# Drop FacA\n",
    "drop_faca_df = df_new.drop(\"FacA\", axis=1)\n",
    "train_x, test_x, train_y, test_y = train_test_split(drop_faca_df, df01, test_size=0.25, shuffle=False)\n",
    "\n",
    "model = sm.OLS(train_y, train_x).fit()\n",
    "ols_predict = model.predict(test_x.values)\n",
    "\n",
    "print(model.summary())\n",
    "\n",
    "print(\"\")\n",
    "\n",
    "print(metrics.mean_absolute_error(test_y, ols_predict))\n",
    "print(np.sqrt(metrics.mean_squared_error(test_y, ols_predict)))"
   ]
  },
  {
   "cell_type": "code",
   "execution_count": 85,
   "metadata": {},
   "outputs": [
    {
     "name": "stdout",
     "output_type": "stream",
     "text": [
      "                            OLS Regression Results                            \n",
      "==============================================================================\n",
      "Dep. Variable:                      y   R-squared:                       0.985\n",
      "Model:                            OLS   Adj. R-squared:                  0.985\n",
      "Method:                 Least Squares   F-statistic:                 2.521e+04\n",
      "Date:                Wed, 27 Jan 2021   Prob (F-statistic):               0.00\n",
      "Time:                        23:17:18   Log-Likelihood:                -6255.3\n",
      "No. Observations:                 749   AIC:                         1.252e+04\n",
      "Df Residuals:                     746   BIC:                         1.253e+04\n",
      "Df Model:                           2                                         \n",
      "Covariance Type:            nonrobust                                         \n",
      "==============================================================================\n",
      "                 coef    std err          t      P>|t|      [0.025      0.975]\n",
      "------------------------------------------------------------------------------\n",
      "FacA           8.4831      1.786      4.749      0.000       4.976      11.990\n",
      "FacAB          1.9140      0.012    157.030      0.000       1.890       1.938\n",
      "const       1.601e+04    135.060    118.515      0.000    1.57e+04    1.63e+04\n",
      "==============================================================================\n",
      "Omnibus:                        0.698   Durbin-Watson:                   2.008\n",
      "Prob(Omnibus):                  0.706   Jarque-Bera (JB):                0.586\n",
      "Skew:                           0.061   Prob(JB):                        0.746\n",
      "Kurtosis:                       3.063   Cond. No.                     4.00e+04\n",
      "==============================================================================\n",
      "\n",
      "Notes:\n",
      "[1] Standard Errors assume that the covariance matrix of the errors is correctly specified.\n",
      "[2] The condition number is large,  4e+04. This might indicate that there are\n",
      "strong multicollinearity or other numerical problems.\n",
      "\n",
      "832.2013372495503\n",
      "1051.2567714385689\n"
     ]
    }
   ],
   "source": [
    "# Drop FacB\n",
    "drop_facb_df = df_new.drop(\"FacB\", axis=1)\n",
    "train_x, test_x, train_y, test_y = train_test_split(drop_facb_df, df01, test_size=0.25, shuffle=False)\n",
    "\n",
    "model = sm.OLS(train_y, train_x).fit()\n",
    "ols_predict = model.predict(test_x.values)\n",
    "\n",
    "print(model.summary())\n",
    "\n",
    "print(\"\")\n",
    "\n",
    "print(metrics.mean_absolute_error(test_y, ols_predict))\n",
    "print(np.sqrt(metrics.mean_squared_error(test_y, ols_predict)))"
   ]
  },
  {
   "cell_type": "code",
   "execution_count": 92,
   "metadata": {},
   "outputs": [
    {
     "name": "stdout",
     "output_type": "stream",
     "text": [
      "                            OLS Regression Results                            \n",
      "==============================================================================\n",
      "Dep. Variable:                      y   R-squared:                       0.985\n",
      "Model:                            OLS   Adj. R-squared:                  0.985\n",
      "Method:                 Least Squares   F-statistic:                 4.898e+04\n",
      "Date:                Wed, 27 Jan 2021   Prob (F-statistic):               0.00\n",
      "Time:                        23:20:34   Log-Likelihood:                -6266.5\n",
      "No. Observations:                 749   AIC:                         1.254e+04\n",
      "Df Residuals:                     747   BIC:                         1.255e+04\n",
      "Df Model:                           1                                         \n",
      "Covariance Type:            nonrobust                                         \n",
      "==============================================================================\n",
      "                 coef    std err          t      P>|t|      [0.025      0.975]\n",
      "------------------------------------------------------------------------------\n",
      "FacAB          1.9545      0.009    221.316      0.000       1.937       1.972\n",
      "const       1.645e+04     98.226    167.509      0.000    1.63e+04    1.66e+04\n",
      "==============================================================================\n",
      "Omnibus:                        0.012   Durbin-Watson:                   1.997\n",
      "Prob(Omnibus):                  0.994   Jarque-Bera (JB):                0.050\n",
      "Skew:                          -0.006   Prob(JB):                        0.975\n",
      "Kurtosis:                       2.961   Cond. No.                     2.87e+04\n",
      "==============================================================================\n",
      "\n",
      "Notes:\n",
      "[1] Standard Errors assume that the covariance matrix of the errors is correctly specified.\n",
      "[2] The condition number is large, 2.87e+04. This might indicate that there are\n",
      "strong multicollinearity or other numerical problems.\n",
      "\n",
      "829.3970797006814\n",
      "1043.501468883022\n"
     ]
    }
   ],
   "source": [
    "# Drop FacA and FacB\n",
    "drop_faca_b_df = df_new.drop([\"FacA\", \"FacB\"], axis=1)\n",
    "train_x, test_x, train_y, test_y = train_test_split(drop_faca_b_df, df01, test_size=0.25, shuffle=False)\n",
    "\n",
    "model = sm.OLS(train_y, train_x).fit()\n",
    "ols_predict = model.predict(test_x.values)\n",
    "\n",
    "print(model.summary())\n",
    "\n",
    "print(\"\")\n",
    "\n",
    "print(metrics.mean_absolute_error(test_y, ols_predict))\n",
    "print(np.sqrt(metrics.mean_squared_error(test_y, ols_predict)))"
   ]
  }
 ],
 "metadata": {
  "kernelspec": {
   "display_name": "Python 3",
   "language": "python",
   "name": "python3"
  },
  "language_info": {
   "codemirror_mode": {
    "name": "ipython",
    "version": 3
   },
   "file_extension": ".py",
   "mimetype": "text/x-python",
   "name": "python",
   "nbconvert_exporter": "python",
   "pygments_lexer": "ipython3",
   "version": "3.8.5"
  }
 },
 "nbformat": 4,
 "nbformat_minor": 4
}
