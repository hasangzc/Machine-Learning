{
 "cells": [
  {
   "cell_type": "code",
   "execution_count": 5,
   "metadata": {},
   "outputs": [],
   "source": [
    "import pandas as pd\n",
    "import numpy as np\n",
    "import matplotlib.pyplot as plt\n",
    "import seaborn\n",
    "from sklearn.ensemble import RandomForestClassifier\n",
    "from sklearn.metrics import roc_auc_score\n",
    "from sklearn.metrics import confusion_matrix\n",
    "from sklearn.metrics import accuracy_score\n",
    "from sklearn.metrics import recall_score\n",
    "from sklearn.metrics import precision_score\n",
    "from sklearn.metrics import f1_score\n",
    "from sklearn.model_selection import train_test_split"
   ]
  },
  {
   "cell_type": "code",
   "execution_count": 7,
   "metadata": {},
   "outputs": [
    {
     "data": {
      "text/plain": [
       "Index(['Pregnancies', 'Glucose', 'BloodPressure', 'SkinThickness', 'Insulin',\n",
       "       'BMI', 'DiabetesPedigreeFunction', 'Age', 'Outcome'],\n",
       "      dtype='object')"
      ]
     },
     "execution_count": 7,
     "metadata": {},
     "output_type": "execute_result"
    }
   ],
   "source": [
    "data = pd.read_csv(\"diabetes.csv\")\n",
    "data.columns"
   ]
  },
  {
   "cell_type": "code",
   "execution_count": 8,
   "metadata": {},
   "outputs": [],
   "source": [
    "feature_cols = ['Pregnancies', 'Insulin', 'BMI', 'Age','Glucose','BloodPressure','DiabetesPedigreeFunction']\n",
    "x = data[feature_cols]\n",
    "y = data.Outcome"
   ]
  },
  {
   "cell_type": "code",
   "execution_count": 9,
   "metadata": {},
   "outputs": [],
   "source": [
    "x_train, x_test, y_train, y_test = train_test_split(x, y, test_size=0.3 ,random_state=1)"
   ]
  },
  {
   "cell_type": "code",
   "execution_count": 10,
   "metadata": {},
   "outputs": [
    {
     "data": {
      "text/plain": [
       "'[[131  15]\\n [ 36  49]]\\nAccuracy: 0.7792207792207793\\nAuc Score Prob 0.8764705882352941\\nRecall: 0.5764705882352941\\nPrecission: 0.765625\\nF1 Score: 0.6577181208053692\\n                          Importance\\nGlucose                     0.526292\\nBMI                         0.264483\\nAge                         0.107289\\nDiabetesPedigreeFunction    0.049213\\nPregnancies                 0.026514\\nBloodPressure               0.016478\\nInsulin                     0.009731\\n'"
      ]
     },
     "execution_count": 10,
     "metadata": {},
     "output_type": "execute_result"
    }
   ],
   "source": [
    "# Best Score (Bagging)\n",
    "\"\"\"[[131  15]\n",
    " [ 36  49]]\n",
    "Accuracy: 0.7792207792207793\n",
    "Auc Score Prob 0.8764705882352941\n",
    "Recall: 0.5764705882352941\n",
    "Precission: 0.765625\n",
    "F1 Score: 0.6577181208053692\n",
    "                          Importance\n",
    "Glucose                     0.526292\n",
    "BMI                         0.264483\n",
    "Age                         0.107289\n",
    "DiabetesPedigreeFunction    0.049213\n",
    "Pregnancies                 0.026514\n",
    "BloodPressure               0.016478\n",
    "Insulin                     0.009731\n",
    "\"\"\""
   ]
  },
  {
   "cell_type": "code",
   "execution_count": 13,
   "metadata": {},
   "outputs": [
    {
     "name": "stdout",
     "output_type": "stream",
     "text": [
      "[[131  15]\n",
      " [ 33  52]]\n",
      "Accuracy: 0.7922077922077922\n",
      "Auc Score: 0.7545124899274779\n",
      "Auc Score Prob: 0.8564464141821112\n",
      "Recall 0.611764705882353\n",
      "Precission: 0.7761194029850746\n",
      "F1 Score: 0.6842105263157895\n",
      "                          Importance\n",
      "Glucose                     0.282551\n",
      "BMI                         0.202243\n",
      "DiabetesPedigreeFunction    0.147016\n",
      "Age                         0.136904\n",
      "BloodPressure               0.098054\n",
      "Pregnancies                 0.076166\n",
      "Insulin                     0.057066\n"
     ]
    }
   ],
   "source": [
    "rfc = RandomForestClassifier(n_estimators=100, max_features=4)\n",
    "rfc = rfc.fit(x_train, y_train)\n",
    "pred = rfc.predict(x_test)\n",
    "pred_porb =  rfc.predict_proba(x_test)[:,1]\n",
    "\n",
    "print(confusion_matrix(y_test, pred))\n",
    "print(\"Accuracy:\", accuracy_score(y_test, pred))\n",
    "print(\"Auc Score:\", roc_auc_score(y_test, pred))\n",
    "print(\"Auc Score Prob:\", roc_auc_score(y_test, pred_porb))\n",
    "print(\"Recall\", recall_score(y_test, pred))\n",
    "print(\"Precission:\", precision_score(y_test, pred))\n",
    "print(\"F1 Score:\", f1_score(y_test, pred))\n",
    "\n",
    "feature_imp = pd.DataFrame(rfc.feature_importances_, index=x_train.columns, columns=[\"Importance\"]).sort_values(\n",
    "                        \"Importance\", ascending=False)\n",
    "\n",
    "print(feature_imp)"
   ]
  },
  {
   "cell_type": "code",
   "execution_count": 14,
   "metadata": {},
   "outputs": [
    {
     "name": "stdout",
     "output_type": "stream",
     "text": [
      "[[128  18]\n",
      " [ 32  53]]\n",
      "Accuracy: 0.7835497835497836\n",
      "Auc Score: 0.7501208702659146\n",
      "Auc Score Prob: 0.8575745366639806\n",
      "Recall 0.6235294117647059\n",
      "Precission: 0.7464788732394366\n",
      "F1 Score: 0.6794871794871796\n",
      "                          Importance\n",
      "Glucose                     0.264728\n",
      "BMI                         0.203806\n",
      "DiabetesPedigreeFunction    0.142245\n",
      "Age                         0.137626\n",
      "BloodPressure               0.101477\n",
      "Pregnancies                 0.086405\n",
      "Insulin                     0.063713\n"
     ]
    }
   ],
   "source": [
    "rfc = RandomForestClassifier(n_estimators=100, max_features=3)\n",
    "rfc = rfc.fit(x_train, y_train)\n",
    "pred = rfc.predict(x_test)\n",
    "pred_porb =  rfc.predict_proba(x_test)[:,1]\n",
    "\n",
    "print(confusion_matrix(y_test, pred))\n",
    "print(\"Accuracy:\", accuracy_score(y_test, pred))\n",
    "print(\"Auc Score:\", roc_auc_score(y_test, pred))\n",
    "print(\"Auc Score Prob:\", roc_auc_score(y_test, pred_porb))\n",
    "print(\"Recall\", recall_score(y_test, pred))\n",
    "print(\"Precission:\", precision_score(y_test, pred))\n",
    "print(\"F1 Score:\", f1_score(y_test, pred))\n",
    "\n",
    "feature_imp = pd.DataFrame(rfc.feature_importances_, index=x_train.columns, columns=[\"Importance\"]).sort_values(\n",
    "                        \"Importance\", ascending=False)\n",
    "\n",
    "print(feature_imp)"
   ]
  },
  {
   "cell_type": "code",
   "execution_count": 15,
   "metadata": {},
   "outputs": [
    {
     "name": "stdout",
     "output_type": "stream",
     "text": [
      "[[130  16]\n",
      " [ 34  51]]\n",
      "Accuracy: 0.7835497835497836\n",
      "Auc Score: 0.7452054794520548\n",
      "Auc Score Prob: 0.8638195004029009\n",
      "Recall 0.6\n",
      "Precission: 0.7611940298507462\n",
      "F1 Score: 0.6710526315789473\n",
      "                          Importance\n",
      "Glucose                     0.265864\n",
      "BMI                         0.191974\n",
      "DiabetesPedigreeFunction    0.140676\n",
      "Age                         0.138379\n",
      "BloodPressure               0.098366\n",
      "Pregnancies                 0.087953\n",
      "Insulin                     0.076788\n"
     ]
    }
   ],
   "source": [
    "rfc = RandomForestClassifier(n_estimators=100, max_features=2)\n",
    "rfc = rfc.fit(x_train, y_train)\n",
    "pred = rfc.predict(x_test)\n",
    "pred_porb =  rfc.predict_proba(x_test)[:,1]\n",
    "\n",
    "print(confusion_matrix(y_test, pred))\n",
    "print(\"Accuracy:\", accuracy_score(y_test, pred))\n",
    "print(\"Auc Score:\", roc_auc_score(y_test, pred))\n",
    "print(\"Auc Score Prob:\", roc_auc_score(y_test, pred_porb))\n",
    "print(\"Recall\", recall_score(y_test, pred))\n",
    "print(\"Precission:\", precision_score(y_test, pred))\n",
    "print(\"F1 Score:\", f1_score(y_test, pred))\n",
    "\n",
    "feature_imp = pd.DataFrame(rfc.feature_importances_, index=x_train.columns, columns=[\"Importance\"]).sort_values(\n",
    "                        \"Importance\", ascending=False)\n",
    "\n",
    "print(feature_imp)"
   ]
  }
 ],
 "metadata": {
  "kernelspec": {
   "display_name": "Python 3",
   "language": "python",
   "name": "python3"
  },
  "language_info": {
   "codemirror_mode": {
    "name": "ipython",
    "version": 3
   },
   "file_extension": ".py",
   "mimetype": "text/x-python",
   "name": "python",
   "nbconvert_exporter": "python",
   "pygments_lexer": "ipython3",
   "version": "3.8.5"
  }
 },
 "nbformat": 4,
 "nbformat_minor": 4
}
