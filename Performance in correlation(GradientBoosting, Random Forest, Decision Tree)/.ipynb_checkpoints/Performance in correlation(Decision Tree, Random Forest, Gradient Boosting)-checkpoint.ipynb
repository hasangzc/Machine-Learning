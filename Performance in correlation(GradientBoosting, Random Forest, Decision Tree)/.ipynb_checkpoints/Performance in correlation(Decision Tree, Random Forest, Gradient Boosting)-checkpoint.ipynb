{
 "cells": [
  {
   "cell_type": "code",
   "execution_count": 67,
   "metadata": {},
   "outputs": [
    {
     "name": "stdout",
     "output_type": "stream",
     "text": [
      "Data Shape: (768, 10)\n",
      "['Pregnancies', 'Glucose', 'BloodPressure', 'SkinThickness', 'Insulin', 'BMI', 'DiabetesPedigreeFunction', 'Age', 'Glucose2']\n",
      "Data Shape: (768, 9)\n"
     ]
    },
    {
     "data": {
      "image/png": "[encoded data removed]",
      "text/plain": [
       "<Figure size 432x288 with 2 Axes>"
      ]
     },
     "metadata": {},
     "output_type": "display_data"
    }
   ],
   "source": [
    "import pandas as pd\n",
    "import numpy as np\n",
    "import matplotlib.pyplot as plt\n",
    "from matplotlib import pylab\n",
    "import seaborn as sns\n",
    "from sklearn import metrics\n",
    "from sklearn.metrics import accuracy_score\n",
    "from sklearn.metrics import roc_auc_score\n",
    "from sklearn.metrics import recall_score\n",
    "from sklearn.metrics import precision_score\n",
    "from sklearn.metrics import confusion_matrix\n",
    "from sklearn.metrics import f1_score\n",
    "from sklearn.model_selection import train_test_split\n",
    "from sklearn.tree import DecisionTreeClassifier\n",
    "from sklearn.ensemble import GradientBoostingClassifier\n",
    "from sklearn.ensemble import RandomForestClassifier\n",
    "import warnings\n",
    "warnings.filterwarnings(\"ignore\")\n",
    "import math\n",
    "import random\n",
    "sns.set_style(\"darkgrid\")\n",
    "\n",
    "np.random.seed(1969)\n",
    "\n",
    "data = pd.read_csv(\"diabetes.csv\", encoding=\"latin-1\")\n",
    "\n",
    "data[\"Glucose2\"] = data[\"Glucose\"] # Important Feature \n",
    "data.dropna(inplace=True)\n",
    "print(\"Data Shape:\", data.shape)\n",
    "data = pd.get_dummies(data)\n",
    "target = np.array(data[\"Outcome\"])\n",
    "data = data.drop(\"Outcome\", axis=1)\n",
    "data_list = list(data.columns)\n",
    "print(data_list)\n",
    "\n",
    "corr = data.corr()\n",
    "sns.heatmap(corr)\n",
    "\n",
    "train_x, test_x, train_y, test_y = train_test_split(data, target, test_size = 0.2, random_state=42)\n",
    "print(\"Data Shape:\", data.shape)"
   ]
  },
  {
   "cell_type": "code",
   "execution_count": 68,
   "metadata": {},
   "outputs": [
    {
     "name": "stdout",
     "output_type": "stream",
     "text": [
      "[[76 23]\n",
      " [15 40]]\n",
      "Accuracy Score: 0.7532467532467533\n",
      "Auc Score: 0.7474747474747476\n",
      "Auc Score Prob: 0.7474747474747476\n",
      "Recall Score: 0.7272727272727273\n",
      "Precission Score: 0.6349206349206349\n",
      "F1 Score: 0.6779661016949152\n",
      "                          Importance\n",
      "Glucose                     0.270400\n",
      "BMI                         0.175202\n",
      "BloodPressure               0.128030\n",
      "Age                         0.104419\n",
      "DiabetesPedigreeFunction    0.096363\n",
      "Glucose2                    0.072016\n",
      "SkinThickness               0.061861\n",
      "Insulin                     0.055605\n",
      "Pregnancies                 0.036104\n"
     ]
    }
   ],
   "source": [
    "# Decision Tree\n",
    "clsfr = DecisionTreeClassifier()\n",
    "# Train\n",
    "clsfr = clsfr.fit(train_x, train_y)\n",
    "# Predict\n",
    "pred_tree = clsfr.predict(test_x)\n",
    "pred_prob_tree = clsfr.predict_proba(test_x)[:,1]\n",
    "\n",
    "# Metrics\n",
    "print(confusion_matrix(test_y, pred_tree))\n",
    "print(\"Accuracy Score:\", accuracy_score(test_y, pred_tree))\n",
    "print(\"Auc Score:\", roc_auc_score(test_y, pred_tree))\n",
    "print(\"Auc Score Prob:\", roc_auc_score(test_y, pred_prob_tree))\n",
    "print(\"Recall Score:\", recall_score(test_y, pred_tree))\n",
    "print(\"Precission Score:\", precision_score(test_y, pred_tree))\n",
    "print(\"F1 Score:\", f1_score(test_y, pred_tree))\n",
    "\n",
    "feature_import = pd.DataFrame(clsfr.feature_importances_, index=train_x.columns,\n",
    "                    columns=[\"Importance\"]).sort_values(\"Importance\", ascending=False)\n",
    "print(feature_import)"
   ]
  },
  {
   "cell_type": "code",
   "execution_count": 69,
   "metadata": {},
   "outputs": [
    {
     "name": "stdout",
     "output_type": "stream",
     "text": [
      "[[78 21]\n",
      " [19 36]]\n",
      "Accuracy: 0.7402597402597403\n",
      "AUC Score: 0.7212121212121212\n",
      "AUC Score prob: 0.8165289256198347\n",
      "Precision: 0.631578947368421\n",
      "Recall: 0.6545454545454545\n",
      "F1 Score: 0.6428571428571428\n",
      "                          importance\n",
      "Glucose2                    0.205899\n",
      "Glucose                     0.160971\n",
      "BMI                         0.152257\n",
      "Age                         0.122774\n",
      "DiabetesPedigreeFunction    0.109740\n",
      "BloodPressure               0.078133\n",
      "Pregnancies                 0.061417\n",
      "Insulin                     0.055883\n",
      "SkinThickness               0.052925\n"
     ]
    }
   ],
   "source": [
    "# Random Forest\n",
    "frst = RandomForestClassifier(n_estimators=100, max_features=5)\n",
    "frst = frst.fit(train_x, train_y)\n",
    "\n",
    "pred_frst = frst.predict(test_x)\n",
    "frst_pred_prob = frst.predict_proba(test_x)[:,1]\n",
    "\n",
    "print(confusion_matrix(test_y, pred_frst))\n",
    "print(\"Accuracy:\",metrics.accuracy_score(test_y, pred_frst))\n",
    "print (\"AUC Score:\", roc_auc_score(test_y, pred_frst))\n",
    "print (\"AUC Score prob:\", roc_auc_score(test_y, frst_pred_prob))\n",
    "print (\"Precision:\", precision_score(test_y, pred_frst))\n",
    "print (\"Recall:\", recall_score(test_y, pred_frst))\n",
    "print (\"F1 Score:\", f1_score(test_y, pred_frst))\n",
    "\n",
    "feature_importances = pd.DataFrame(frst.feature_importances_,\n",
    "                                  index = train_x.columns,\n",
    "                                   columns=['importance']).sort_values('importance', ascending=False)\n",
    "\n",
    "print(feature_importances)\n"
   ]
  },
  {
   "cell_type": "code",
   "execution_count": 70,
   "metadata": {},
   "outputs": [
    {
     "name": "stdout",
     "output_type": "stream",
     "text": [
      "[[78 21]\n",
      " [18 37]]\n",
      "Accuracy: 0.7467532467532467\n",
      "AUC Score: 0.7303030303030302\n",
      "AUC Score prob: 0.8082644628099173\n",
      "Precision: 0.6379310344827587\n",
      "Recall: 0.6727272727272727\n",
      "F1 Score: 0.6548672566371682\n",
      "                          importance\n",
      "Glucose2                    0.209488\n",
      "BMI                         0.186733\n",
      "Glucose                     0.180517\n",
      "Age                         0.156714\n",
      "DiabetesPedigreeFunction    0.112196\n",
      "Insulin                     0.051858\n",
      "BloodPressure               0.049658\n",
      "Pregnancies                 0.028670\n",
      "SkinThickness               0.024166\n"
     ]
    }
   ],
   "source": [
    "# Gradient Boosting\n",
    "grd = GradientBoostingClassifier(n_estimators=100, random_state=42)\n",
    "\n",
    "grd = grd.fit(train_x,train_y)\n",
    "\n",
    "#Predict the response for test dataset\n",
    "pred_grd = grd.predict(test_x)\n",
    "grd_pred_prob = grd.predict_proba(test_x)[:,1]\n",
    "\n",
    "print(confusion_matrix(test_y, pred_grd))\n",
    "print(\"Accuracy:\",metrics.accuracy_score(test_y, pred_grd))\n",
    "print (\"AUC Score:\", roc_auc_score(test_y, pred_grd))\n",
    "print (\"AUC Score prob:\", roc_auc_score(test_y, grd_pred_prob))\n",
    "print (\"Precision:\", precision_score(test_y, pred_grd))\n",
    "print (\"Recall:\", recall_score(test_y, pred_grd))\n",
    "print (\"F1 Score:\", f1_score(test_y, pred_grd))\n",
    "\n",
    "feature_importances = pd.DataFrame(grd.feature_importances_,\n",
    "                                  index = train_x.columns,\n",
    "                                   columns=['importance']).sort_values('importance', ascending=False)\n",
    "\n",
    "print(feature_importances)"
   ]
  },
  {
   "cell_type": "code",
   "execution_count": 71,
   "metadata": {},
   "outputs": [
    {
     "data": {
      "text/plain": [
       "Pregnancies                 0.129459\n",
       "Glucose                     1.000000\n",
       "BloodPressure               0.152590\n",
       "SkinThickness               0.057328\n",
       "Insulin                     0.331357\n",
       "BMI                         0.221071\n",
       "DiabetesPedigreeFunction    0.137337\n",
       "Age                         0.263514\n",
       "Glucose2                    1.000000\n",
       "Name: Glucose, dtype: float64"
      ]
     },
     "execution_count": 71,
     "metadata": {},
     "output_type": "execute_result"
    }
   ],
   "source": [
    "corr.iloc[1]"
   ]
  },
  {
   "cell_type": "code",
   "execution_count": 76,
   "metadata": {},
   "outputs": [
    {
     "name": "stdout",
     "output_type": "stream",
     "text": [
      "Data2 Shape: (768, 9)\n",
      "['Pregnancies', 'Glucose', 'BloodPressure', 'SkinThickness', 'Insulin', 'BMI', 'DiabetesPedigreeFunction', 'Age']\n",
      "Data2 Shape: (768, 8)\n"
     ]
    },
    {
     "data": {
      "image/png": "[encoded data removed]",
      "text/plain": [
       "<Figure size 432x288 with 2 Axes>"
      ]
     },
     "metadata": {},
     "output_type": "display_data"
    }
   ],
   "source": [
    "data2 = pd.read_csv(\"diabetes.csv\", encoding=\"latin-1\")\n",
    "\n",
    "data2.dropna(inplace=True)\n",
    "print(\"Data2 Shape:\", data2.shape)\n",
    "data2 = pd.get_dummies(data2)\n",
    "target2 = np.array(data2[\"Outcome\"])\n",
    "data2 = data2.drop(\"Outcome\", axis=1)\n",
    "data2_list = list(data2.columns)\n",
    "print(data2_list)\n",
    "\n",
    "corr = data2.corr()\n",
    "sns.heatmap(corr)\n",
    "\n",
    "train_x2, test_x2, train_y2, test_y2 = train_test_split(data2, target2, test_size = 0.2, random_state=42)\n",
    "print(\"Data2 Shape:\", data2.shape)"
   ]
  },
  {
   "cell_type": "code",
   "execution_count": 77,
   "metadata": {},
   "outputs": [
    {
     "name": "stdout",
     "output_type": "stream",
     "text": [
      "[[80 19]\n",
      " [18 37]]\n",
      "Accuracy Score: 0.7597402597402597\n",
      "Auc Score: 0.7404040404040404\n",
      "Auc Score Prob: 0.7404040404040404\n",
      "Recall Score: 0.6727272727272727\n",
      "Precission Score: 0.6607142857142857\n",
      "F1 Score: 0.6666666666666666\n",
      "                          Importance\n",
      "Glucose                     0.296493\n",
      "BMI                         0.182613\n",
      "BloodPressure               0.149955\n",
      "Age                         0.111891\n",
      "DiabetesPedigreeFunction    0.106507\n",
      "Insulin                     0.064336\n",
      "Pregnancies                 0.053117\n",
      "SkinThickness               0.035088\n"
     ]
    }
   ],
   "source": [
    "# Decision Tree\n",
    "clsfr2 = DecisionTreeClassifier()\n",
    "# Train\n",
    "clsfr2 = clsfr2.fit(train_x2, train_y2)\n",
    "# Predict\n",
    "pred_tree2 = clsfr2.predict(test_x2)\n",
    "pred_prob_tree2 = clsfr2.predict_proba(test_x2)[:,1]\n",
    "\n",
    "# Metrics\n",
    "print(confusion_matrix(test_y2, pred_tree2))\n",
    "print(\"Accuracy Score:\", accuracy_score(test_y2, pred_tree2))\n",
    "print(\"Auc Score:\", roc_auc_score(test_y2, pred_tree2))\n",
    "print(\"Auc Score Prob:\", roc_auc_score(test_y2, pred_prob_tree2))\n",
    "print(\"Recall Score:\", recall_score(test_y2, pred_tree2))\n",
    "print(\"Precission Score:\", precision_score(test_y2, pred_tree2))\n",
    "print(\"F1 Score:\", f1_score(test_y2, pred_tree2))\n",
    "\n",
    "feature_import2 = pd.DataFrame(clsfr2.feature_importances_, index=train_x2.columns,\n",
    "                    columns=[\"Importance\"]).sort_values(\"Importance\", ascending=False)\n",
    "print(feature_import2)\n",
    "\n",
    "\"\"\"\n",
    "Old Performance\n",
    "Accuracy Score: 0.7532467532467533\n",
    "Auc Score: 0.7474747474747476\n",
    "Auc Score Prob: 0.7474747474747476\n",
    "Recall Score: 0.7272727272727273\n",
    "Precission Score: 0.6349206349206349\n",
    "F1 Score: 0.6779661016949152\n",
    "\n",
    "\"\"\""
   ]
  },
  {
   "cell_type": "code",
   "execution_count": 78,
   "metadata": {},
   "outputs": [
    {
     "name": "stdout",
     "output_type": "stream",
     "text": [
      "[[78 21]\n",
      " [18 37]]\n",
      "Accuracy: 0.7467532467532467\n",
      "AUC Score: 0.7303030303030302\n",
      "AUC Score prob: 0.8190082644628099\n",
      "Precision: 0.6379310344827587\n",
      "Recall: 0.6727272727272727\n",
      "F1 Score: 0.6548672566371682\n",
      "                          importance\n",
      "Glucose                     0.304686\n",
      "BMI                         0.168382\n",
      "Age                         0.144090\n",
      "DiabetesPedigreeFunction    0.115443\n",
      "BloodPressure               0.087698\n",
      "SkinThickness               0.061463\n",
      "Pregnancies                 0.059794\n",
      "Insulin                     0.058443\n"
     ]
    }
   ],
   "source": [
    "# Random Forest\n",
    "frst2 = RandomForestClassifier(n_estimators=100, max_features=5)\n",
    "frst2 = frst2.fit(train_x2, train_y2)\n",
    "\n",
    "pred_frst2 = frst2.predict(test_x2)\n",
    "frst_pred_prob2 = frst2.predict_proba(test_x2)[:,1]\n",
    "\n",
    "print(confusion_matrix(test_y2, pred_frst2))\n",
    "print(\"Accuracy:\",metrics.accuracy_score(test_y2, pred_frst2))\n",
    "print (\"AUC Score:\", roc_auc_score(test_y2, pred_frst2))\n",
    "print (\"AUC Score prob:\", roc_auc_score(test_y2, frst_pred_prob2))\n",
    "print (\"Precision:\", precision_score(test_y2, pred_frst2))\n",
    "print (\"Recall:\", recall_score(test_y2, pred_frst2))\n",
    "print (\"F1 Score:\", f1_score(test_y2, pred_frst2))\n",
    "\n",
    "feature_importances2 = pd.DataFrame(frst2.feature_importances_,\n",
    "                                  index = train_x2.columns,\n",
    "                                   columns=['importance']).sort_values('importance', ascending=False)\n",
    "\n",
    "print(feature_importances2)\n",
    "\n",
    "\"\"\"\n",
    "Accuracy: 0.7402597402597403\n",
    "AUC Score: 0.7212121212121212\n",
    "AUC Score prob: 0.8165289256198347\n",
    "Precision: 0.631578947368421\n",
    "Recall: 0.6545454545454545\n",
    "F1 Score: 0.6428571428571428\n",
    "\"\"\""
   ]
  },
  {
   "cell_type": "code",
   "execution_count": 79,
   "metadata": {},
   "outputs": [
    {
     "name": "stdout",
     "output_type": "stream",
     "text": [
      "[[77 22]\n",
      " [18 37]]\n",
      "Accuracy: 0.7402597402597403\n",
      "AUC Score: 0.7252525252525254\n",
      "AUC Score prob: 0.8084481175390267\n",
      "Precision: 0.6271186440677966\n",
      "Recall: 0.6727272727272727\n",
      "F1 Score: 0.6491228070175439\n",
      "                          importance\n",
      "Glucose                     0.389621\n",
      "BMI                         0.185406\n",
      "Age                         0.156107\n",
      "DiabetesPedigreeFunction    0.112469\n",
      "Insulin                     0.053652\n",
      "BloodPressure               0.049059\n",
      "Pregnancies                 0.029574\n",
      "SkinThickness               0.024113\n"
     ]
    }
   ],
   "source": [
    "# Gradient Boosting\n",
    "grd2 = GradientBoostingClassifier(n_estimators=100, random_state=42)\n",
    "\n",
    "grd2 = grd2.fit(train_x2,train_y2)\n",
    "\n",
    "#Predict the response for test dataset\n",
    "pred_grd2 = grd2.predict(test_x2)\n",
    "grd_pred_prob2 = grd2.predict_proba(test_x2)[:,1]\n",
    "\n",
    "print(confusion_matrix(test_y2, pred_grd2))\n",
    "print(\"Accuracy:\",metrics.accuracy_score(test_y2, pred_grd2))\n",
    "print (\"AUC Score:\", roc_auc_score(test_y2, pred_grd2))\n",
    "print (\"AUC Score prob:\", roc_auc_score(test_y2, grd_pred_prob2))\n",
    "print (\"Precision:\", precision_score(test_y2, pred_grd2))\n",
    "print (\"Recall:\", recall_score(test_y2, pred_grd2))\n",
    "print (\"F1 Score:\", f1_score(test_y2, pred_grd2))\n",
    "\n",
    "feature_importances2 = pd.DataFrame(grd2.feature_importances_,\n",
    "                                  index = train_x2.columns,\n",
    "                                   columns=['importance']).sort_values('importance', ascending=False)\n",
    "\n",
    "print(feature_importances2)\n",
    "\n",
    "\"\"\"\n",
    "Old Performance\n",
    "Accuracy: 0.7467532467532467\n",
    "AUC Score: 0.7303030303030302\n",
    "AUC Score prob: 0.8082644628099173\n",
    "Precision: 0.6379310344827587\n",
    "Recall: 0.6727272727272727\n",
    "F1 Score: 0.6548672566371682\n",
    "\"\"\""
   ]
  }
 ],
 "metadata": {
  "kernelspec": {
   "display_name": "Python 3",
   "language": "python",
   "name": "python3"
  },
  "language_info": {
   "codemirror_mode": {
    "name": "ipython",
    "version": 3
   },
   "file_extension": ".py",
   "mimetype": "text/x-python",
   "name": "python",
   "nbconvert_exporter": "python",
   "pygments_lexer": "ipython3",
   "version": "3.8.5"
  }
 },
 "nbformat": 4,
 "nbformat_minor": 4
}
