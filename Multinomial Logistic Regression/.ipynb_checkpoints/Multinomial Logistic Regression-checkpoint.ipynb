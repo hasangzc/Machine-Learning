{
 "cells": [
  {
   "cell_type": "code",
   "execution_count": 2,
   "metadata": {},
   "outputs": [],
   "source": [
    "import pandas as pd\n",
    "import numpy as np\n",
    "from sklearn.model_selection import train_test_split\n",
    "from sklearn import metrics\n",
    "import statsmodels.api as sm"
   ]
  },
  {
   "cell_type": "code",
   "execution_count": 3,
   "metadata": {},
   "outputs": [],
   "source": [
    "np.random.seed(12)"
   ]
  },
  {
   "cell_type": "code",
   "execution_count": 4,
   "metadata": {},
   "outputs": [
    {
     "data": {
      "text/html": [
       "<div>\n",
       "<style scoped>\n",
       "    .dataframe tbody tr th:only-of-type {\n",
       "        vertical-align: middle;\n",
       "    }\n",
       "\n",
       "    .dataframe tbody tr th {\n",
       "        vertical-align: top;\n",
       "    }\n",
       "\n",
       "    .dataframe thead th {\n",
       "        text-align: right;\n",
       "    }\n",
       "</style>\n",
       "<table border=\"1\" class=\"dataframe\">\n",
       "  <thead>\n",
       "    <tr style=\"text-align: right;\">\n",
       "      <th></th>\n",
       "      <th>Id</th>\n",
       "      <th>RI</th>\n",
       "      <th>Na</th>\n",
       "      <th>Mg</th>\n",
       "      <th>Al</th>\n",
       "      <th>Si</th>\n",
       "      <th>K</th>\n",
       "      <th>Ca</th>\n",
       "      <th>Ba</th>\n",
       "      <th>Fe</th>\n",
       "      <th>glass-type</th>\n",
       "    </tr>\n",
       "  </thead>\n",
       "  <tbody>\n",
       "    <tr>\n",
       "      <th>0</th>\n",
       "      <td>1</td>\n",
       "      <td>1.52101</td>\n",
       "      <td>13.64</td>\n",
       "      <td>4.49</td>\n",
       "      <td>1.10</td>\n",
       "      <td>71.78</td>\n",
       "      <td>0.06</td>\n",
       "      <td>8.75</td>\n",
       "      <td>0.0</td>\n",
       "      <td>0.0</td>\n",
       "      <td>1</td>\n",
       "    </tr>\n",
       "    <tr>\n",
       "      <th>1</th>\n",
       "      <td>2</td>\n",
       "      <td>1.51761</td>\n",
       "      <td>13.89</td>\n",
       "      <td>3.60</td>\n",
       "      <td>1.36</td>\n",
       "      <td>72.73</td>\n",
       "      <td>0.48</td>\n",
       "      <td>7.83</td>\n",
       "      <td>0.0</td>\n",
       "      <td>0.0</td>\n",
       "      <td>1</td>\n",
       "    </tr>\n",
       "    <tr>\n",
       "      <th>2</th>\n",
       "      <td>3</td>\n",
       "      <td>1.51618</td>\n",
       "      <td>13.53</td>\n",
       "      <td>3.55</td>\n",
       "      <td>1.54</td>\n",
       "      <td>72.99</td>\n",
       "      <td>0.39</td>\n",
       "      <td>7.78</td>\n",
       "      <td>0.0</td>\n",
       "      <td>0.0</td>\n",
       "      <td>1</td>\n",
       "    </tr>\n",
       "    <tr>\n",
       "      <th>3</th>\n",
       "      <td>4</td>\n",
       "      <td>1.51766</td>\n",
       "      <td>13.21</td>\n",
       "      <td>3.69</td>\n",
       "      <td>1.29</td>\n",
       "      <td>72.61</td>\n",
       "      <td>0.57</td>\n",
       "      <td>8.22</td>\n",
       "      <td>0.0</td>\n",
       "      <td>0.0</td>\n",
       "      <td>1</td>\n",
       "    </tr>\n",
       "    <tr>\n",
       "      <th>4</th>\n",
       "      <td>5</td>\n",
       "      <td>1.51742</td>\n",
       "      <td>13.27</td>\n",
       "      <td>3.62</td>\n",
       "      <td>1.24</td>\n",
       "      <td>73.08</td>\n",
       "      <td>0.55</td>\n",
       "      <td>8.07</td>\n",
       "      <td>0.0</td>\n",
       "      <td>0.0</td>\n",
       "      <td>1</td>\n",
       "    </tr>\n",
       "  </tbody>\n",
       "</table>\n",
       "</div>"
      ],
      "text/plain": [
       "   Id       RI     Na    Mg    Al     Si     K    Ca   Ba   Fe  glass-type\n",
       "0   1  1.52101  13.64  4.49  1.10  71.78  0.06  8.75  0.0  0.0           1\n",
       "1   2  1.51761  13.89  3.60  1.36  72.73  0.48  7.83  0.0  0.0           1\n",
       "2   3  1.51618  13.53  3.55  1.54  72.99  0.39  7.78  0.0  0.0           1\n",
       "3   4  1.51766  13.21  3.69  1.29  72.61  0.57  8.22  0.0  0.0           1\n",
       "4   5  1.51742  13.27  3.62  1.24  73.08  0.55  8.07  0.0  0.0           1"
      ]
     },
     "execution_count": 4,
     "metadata": {},
     "output_type": "execute_result"
    }
   ],
   "source": [
    "data = pd.read_csv(\"glass.csv\")\n",
    "data.head()"
   ]
  },
  {
   "cell_type": "code",
   "execution_count": 8,
   "metadata": {},
   "outputs": [
    {
     "name": "stdout",
     "output_type": "stream",
     "text": [
      "Headers: ['Id' 'RI' 'Na' 'Mg' 'Al' 'Si' 'K' 'Ca' 'Ba' 'Fe' 'glass-type']\n",
      "Number of Observation: 214\n",
      "Number of Columns: 11\n"
     ]
    },
    {
     "data": {
      "text/plain": [
       "(214, 11)"
      ]
     },
     "execution_count": 8,
     "metadata": {},
     "output_type": "execute_result"
    }
   ],
   "source": [
    "print(\"Headers:\",data.columns.values)\n",
    "print(\"Number of Observation:\", len(data.index))\n",
    "print(\"Number of Columns:\", len(data.columns))\n",
    "data.shape"
   ]
  },
  {
   "cell_type": "code",
   "execution_count": 9,
   "metadata": {},
   "outputs": [
    {
     "data": {
      "text/plain": [
       "(214, 9)"
      ]
     },
     "execution_count": 9,
     "metadata": {},
     "output_type": "execute_result"
    }
   ],
   "source": [
    "# Target = glass-type\n",
    "labels = np.array(data[\"glass-type\"])\n",
    "data = data.drop(\"glass-type\", axis=1)\n",
    "data = data.drop(\"Id\", axis=1)\n",
    "data = np.array(data)\n",
    "data.shape"
   ]
  },
  {
   "cell_type": "code",
   "execution_count": 11,
   "metadata": {},
   "outputs": [],
   "source": [
    "train_x, test_x, train_y, test_y = train_test_split(data, labels, test_size=0.3, random_state=42)"
   ]
  },
  {
   "cell_type": "code",
   "execution_count": 13,
   "metadata": {},
   "outputs": [
    {
     "name": "stdout",
     "output_type": "stream",
     "text": [
      "[[ 1.13060924e-02 -1.16983028e-01  1.52018547e+00 -1.76786522e+00\n",
      "   6.38812083e-01  1.72843414e-02  5.38557968e-01  4.24436761e-01\n",
      "  -2.49374833e-01]\n",
      " [-9.10420862e-03 -8.55890104e-01 -4.28913391e-02  1.09454629e-01\n",
      "  -6.58804225e-01 -3.96466321e-02 -9.57709552e-02 -1.44748749e-01\n",
      "   6.92050539e-01]\n",
      " [-5.38935069e-03 -5.38740319e-02  9.11059864e-01 -3.96828602e-01\n",
      "  -4.42059428e-01 -2.26246698e-01  2.36637390e-01 -2.47735361e-01\n",
      "  -8.06786276e-02]\n",
      " [-3.06906627e-04 -1.00908617e+00 -8.07525319e-01  1.71199388e+00\n",
      "  -3.31846356e-01  7.76680590e-01 -1.47344734e-01 -1.15811905e-01\n",
      "  -5.90985853e-02]\n",
      " [-1.01241609e-02  1.23020676e+00 -3.06918251e-01 -1.22018971e-01\n",
      "   6.76837466e-01 -1.12721586e+00  9.17949614e-02 -6.33066769e-01\n",
      "  -1.85816663e-01]\n",
      " [ 1.36185344e-02  8.05626578e-01 -1.27391043e+00  4.65264284e-01\n",
      "   1.17060460e-01  5.99144263e-01 -6.23874629e-01  7.16926022e-01\n",
      "  -1.17081830e-01]]\n",
      "Train Accuracy: 0.6510067114093959\n",
      "Test Accuracy: 0.676923076923077\n"
     ]
    }
   ],
   "source": [
    "from sklearn import linear_model\n",
    "logic_reg = linear_model.LogisticRegression(max_iter=10000)\n",
    "model = logic_reg.fit(train_x, train_y)\n",
    "print(model.coef_)\n",
    "print(\"Train Accuracy:\", metrics.accuracy_score(train_y, logic_reg.predict(train_x)))\n",
    "print(\"Test Accuracy:\", metrics.accuracy_score(test_y, logic_reg.predict(test_x)))"
   ]
  },
  {
   "cell_type": "code",
   "execution_count": 15,
   "metadata": {},
   "outputs": [
    {
     "name": "stdout",
     "output_type": "stream",
     "text": [
      "[[ 8.66197266e-03 -1.43230526e-01  1.48590851e+00 -1.78372875e+00\n",
      "   5.94209292e-01  5.51778186e-03  5.09838010e-01  4.24373496e-01\n",
      "  -2.50068850e-01]\n",
      " [ 4.06121121e-04 -7.65556132e-01  3.26667284e-02  1.87404678e-01\n",
      "  -5.58385865e-01  2.01591375e-02 -1.74945743e-02 -6.33783616e-02\n",
      "   7.11497413e-01]\n",
      " [-1.07897387e-02 -1.28172813e-01  8.70163785e-01 -4.25348935e-01\n",
      "  -5.48592861e-01 -2.40501841e-01  1.82237774e-01 -2.58033827e-01\n",
      "  -8.85778721e-02]\n",
      " [-3.66515316e-03 -1.02831506e+00 -8.35145908e-01  1.68822058e+00\n",
      "  -3.72841661e-01  7.64158407e-01 -1.77055673e-01 -1.56791450e-01\n",
      "  -7.16800346e-02]\n",
      " [-2.01289899e-03  1.31126086e+00 -2.22904327e-01 -8.02721937e-02\n",
      "   8.40822539e-01 -1.10747395e+00  1.77329448e-01 -6.05500313e-01\n",
      "  -1.80438749e-01]\n",
      " [ 7.39969704e-03  7.54013668e-01 -1.33068878e+00  4.13724622e-01\n",
      "   4.47885563e-02  5.58140466e-01 -6.74854984e-01  6.59330456e-01\n",
      "  -1.20731907e-01]]\n",
      "Train Accuracy: 0.6510067114093959\n",
      "Test Accuracy: 0.6615384615384615\n"
     ]
    }
   ],
   "source": [
    "from sklearn import linear_model\n",
    "multinomial_reg = linear_model.LogisticRegression(multi_class=\"multinomial\", solver=\"newton-cg\")\n",
    "model = multinomial_reg.fit(train_x, train_y)\n",
    "print(model.coef_)\n",
    "print(\"Train Accuracy:\", metrics.accuracy_score(train_y, multinomial_reg.predict(train_x)))\n",
    "print(\"Test Accuracy:\", metrics.accuracy_score(test_y, multinomial_reg.predict(test_x)))"
   ]
  }
 ],
 "metadata": {
  "kernelspec": {
   "display_name": "Python 3",
   "language": "python",
   "name": "python3"
  },
  "language_info": {
   "codemirror_mode": {
    "name": "ipython",
    "version": 3
   },
   "file_extension": ".py",
   "mimetype": "text/x-python",
   "name": "python",
   "nbconvert_exporter": "python",
   "pygments_lexer": "ipython3",
   "version": "3.8.5"
  }
 },
 "nbformat": 4,
 "nbformat_minor": 4
}
