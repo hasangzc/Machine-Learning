{
 "cells": [
  {
   "cell_type": "code",
   "execution_count": 16,
   "metadata": {},
   "outputs": [],
   "source": [
    "from IPython.display import HTML, display\n",
    "\n",
    "import statsmodels.api as sm\n",
    "from statsmodels.sandbox.regression.predstd import wls_prediction_std\n",
    "\n",
    "from scipy import stats\n",
    "\n",
    "import matplotlib.pyplot as plt\n",
    "import seaborn as sns\n",
    "\n",
    "sns.set_style(\"darkgrid\")\n",
    "\n",
    "import pandas as pd"
   ]
  },
  {
   "cell_type": "code",
   "execution_count": 17,
   "metadata": {},
   "outputs": [
    {
     "data": {
      "text/html": [
       "<div>\n",
       "<style scoped>\n",
       "    .dataframe tbody tr th:only-of-type {\n",
       "        vertical-align: middle;\n",
       "    }\n",
       "\n",
       "    .dataframe tbody tr th {\n",
       "        vertical-align: top;\n",
       "    }\n",
       "\n",
       "    .dataframe thead th {\n",
       "        text-align: right;\n",
       "    }\n",
       "</style>\n",
       "<table border=\"1\" class=\"dataframe\">\n",
       "  <thead>\n",
       "    <tr style=\"text-align: right;\">\n",
       "      <th></th>\n",
       "      <th>Obs</th>\n",
       "      <th>TV</th>\n",
       "      <th>radio</th>\n",
       "      <th>newspaper</th>\n",
       "      <th>sales</th>\n",
       "      <th>hhg</th>\n",
       "      <th>radioH</th>\n",
       "    </tr>\n",
       "  </thead>\n",
       "  <tbody>\n",
       "    <tr>\n",
       "      <th>0</th>\n",
       "      <td>1</td>\n",
       "      <td>230.1</td>\n",
       "      <td>37.8</td>\n",
       "      <td>69.2</td>\n",
       "      <td>22.1</td>\n",
       "      <td>67</td>\n",
       "      <td>1</td>\n",
       "    </tr>\n",
       "    <tr>\n",
       "      <th>1</th>\n",
       "      <td>2</td>\n",
       "      <td>44.5</td>\n",
       "      <td>39.3</td>\n",
       "      <td>45.1</td>\n",
       "      <td>10.4</td>\n",
       "      <td>67</td>\n",
       "      <td>1</td>\n",
       "    </tr>\n",
       "    <tr>\n",
       "      <th>2</th>\n",
       "      <td>3</td>\n",
       "      <td>17.2</td>\n",
       "      <td>45.9</td>\n",
       "      <td>69.3</td>\n",
       "      <td>9.3</td>\n",
       "      <td>37</td>\n",
       "      <td>1</td>\n",
       "    </tr>\n",
       "    <tr>\n",
       "      <th>3</th>\n",
       "      <td>4</td>\n",
       "      <td>151.5</td>\n",
       "      <td>41.3</td>\n",
       "      <td>58.5</td>\n",
       "      <td>18.5</td>\n",
       "      <td>57</td>\n",
       "      <td>1</td>\n",
       "    </tr>\n",
       "    <tr>\n",
       "      <th>4</th>\n",
       "      <td>5</td>\n",
       "      <td>180.8</td>\n",
       "      <td>10.8</td>\n",
       "      <td>58.4</td>\n",
       "      <td>12.9</td>\n",
       "      <td>15</td>\n",
       "      <td>0</td>\n",
       "    </tr>\n",
       "    <tr>\n",
       "      <th>...</th>\n",
       "      <td>...</td>\n",
       "      <td>...</td>\n",
       "      <td>...</td>\n",
       "      <td>...</td>\n",
       "      <td>...</td>\n",
       "      <td>...</td>\n",
       "      <td>...</td>\n",
       "    </tr>\n",
       "    <tr>\n",
       "      <th>195</th>\n",
       "      <td>196</td>\n",
       "      <td>38.2</td>\n",
       "      <td>3.7</td>\n",
       "      <td>13.8</td>\n",
       "      <td>7.6</td>\n",
       "      <td>16</td>\n",
       "      <td>0</td>\n",
       "    </tr>\n",
       "    <tr>\n",
       "      <th>196</th>\n",
       "      <td>197</td>\n",
       "      <td>94.2</td>\n",
       "      <td>4.9</td>\n",
       "      <td>8.1</td>\n",
       "      <td>9.7</td>\n",
       "      <td>36</td>\n",
       "      <td>0</td>\n",
       "    </tr>\n",
       "    <tr>\n",
       "      <th>197</th>\n",
       "      <td>198</td>\n",
       "      <td>177.0</td>\n",
       "      <td>9.3</td>\n",
       "      <td>6.4</td>\n",
       "      <td>12.8</td>\n",
       "      <td>29</td>\n",
       "      <td>0</td>\n",
       "    </tr>\n",
       "    <tr>\n",
       "      <th>198</th>\n",
       "      <td>199</td>\n",
       "      <td>283.6</td>\n",
       "      <td>42.0</td>\n",
       "      <td>66.2</td>\n",
       "      <td>25.5</td>\n",
       "      <td>29</td>\n",
       "      <td>1</td>\n",
       "    </tr>\n",
       "    <tr>\n",
       "      <th>199</th>\n",
       "      <td>200</td>\n",
       "      <td>232.1</td>\n",
       "      <td>8.6</td>\n",
       "      <td>8.7</td>\n",
       "      <td>13.4</td>\n",
       "      <td>45</td>\n",
       "      <td>0</td>\n",
       "    </tr>\n",
       "  </tbody>\n",
       "</table>\n",
       "<p>200 rows × 7 columns</p>\n",
       "</div>"
      ],
      "text/plain": [
       "     Obs     TV  radio  newspaper  sales  hhg  radioH\n",
       "0      1  230.1   37.8       69.2   22.1   67       1\n",
       "1      2   44.5   39.3       45.1   10.4   67       1\n",
       "2      3   17.2   45.9       69.3    9.3   37       1\n",
       "3      4  151.5   41.3       58.5   18.5   57       1\n",
       "4      5  180.8   10.8       58.4   12.9   15       0\n",
       "..   ...    ...    ...        ...    ...  ...     ...\n",
       "195  196   38.2    3.7       13.8    7.6   16       0\n",
       "196  197   94.2    4.9        8.1    9.7   36       0\n",
       "197  198  177.0    9.3        6.4   12.8   29       0\n",
       "198  199  283.6   42.0       66.2   25.5   29       1\n",
       "199  200  232.1    8.6        8.7   13.4   45       0\n",
       "\n",
       "[200 rows x 7 columns]"
      ]
     },
     "execution_count": 17,
     "metadata": {},
     "output_type": "execute_result"
    }
   ],
   "source": [
    "df = pd.read_csv(\"Advertising.csv\")\n",
    "df"
   ]
  },
  {
   "cell_type": "code",
   "execution_count": 24,
   "metadata": {},
   "outputs": [
    {
     "name": "stdout",
     "output_type": "stream",
     "text": [
      "Sample Size: 200\n",
      " \n",
      "Sales Mean: 14.0225\n",
      "Sales Median: 12.9\n",
      "Sales Std Dev: 5.217456565710478\n",
      " \n",
      "Newspaper Mean: 30.553999999999995\n",
      "Newspaper Median: 25.75\n",
      "Newspaper Std Dev: 21.778620838522826\n"
     ]
    },
    {
     "data": {
      "image/png": "[encoded data removed]",
      "text/plain": [
       "<Figure size 432x288 with 1 Axes>"
      ]
     },
     "metadata": {},
     "output_type": "display_data"
    }
   ],
   "source": [
    "print(\"Sample Size:\", len(df))\n",
    "\n",
    "print(\" \")\n",
    "\n",
    "print(\"Sales Mean:\", df[\"sales\"].mean())\n",
    "print(\"Sales Median:\", df[\"sales\"].median())\n",
    "print(\"Sales Std Dev:\", df[\"sales\"].std())\n",
    "\n",
    "print(\" \")\n",
    "\n",
    "print(\"Newspaper Mean:\", df[\"newspaper\"].mean())\n",
    "print(\"Newspaper Median:\", df[\"newspaper\"].median())\n",
    "print(\"Newspaper Std Dev:\", df[\"newspaper\"].std())\n",
    "\n",
    "sales_news_plot = df.plot.scatter(x=\"newspaper\", y=\"sales\", c=\"DarkBlue\")\n",
    "# Doesn't seem like a lot of relationships"
   ]
  },
  {
   "cell_type": "code",
   "execution_count": 25,
   "metadata": {},
   "outputs": [
    {
     "name": "stdout",
     "output_type": "stream",
     "text": [
      "                            OLS Regression Results                            \n",
      "==============================================================================\n",
      "Dep. Variable:                  sales   R-squared:                       0.052\n",
      "Model:                            OLS   Adj. R-squared:                  0.047\n",
      "Method:                 Least Squares   F-statistic:                     10.89\n",
      "Date:                Mon, 25 Jan 2021   Prob (F-statistic):            0.00115\n",
      "Time:                        22:53:29   Log-Likelihood:                -608.34\n",
      "No. Observations:                 200   AIC:                             1221.\n",
      "Df Residuals:                     198   BIC:                             1227.\n",
      "Df Model:                           1                                         \n",
      "Covariance Type:            nonrobust                                         \n",
      "==============================================================================\n",
      "                 coef    std err          t      P>|t|      [0.025      0.975]\n",
      "------------------------------------------------------------------------------\n",
      "const         12.3514      0.621     19.876      0.000      11.126      13.577\n",
      "newspaper      0.0547      0.017      3.300      0.001       0.022       0.087\n",
      "==============================================================================\n",
      "Omnibus:                        6.231   Durbin-Watson:                   1.983\n",
      "Prob(Omnibus):                  0.044   Jarque-Bera (JB):                5.483\n",
      "Skew:                           0.330   Prob(JB):                       0.0645\n",
      "Kurtosis:                       2.527   Cond. No.                         64.7\n",
      "==============================================================================\n",
      "\n",
      "Notes:\n",
      "[1] Standard Errors assume that the covariance matrix of the errors is correctly specified.\n"
     ]
    }
   ],
   "source": [
    "df = sm.add_constant(df)\n",
    "reg1 = sm.OLS(endog = df[\"sales\"], exog=df[[\"const\", \"newspaper\"]], missing=\"drop\")\n",
    "type(reg1)\n",
    "\n",
    "results = reg1.fit()\n",
    "type(results)\n",
    "\n",
    "print(results.summary())\n",
    "\n",
    "# R2 :(0.052) Very low\n",
    "\n",
    "# pvalue : (0.001) low. So  newspaper variable is significant\n",
    "\n",
    "# coef: (0.0547) # The newspaper's coefficient is positive. \n",
    "# In other words, when you advertise in the newspaper, sales are positively affected"
   ]
  },
  {
   "cell_type": "code",
   "execution_count": 26,
   "metadata": {},
   "outputs": [
    {
     "name": "stdout",
     "output_type": "stream",
     "text": [
      "Radio Mean:  23.264000000000006\n",
      "Radio Median:  22.9\n",
      "Radio Std Dev:  14.846809176168724\n"
     ]
    },
    {
     "data": {
      "image/png": "[encoded data removed]",
      "text/plain": [
       "<Figure size 432x288 with 1 Axes>"
      ]
     },
     "metadata": {},
     "output_type": "display_data"
    }
   ],
   "source": [
    "print(\"Radio Mean: \", df[\"radio\"].mean())\n",
    "print(\"Radio Median: \", df[\"radio\"].median())\n",
    "print(\"Radio Std Dev: \", df[\"radio\"].std())\n",
    "\n",
    "sales_radio_plot = df.plot.scatter(x=\"radio\", y=\"sales\", c=\"DarkBlue\")\n",
    "\n",
    "# Radio ad has a more serious effect on sales than newspaper."
   ]
  },
  {
   "cell_type": "code",
   "execution_count": 27,
   "metadata": {},
   "outputs": [
    {
     "name": "stdout",
     "output_type": "stream",
     "text": [
      "                            OLS Regression Results                            \n",
      "==============================================================================\n",
      "Dep. Variable:                  sales   R-squared:                       0.332\n",
      "Model:                            OLS   Adj. R-squared:                  0.329\n",
      "Method:                 Least Squares   F-statistic:                     98.42\n",
      "Date:                Mon, 25 Jan 2021   Prob (F-statistic):           4.35e-19\n",
      "Time:                        22:53:40   Log-Likelihood:                -573.34\n",
      "No. Observations:                 200   AIC:                             1151.\n",
      "Df Residuals:                     198   BIC:                             1157.\n",
      "Df Model:                           1                                         \n",
      "Covariance Type:            nonrobust                                         \n",
      "==============================================================================\n",
      "                 coef    std err          t      P>|t|      [0.025      0.975]\n",
      "------------------------------------------------------------------------------\n",
      "const          9.3116      0.563     16.542      0.000       8.202      10.422\n",
      "radio          0.2025      0.020      9.921      0.000       0.162       0.243\n",
      "==============================================================================\n",
      "Omnibus:                       19.358   Durbin-Watson:                   1.946\n",
      "Prob(Omnibus):                  0.000   Jarque-Bera (JB):               21.910\n",
      "Skew:                          -0.764   Prob(JB):                     1.75e-05\n",
      "Kurtosis:                       3.544   Cond. No.                         51.4\n",
      "==============================================================================\n",
      "\n",
      "Notes:\n",
      "[1] Standard Errors assume that the covariance matrix of the errors is correctly specified.\n"
     ]
    }
   ],
   "source": [
    "reg1 = sm.OLS(endog=df[\"sales\"], exog=df[[\"const\", \"radio\"]], missing=\"drop\")\n",
    "\n",
    "results = reg1.fit()\n",
    "print(results.summary())\n",
    "\n",
    "# R2: (0.332) Better than newspaper. So it is significant but not enough!\n",
    "# pvalue: (0.000) Sıgnıfıcant!\n",
    "# coef: (0.2025) Radio ad has a positive influence on sales!"
   ]
  },
  {
   "cell_type": "code",
   "execution_count": 29,
   "metadata": {},
   "outputs": [
    {
     "name": "stdout",
     "output_type": "stream",
     "text": [
      "TV Mean: 147.0425\n",
      "TV Median: 149.75\n",
      "TV Std Dev: 85.85423631490808\n"
     ]
    },
    {
     "data": {
      "image/png": "[encoded data removed]",
      "text/plain": [
       "<Figure size 432x288 with 1 Axes>"
      ]
     },
     "metadata": {},
     "output_type": "display_data"
    }
   ],
   "source": [
    "print(\"TV Mean:\", df[\"TV\"].mean())\n",
    "print(\"TV Median:\", df[\"TV\"].median())\n",
    "print(\"TV Std Dev:\", df[\"TV\"].std())\n",
    "\n",
    "sales_Tv_plot = df.plot.scatter(x=\"TV\", y=\"sales\", c=\"DarkBlue\") \n",
    "\n",
    "# I can create a better model with a nonlinear model. But right now I will create linearly and make comparisons"
   ]
  },
  {
   "cell_type": "code",
   "execution_count": 32,
   "metadata": {},
   "outputs": [
    {
     "name": "stdout",
     "output_type": "stream",
     "text": [
      "                            OLS Regression Results                            \n",
      "==============================================================================\n",
      "Dep. Variable:                  sales   R-squared:                       0.612\n",
      "Model:                            OLS   Adj. R-squared:                  0.610\n",
      "Method:                 Least Squares   F-statistic:                     312.1\n",
      "Date:                Mon, 25 Jan 2021   Prob (F-statistic):           1.47e-42\n",
      "Time:                        23:00:16   Log-Likelihood:                -519.05\n",
      "No. Observations:                 200   AIC:                             1042.\n",
      "Df Residuals:                     198   BIC:                             1049.\n",
      "Df Model:                           1                                         \n",
      "Covariance Type:            nonrobust                                         \n",
      "==============================================================================\n",
      "                 coef    std err          t      P>|t|      [0.025      0.975]\n",
      "------------------------------------------------------------------------------\n",
      "const          7.0326      0.458     15.360      0.000       6.130       7.935\n",
      "TV             0.0475      0.003     17.668      0.000       0.042       0.053\n",
      "==============================================================================\n",
      "Omnibus:                        0.531   Durbin-Watson:                   1.935\n",
      "Prob(Omnibus):                  0.767   Jarque-Bera (JB):                0.669\n",
      "Skew:                          -0.089   Prob(JB):                        0.716\n",
      "Kurtosis:                       2.779   Cond. No.                         338.\n",
      "==============================================================================\n",
      "\n",
      "Notes:\n",
      "[1] Standard Errors assume that the covariance matrix of the errors is correctly specified.\n"
     ]
    }
   ],
   "source": [
    "reg1 = sm.OLS(endog=df[\"sales\"], exog=df[[\"const\", \"TV\"]], missing=\"drop\")\n",
    "\n",
    "results = reg1.fit()\n",
    "print(results.summary())\n",
    "\n",
    "# R2: (0.612) Not good enough! But better than others!\n",
    "# pvalue: (0.00) Sıgnıfıcant!\n",
    "# coef: (0.0475) Tv ads has positive influence on sales! "
   ]
  },
  {
   "cell_type": "code",
   "execution_count": null,
   "metadata": {},
   "outputs": [],
   "source": [
    "# There is a strange result. Rado(coef) = 0.2025 TV(coef) = 0.04\n",
    "# Is the radio more important? NO:)\n",
    "\n",
    "# 1) May have different metrics 2) It may be related to the investments made \n",
    "# I can't look at this model and say anything for sure!!\n",
    "    "
   ]
  },
  {
   "cell_type": "code",
   "execution_count": 34,
   "metadata": {},
   "outputs": [
    {
     "name": "stdout",
     "output_type": "stream",
     "text": [
      "                            OLS Regression Results                            \n",
      "==============================================================================\n",
      "Dep. Variable:                  sales   R-squared:                       0.897\n",
      "Model:                            OLS   Adj. R-squared:                  0.896\n",
      "Method:                 Least Squares   F-statistic:                     570.3\n",
      "Date:                Mon, 25 Jan 2021   Prob (F-statistic):           1.58e-96\n",
      "Time:                        23:10:47   Log-Likelihood:                -386.18\n",
      "No. Observations:                 200   AIC:                             780.4\n",
      "Df Residuals:                     196   BIC:                             793.6\n",
      "Df Model:                           3                                         \n",
      "Covariance Type:            nonrobust                                         \n",
      "==============================================================================\n",
      "                 coef    std err          t      P>|t|      [0.025      0.975]\n",
      "------------------------------------------------------------------------------\n",
      "const          2.9389      0.312      9.422      0.000       2.324       3.554\n",
      "TV             0.0458      0.001     32.809      0.000       0.043       0.049\n",
      "radio          0.1885      0.009     21.893      0.000       0.172       0.206\n",
      "newspaper     -0.0010      0.006     -0.177      0.860      -0.013       0.011\n",
      "==============================================================================\n",
      "Omnibus:                       60.414   Durbin-Watson:                   2.084\n",
      "Prob(Omnibus):                  0.000   Jarque-Bera (JB):              151.241\n",
      "Skew:                          -1.327   Prob(JB):                     1.44e-33\n",
      "Kurtosis:                       6.332   Cond. No.                         454.\n",
      "==============================================================================\n",
      "\n",
      "Notes:\n",
      "[1] Standard Errors assume that the covariance matrix of the errors is correctly specified.\n"
     ]
    }
   ],
   "source": [
    "reg1 = sm.OLS(endog=df[\"sales\"], exog=df[[\"const\", \"TV\", \"radio\", \"newspaper\"]], missing=\"drop\")\n",
    "\n",
    "results = reg1.fit()\n",
    "print(results.summary())\n",
    "\n",
    "# R2: (0.897) I approached the value I wanted.\n",
    "# pvalue: TV = 0, Radio = 0, newspaper = 0.860\n",
    "# coef (newspaper) = -0.0010 \n",
    "\n",
    "# Why did the newspaper significant, but now not so?\n",
    "# If you don't put other variables in the model, it just explains by the newspaper.\n",
    "\n",
    "# What is our model doing?\n",
    "# Actually, the effect of the newspaper is not negative. My Data made such a correction to fit the average better"
   ]
  },
  {
   "cell_type": "code",
   "execution_count": 35,
   "metadata": {},
   "outputs": [
    {
     "name": "stdout",
     "output_type": "stream",
     "text": [
      "HHG Mean: 48.62\n",
      "HHG Medin: 48.0\n",
      "HHG Std Dev: 27.59844143877053\n"
     ]
    },
    {
     "data": {
      "image/png": "[encoded data removed]",
      "text/plain": [
       "<Figure size 432x288 with 1 Axes>"
      ]
     },
     "metadata": {},
     "output_type": "display_data"
    }
   ],
   "source": [
    "# Now let's look at the hhg data that has no correlation with sales\n",
    "print(\"HHG Mean:\", df[\"hhg\"].mean())\n",
    "print(\"HHG Medin:\", df[\"hhg\"].median())\n",
    "print(\"HHG Std Dev:\", df[\"hhg\"].std())\n",
    "\n",
    "sales_hhg_plot = df.plot.scatter(x=\"hhg\", y=\"sales\", c=\"DarkBlue\")"
   ]
  },
  {
   "cell_type": "code",
   "execution_count": 36,
   "metadata": {},
   "outputs": [
    {
     "name": "stdout",
     "output_type": "stream",
     "text": [
      "                            OLS Regression Results                            \n",
      "==============================================================================\n",
      "Dep. Variable:                  sales   R-squared:                       0.000\n",
      "Model:                            OLS   Adj. R-squared:                 -0.005\n",
      "Method:                 Least Squares   F-statistic:                   0.03023\n",
      "Date:                Mon, 25 Jan 2021   Prob (F-statistic):              0.862\n",
      "Time:                        23:21:01   Log-Likelihood:                -613.67\n",
      "No. Observations:                 200   AIC:                             1231.\n",
      "Df Residuals:                     198   BIC:                             1238.\n",
      "Df Model:                           1                                         \n",
      "Covariance Type:            nonrobust                                         \n",
      "==============================================================================\n",
      "                 coef    std err          t      P>|t|      [0.025      0.975]\n",
      "------------------------------------------------------------------------------\n",
      "const         13.9089      0.751     18.530      0.000      12.429      15.389\n",
      "hhg            0.0023      0.013      0.174      0.862      -0.024       0.029\n",
      "==============================================================================\n",
      "Omnibus:                        7.368   Durbin-Watson:                   1.969\n",
      "Prob(Omnibus):                  0.025   Jarque-Bera (JB):                7.034\n",
      "Skew:                           0.407   Prob(JB):                       0.0297\n",
      "Kurtosis:                       2.575   Cond. No.                         113.\n",
      "==============================================================================\n",
      "\n",
      "Notes:\n",
      "[1] Standard Errors assume that the covariance matrix of the errors is correctly specified.\n"
     ]
    }
   ],
   "source": [
    "reg1 = sm.OLS(endog=df[\"sales\"], exog=df[[\"const\", \"hhg\"]], missing=\"drop\")\n",
    "\n",
    "results = reg1.fit()\n",
    "print(results.summary())\n",
    "\n",
    "# R2: 0 \n",
    "# pvalue: 0.862\n",
    "# coef: 0.0023 # Actually it should come to 0. Trying to fit the available data somehow"
   ]
  },
  {
   "cell_type": "code",
   "execution_count": 37,
   "metadata": {},
   "outputs": [
    {
     "name": "stdout",
     "output_type": "stream",
     "text": [
      "                            OLS Regression Results                            \n",
      "==============================================================================\n",
      "Dep. Variable:                  sales   R-squared:                       0.898\n",
      "Model:                            OLS   Adj. R-squared:                  0.895\n",
      "Method:                 Least Squares   F-statistic:                     426.9\n",
      "Date:                Mon, 25 Jan 2021   Prob (F-statistic):           3.07e-95\n",
      "Time:                        23:37:37   Log-Likelihood:                -385.89\n",
      "No. Observations:                 200   AIC:                             781.8\n",
      "Df Residuals:                     195   BIC:                             798.3\n",
      "Df Model:                           4                                         \n",
      "Covariance Type:            nonrobust                                         \n",
      "==============================================================================\n",
      "                 coef    std err          t      P>|t|      [0.025      0.975]\n",
      "------------------------------------------------------------------------------\n",
      "const          2.7748      0.380      7.299      0.000       2.025       3.524\n",
      "newspaper     -0.0008      0.006     -0.136      0.892      -0.012       0.011\n",
      "radio          0.1882      0.009     21.813      0.000       0.171       0.205\n",
      "TV             0.0458      0.001     32.782      0.000       0.043       0.049\n",
      "hhg            0.0033      0.004      0.757      0.450      -0.005       0.012\n",
      "==============================================================================\n",
      "Omnibus:                       57.508   Durbin-Watson:                   2.085\n",
      "Prob(Omnibus):                  0.000   Jarque-Bera (JB):              135.490\n",
      "Skew:                          -1.290   Prob(JB):                     3.79e-30\n",
      "Kurtosis:                       6.099   Cond. No.                         570.\n",
      "==============================================================================\n",
      "\n",
      "Notes:\n",
      "[1] Standard Errors assume that the covariance matrix of the errors is correctly specified.\n"
     ]
    }
   ],
   "source": [
    "# Let's add hhg to the big model\n",
    "# How will my irrelevant variable behave in this model?\n",
    "\n",
    "reg1 = sm.OLS(endog=df[\"sales\"], exog=df[[\"const\",\"newspaper\", \"radio\", \"TV\", \"hhg\"]], missing=\"drop\")\n",
    "\n",
    "results = reg1.fit()\n",
    "print(results.summary())\n",
    "\n",
    "# R2 = 0.898   R2(original) = 0.897 ??????\n",
    "# NOTE: That's the problem with R2!\n",
    "# If you add variables regardless of whether they are relevant or irrelevant to the model, r2 will improve.\n",
    "# We use Adjusted R2 instead of R2\n",
    "\n",
    "# AdjR2: 0.895    adjR2(original): 0.896\n",
    "\n",
    "# hhg pvalue = 0.45 # As high as I expected.. So this is not Signifcant."
   ]
  },
  {
   "cell_type": "code",
   "execution_count": 39,
   "metadata": {},
   "outputs": [
    {
     "name": "stdout",
     "output_type": "stream",
     "text": [
      "                            OLS Regression Results                            \n",
      "==============================================================================\n",
      "Dep. Variable:                  sales   R-squared:                       0.897\n",
      "Model:                            OLS   Adj. R-squared:                  0.896\n",
      "Method:                 Least Squares   F-statistic:                     859.6\n",
      "Date:                Mon, 25 Jan 2021   Prob (F-statistic):           4.83e-98\n",
      "Time:                        23:47:07   Log-Likelihood:                -386.20\n",
      "No. Observations:                 200   AIC:                             778.4\n",
      "Df Residuals:                     197   BIC:                             788.3\n",
      "Df Model:                           2                                         \n",
      "Covariance Type:            nonrobust                                         \n",
      "==============================================================================\n",
      "                 coef    std err          t      P>|t|      [0.025      0.975]\n",
      "------------------------------------------------------------------------------\n",
      "const          2.9211      0.294      9.919      0.000       2.340       3.502\n",
      "TV             0.0458      0.001     32.909      0.000       0.043       0.048\n",
      "radio          0.1880      0.008     23.382      0.000       0.172       0.204\n",
      "==============================================================================\n",
      "Omnibus:                       60.022   Durbin-Watson:                   2.081\n",
      "Prob(Omnibus):                  0.000   Jarque-Bera (JB):              148.679\n",
      "Skew:                          -1.323   Prob(JB):                     5.19e-33\n",
      "Kurtosis:                       6.292   Cond. No.                         425.\n",
      "==============================================================================\n",
      "\n",
      "Notes:\n",
      "[1] Standard Errors assume that the covariance matrix of the errors is correctly specified.\n"
     ]
    }
   ],
   "source": [
    "# Model I should use considering these comments;\n",
    "reg1 = sm.OLS(endog=df[\"sales\"], exog=df[[\"const\", \"TV\",\"radio\"]])\n",
    "\n",
    "results = reg1.fit()\n",
    "print(results.summary())\n",
    "\n",
    "# Fstatistic: 859.6   -----> The model itself significant!"
   ]
  },
  {
   "cell_type": "code",
   "execution_count": 48,
   "metadata": {},
   "outputs": [
    {
     "data": {
      "image/png": "[encoded data removed]",
      "text/plain": [
       "<Figure size 432x288 with 1 Axes>"
      ]
     },
     "metadata": {},
     "output_type": "display_data"
    }
   ],
   "source": [
    "# radio > 23 --> radioH = 1 (else = 0)\n",
    "# Let's compare continuous and discrete data for this model.\n",
    "\n",
    "sales_radioh_plot = df.plot.scatter(x=\"radioH\", y=\"sales\", c=\"DarkBlue\")"
   ]
  },
  {
   "cell_type": "code",
   "execution_count": 50,
   "metadata": {},
   "outputs": [
    {
     "name": "stdout",
     "output_type": "stream",
     "text": [
      "                            OLS Regression Results                            \n",
      "==============================================================================\n",
      "Dep. Variable:                  sales   R-squared:                       0.246\n",
      "Model:                            OLS   Adj. R-squared:                  0.242\n",
      "Method:                 Least Squares   F-statistic:                     64.68\n",
      "Date:                Mon, 25 Jan 2021   Prob (F-statistic):           7.90e-14\n",
      "Time:                        23:57:39   Log-Likelihood:                -585.42\n",
      "No. Observations:                 200   AIC:                             1175.\n",
      "Df Residuals:                     198   BIC:                             1181.\n",
      "Df Model:                           1                                         \n",
      "Covariance Type:            nonrobust                                         \n",
      "==============================================================================\n",
      "                 coef    std err          t      P>|t|      [0.025      0.975]\n",
      "------------------------------------------------------------------------------\n",
      "const         11.4400      0.454     25.191      0.000      10.544      12.336\n",
      "radioH         5.1650      0.642      8.042      0.000       3.899       6.431\n",
      "==============================================================================\n",
      "Omnibus:                        5.179   Durbin-Watson:                   1.955\n",
      "Prob(Omnibus):                  0.075   Jarque-Bera (JB):                4.885\n",
      "Skew:                          -0.375   Prob(JB):                       0.0870\n",
      "Kurtosis:                       3.150   Cond. No.                         2.62\n",
      "==============================================================================\n",
      "\n",
      "Notes:\n",
      "[1] Standard Errors assume that the covariance matrix of the errors is correctly specified.\n"
     ]
    }
   ],
   "source": [
    "reg1 = sm.OLS(endog=df[\"sales\"], exog=df[[\"const\", \"radioH\"]])\n",
    "\n",
    "results = reg1.fit()\n",
    "print(results.summary())\n",
    "\n",
    "# Discrete data for this model negatively impacted my learning!"
   ]
  }
 ],
 "metadata": {
  "kernelspec": {
   "display_name": "Python 3",
   "language": "python",
   "name": "python3"
  },
  "language_info": {
   "codemirror_mode": {
    "name": "ipython",
    "version": 3
   },
   "file_extension": ".py",
   "mimetype": "text/x-python",
   "name": "python",
   "nbconvert_exporter": "python",
   "pygments_lexer": "ipython3",
   "version": "3.8.5"
  }
 },
 "nbformat": 4,
 "nbformat_minor": 4
}
