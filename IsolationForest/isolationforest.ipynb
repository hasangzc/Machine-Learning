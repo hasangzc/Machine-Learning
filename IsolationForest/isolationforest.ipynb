{
 "cells": [
  {
   "cell_type": "code",
   "execution_count": 1,
   "metadata": {},
   "outputs": [],
   "source": [
    "import pandas as pd\n",
    "import numpy as np\n",
    "import matplotlib.pyplot as plt\n",
    "from pylab import savefig\n",
    "from sklearn.ensemble import IsolationForest"
   ]
  },
  {
   "cell_type": "code",
   "execution_count": 16,
   "metadata": {},
   "outputs": [
    {
     "data": {
      "text/html": [
       "<div>\n",
       "<style scoped>\n",
       "    .dataframe tbody tr th:only-of-type {\n",
       "        vertical-align: middle;\n",
       "    }\n",
       "\n",
       "    .dataframe tbody tr th {\n",
       "        vertical-align: top;\n",
       "    }\n",
       "\n",
       "    .dataframe thead th {\n",
       "        text-align: right;\n",
       "    }\n",
       "</style>\n",
       "<table border=\"1\" class=\"dataframe\">\n",
       "  <thead>\n",
       "    <tr style=\"text-align: right;\">\n",
       "      <th></th>\n",
       "      <th>x1</th>\n",
       "      <th>x2</th>\n",
       "    </tr>\n",
       "  </thead>\n",
       "  <tbody>\n",
       "    <tr>\n",
       "      <th>0</th>\n",
       "      <td>3.099343</td>\n",
       "      <td>2.972347</td>\n",
       "    </tr>\n",
       "    <tr>\n",
       "      <th>1</th>\n",
       "      <td>3.129538</td>\n",
       "      <td>3.304606</td>\n",
       "    </tr>\n",
       "    <tr>\n",
       "      <th>2</th>\n",
       "      <td>2.953169</td>\n",
       "      <td>2.953173</td>\n",
       "    </tr>\n",
       "    <tr>\n",
       "      <th>3</th>\n",
       "      <td>3.315843</td>\n",
       "      <td>3.153487</td>\n",
       "    </tr>\n",
       "    <tr>\n",
       "      <th>4</th>\n",
       "      <td>2.906105</td>\n",
       "      <td>3.108512</td>\n",
       "    </tr>\n",
       "  </tbody>\n",
       "</table>\n",
       "</div>"
      ],
      "text/plain": [
       "         x1        x2\n",
       "0  3.099343  2.972347\n",
       "1  3.129538  3.304606\n",
       "2  2.953169  2.953173\n",
       "3  3.315843  3.153487\n",
       "4  2.906105  3.108512"
      ]
     },
     "execution_count": 16,
     "metadata": {},
     "output_type": "execute_result"
    }
   ],
   "source": [
    "# Create Traning Data\n",
    "rg = np.random.RandomState(42)\n",
    "x_train = 0.2*rg.randn(1000, 2)\n",
    "x_train = np.r_[x_train + 3, x_train]\n",
    "x_train =pd.DataFrame(x_train, columns=[\"x1\", \"x2\"])\n",
    "x_train.head()"
   ]
  },
  {
   "cell_type": "code",
   "execution_count": 24,
   "metadata": {},
   "outputs": [
    {
     "data": {
      "text/html": [
       "<div>\n",
       "<style scoped>\n",
       "    .dataframe tbody tr th:only-of-type {\n",
       "        vertical-align: middle;\n",
       "    }\n",
       "\n",
       "    .dataframe tbody tr th {\n",
       "        vertical-align: top;\n",
       "    }\n",
       "\n",
       "    .dataframe thead th {\n",
       "        text-align: right;\n",
       "    }\n",
       "</style>\n",
       "<table border=\"1\" class=\"dataframe\">\n",
       "  <thead>\n",
       "    <tr style=\"text-align: right;\">\n",
       "      <th></th>\n",
       "      <th>x1</th>\n",
       "      <th>x2</th>\n",
       "    </tr>\n",
       "  </thead>\n",
       "  <tbody>\n",
       "    <tr>\n",
       "      <th>0</th>\n",
       "      <td>3.036767</td>\n",
       "      <td>3.538607</td>\n",
       "    </tr>\n",
       "    <tr>\n",
       "      <th>1</th>\n",
       "      <td>3.069960</td>\n",
       "      <td>2.799189</td>\n",
       "    </tr>\n",
       "    <tr>\n",
       "      <th>2</th>\n",
       "      <td>2.980907</td>\n",
       "      <td>2.644751</td>\n",
       "    </tr>\n",
       "    <tr>\n",
       "      <th>3</th>\n",
       "      <td>2.983880</td>\n",
       "      <td>2.833389</td>\n",
       "    </tr>\n",
       "    <tr>\n",
       "      <th>4</th>\n",
       "      <td>3.183078</td>\n",
       "      <td>2.890092</td>\n",
       "    </tr>\n",
       "  </tbody>\n",
       "</table>\n",
       "</div>"
      ],
      "text/plain": [
       "         x1        x2\n",
       "0  3.036767  3.538607\n",
       "1  3.069960  2.799189\n",
       "2  2.980907  2.644751\n",
       "3  2.983880  2.833389\n",
       "4  3.183078  2.890092"
      ]
     },
     "execution_count": 24,
     "metadata": {},
     "output_type": "execute_result"
    }
   ],
   "source": [
    "# New normal observations\n",
    "x_test = 0.2*rg.randn(200, 2)\n",
    "x_test = np.r_[x_test+3, x_test]\n",
    "x_test = pd.DataFrame(x_test, columns=[\"x1\", \"x2\"])\n",
    "x_test.head()"
   ]
  },
  {
   "cell_type": "code",
   "execution_count": 28,
   "metadata": {},
   "outputs": [
    {
     "name": "stdout",
     "output_type": "stream",
     "text": [
      "Train Shape: (2000, 2)\n",
      "Test Shape: (400, 2)\n"
     ]
    }
   ],
   "source": [
    "print(\"Train Shape:\", x_train.shape)\n",
    "print(\"Test Shape:\", x_test.shape)"
   ]
  },
  {
   "cell_type": "code",
   "execution_count": 33,
   "metadata": {},
   "outputs": [
    {
     "name": "stdout",
     "output_type": "stream",
     "text": [
      "         x1        x2\n",
      "0  1.520066  2.470159\n",
      "1  3.995671  3.824993\n",
      "2  4.198539 -0.642296\n",
      "3  3.152303 -0.160076\n",
      "4  1.494911  2.291530\n",
      "Outliers Shape: (50, 2)\n"
     ]
    }
   ],
   "source": [
    "# Outliers\n",
    "x_outliers = rg.uniform(low=-1, high=5, size=(50 ,2))\n",
    "x_outliers = pd.DataFrame(x_outliers, columns=[\"x1\", \"x2\"])\n",
    "print(x_outliers.head())\n",
    "print(\"Outliers Shape:\", x_outliers.shape)"
   ]
  },
  {
   "cell_type": "code",
   "execution_count": 48,
   "metadata": {},
   "outputs": [
    {
     "data": {
      "image/png": "[encoded data removed]",
      "text/plain": [
       "<Figure size 432x288 with 1 Axes>"
      ]
     },
     "metadata": {
      "needs_background": "light"
     },
     "output_type": "display_data"
    }
   ],
   "source": [
    "# Plot generated data\n",
    "plt.title(\"Data\")\n",
    "p1 = plt.scatter(x_train.x1, x_train.x2, c=\"white\", s=20*4, edgecolors=\"k\")\n",
    "p2 = plt.scatter(x_test.x1, x_test.x2, c=\"green\", s=20*4, edgecolors=\"k\")\n",
    "p3 = plt.scatter(x_outliers.x1, x_outliers.x2, c=\"red\", s=20*4,  edgecolors=\"k\")\n",
    "plt.axis(\"tight\")\n",
    "plt.xlim((-2 ,5))\n",
    "plt.ylim((-2 ,5))\n",
    "plt.legend([p1, p2, p3], [\"Training obs\", \"New regular obs\", \"new abnormal\"], loc=\"best\")\n",
    "plt.savefig(\"GeneratedData.png\", dpi=300)\n",
    "plt.show()"
   ]
  },
  {
   "cell_type": "code",
   "execution_count": 66,
   "metadata": {},
   "outputs": [
    {
     "name": "stdout",
     "output_type": "stream",
     "text": [
      "Accuracy: 0.565\n",
      "Accuracy: 0.98\n"
     ]
    }
   ],
   "source": [
    "# Isolation Forest\n",
    "\n",
    "# Train\n",
    "clsfr = IsolationForest(max_samples=100, random_state=rg)\n",
    "clsfr.fit(x_train)\n",
    "\n",
    "# Predict\n",
    "y_pred_train = clsfr.predict(x_train)\n",
    "y_pred_test = clsfr.predict(x_test)\n",
    "y_pred_outlier = clsfr.predict(x_outliers)\n",
    "\n",
    "# y_pred_test.shape[0] = 400\n",
    "# list(y_pred_test).count(1)  = 239\n",
    "print(\"Accuracy:\", list(y_pred_test).count(1) / y_pred_test.shape[0])\n",
    "\n",
    "# y_pred_outlier.shape[0] = 50\n",
    "# list(y_pred_outlier).count(-1) = 49\n",
    "print(\"Accuracy:\", list(y_pred_outlier).count(-1) / y_pred_outlier.shape[0])"
   ]
  }
 ],
 "metadata": {
  "kernelspec": {
   "display_name": "Python 3",
   "language": "python",
   "name": "python3"
  },
  "language_info": {
   "codemirror_mode": {
    "name": "ipython",
    "version": 3
   },
   "file_extension": ".py",
   "mimetype": "text/x-python",
   "name": "python",
   "nbconvert_exporter": "python",
   "pygments_lexer": "ipython3",
   "version": "3.8.5"
  }
 },
 "nbformat": 4,
 "nbformat_minor": 4
}
