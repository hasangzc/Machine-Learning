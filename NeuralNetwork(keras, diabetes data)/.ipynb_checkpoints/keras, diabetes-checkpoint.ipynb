{
 "cells": [
  {
   "cell_type": "code",
   "execution_count": 1,
   "metadata": {},
   "outputs": [],
   "source": [
    "import pandas as pd\n",
    "import numpy as np\n",
    "import matplotlib.pyplot as plt\n",
    "import seaborn\n",
    "from sklearn.ensemble import RandomForestClassifier\n",
    "from sklearn.metrics import roc_auc_score\n",
    "from sklearn.metrics import confusion_matrix\n",
    "from sklearn.metrics import accuracy_score\n",
    "from sklearn.metrics import recall_score\n",
    "from sklearn.metrics import precision_score\n",
    "from sklearn.metrics import f1_score\n",
    "from sklearn.model_selection import train_test_split\n",
    "\n",
    "from keras import models\n",
    "from keras import layers\n",
    "from keras import optimizers\n",
    "import tensorflow\n",
    "\n",
    "from numpy.random import seed\n",
    "tensorflow.random.set_seed(2)"
   ]
  },
  {
   "cell_type": "code",
   "execution_count": 2,
   "metadata": {},
   "outputs": [
    {
     "data": {
      "text/plain": [
       "Index(['Pregnancies', 'Glucose', 'BloodPressure', 'SkinThickness', 'Insulin',\n",
       "       'BMI', 'DiabetesPedigreeFunction', 'Age', 'Outcome'],\n",
       "      dtype='object')"
      ]
     },
     "execution_count": 2,
     "metadata": {},
     "output_type": "execute_result"
    }
   ],
   "source": [
    "data = pd.read_csv(\"diabetes.csv\")\n",
    "data.columns"
   ]
  },
  {
   "cell_type": "code",
   "execution_count": 3,
   "metadata": {},
   "outputs": [],
   "source": [
    "feature_cols = ['Pregnancies', 'Insulin', 'BMI', 'Age','Glucose','BloodPressure','DiabetesPedigreeFunction']\n",
    "x = data[feature_cols]\n",
    "y = data.Outcome"
   ]
  },
  {
   "cell_type": "code",
   "execution_count": 4,
   "metadata": {},
   "outputs": [],
   "source": [
    "x_train, x_test, y_train, y_test = train_test_split(x, y, test_size=0.3 ,random_state=1)"
   ]
  },
  {
   "cell_type": "code",
   "execution_count": 7,
   "metadata": {},
   "outputs": [],
   "source": [
    "from sklearn.preprocessing import StandardScaler\n",
    "scaler = StandardScaler()\n",
    "scaler.fit(x_train)\n",
    "x_train = scaler.transform(x_train)\n",
    "x_test = scaler.transform(x_test)"
   ]
  },
  {
   "cell_type": "code",
   "execution_count": 8,
   "metadata": {},
   "outputs": [
    {
     "name": "stdout",
     "output_type": "stream",
     "text": [
      "Epoch 1/20\n",
      "54/54 [==============================] - 0s 1ms/step - loss: 0.5483 - accuracy: 0.7354\n",
      "Epoch 2/20\n",
      "54/54 [==============================] - 0s 1ms/step - loss: 0.5057 - accuracy: 0.7328\n",
      "Epoch 3/20\n",
      "54/54 [==============================] - 0s 1ms/step - loss: 0.4686 - accuracy: 0.7686\n",
      "Epoch 4/20\n",
      "54/54 [==============================] - 0s 1ms/step - loss: 0.4558 - accuracy: 0.7769\n",
      "Epoch 5/20\n",
      "54/54 [==============================] - 0s 1ms/step - loss: 0.4514 - accuracy: 0.7975\n",
      "Epoch 6/20\n",
      "54/54 [==============================] - 0s 1ms/step - loss: 0.4570 - accuracy: 0.7706\n",
      "Epoch 7/20\n",
      "54/54 [==============================] - 0s 1ms/step - loss: 0.4743 - accuracy: 0.7729\n",
      "Epoch 8/20\n",
      "54/54 [==============================] - 0s 1ms/step - loss: 0.4287 - accuracy: 0.7850\n",
      "Epoch 9/20\n",
      "54/54 [==============================] - 0s 1ms/step - loss: 0.4622 - accuracy: 0.7903\n",
      "Epoch 10/20\n",
      "54/54 [==============================] - 0s 1ms/step - loss: 0.4440 - accuracy: 0.7740\n",
      "Epoch 11/20\n",
      "54/54 [==============================] - 0s 1ms/step - loss: 0.4187 - accuracy: 0.7933\n",
      "Epoch 12/20\n",
      "54/54 [==============================] - 0s 1ms/step - loss: 0.4268 - accuracy: 0.8093\n",
      "Epoch 13/20\n",
      "54/54 [==============================] - 0s 2ms/step - loss: 0.4569 - accuracy: 0.7923\n",
      "Epoch 14/20\n",
      "54/54 [==============================] - 0s 1ms/step - loss: 0.4438 - accuracy: 0.7843\n",
      "Epoch 15/20\n",
      "54/54 [==============================] - 0s 1ms/step - loss: 0.4206 - accuracy: 0.7953\n",
      "Epoch 16/20\n",
      "54/54 [==============================] - 0s 1ms/step - loss: 0.4184 - accuracy: 0.8121\n",
      "Epoch 17/20\n",
      "54/54 [==============================] - 0s 3ms/step - loss: 0.4345 - accuracy: 0.7856\n",
      "Epoch 18/20\n",
      "54/54 [==============================] - 0s 2ms/step - loss: 0.4051 - accuracy: 0.8227\n",
      "Epoch 19/20\n",
      "54/54 [==============================] - 0s 2ms/step - loss: 0.4230 - accuracy: 0.7984\n",
      "Epoch 20/20\n",
      "54/54 [==============================] - 0s 2ms/step - loss: 0.4033 - accuracy: 0.8184\n",
      "[[134  12]\n",
      " [ 31  54]]\n",
      "Accuracy: 0.8138528138528138\n",
      "Auc Score: 0.7765511684125704\n",
      "Auc Score Prob: 0.868815471394037\n",
      "Recall 0.6352941176470588\n",
      "Precission: 0.8181818181818182\n",
      "F1 Score: 0.7152317880794701\n"
     ]
    },
    {
     "name": "stderr",
     "output_type": "stream",
     "text": [
      "/home/hasan/code/jupyterenvironment/lib/python3.8/site-packages/tensorflow/python/keras/engine/sequential.py:450: UserWarning: `model.predict_classes()` is deprecated and will be removed after 2021-01-01. Please use instead:* `np.argmax(model.predict(x), axis=-1)`,   if your model does multi-class classification   (e.g. if it uses a `softmax` last-layer activation).* `(model.predict(x) > 0.5).astype(\"int32\")`,   if your model does binary classification   (e.g. if it uses a `sigmoid` last-layer activation).\n",
      "  warnings.warn('`model.predict_classes()` is deprecated and '\n"
     ]
    }
   ],
   "source": [
    "network = models.Sequential()\n",
    "network.add(layers.Dense(100, input_dim=7, activation=\"relu\"))\n",
    "network.add(layers.Dense(1, activation=\"sigmoid\"))\n",
    "\n",
    "opt = optimizers.Adam(learning_rate=0.01, beta_1=0.9, beta_2=0.999, epsilon=1e-07)\n",
    "network.compile(optimizer=opt, loss=\"binary_crossentropy\", metrics=[\"accuracy\"])\n",
    "\n",
    "network.fit(x_train, y_train, epochs=20, batch_size=10)\n",
    "\n",
    "nn_pred = network.predict_classes(x_test)\n",
    "nn_pred_prob = network.predict(x_test)\n",
    "\n",
    "print(confusion_matrix(y_test, nn_pred))\n",
    "print(\"Accuracy:\", accuracy_score(y_test, nn_pred))\n",
    "print(\"Auc Score:\", roc_auc_score(y_test, nn_pred))\n",
    "print(\"Auc Score Prob:\", roc_auc_score(y_test, nn_pred_prob))\n",
    "print(\"Recall\", recall_score(y_test, nn_pred))\n",
    "print(\"Precission:\", precision_score(y_test, nn_pred))\n",
    "print(\"F1 Score:\", f1_score(y_test, nn_pred))"
   ]
  }
 ],
 "metadata": {
  "kernelspec": {
   "display_name": "Python 3",
   "language": "python",
   "name": "python3"
  },
  "language_info": {
   "codemirror_mode": {
    "name": "ipython",
    "version": 3
   },
   "file_extension": ".py",
   "mimetype": "text/x-python",
   "name": "python",
   "nbconvert_exporter": "python",
   "pygments_lexer": "ipython3",
   "version": "3.8.5"
  }
 },
 "nbformat": 4,
 "nbformat_minor": 4
}
