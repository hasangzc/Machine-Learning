{
 "cells": [
  {
   "cell_type": "code",
   "execution_count": 2,
   "metadata": {},
   "outputs": [],
   "source": [
    "import pandas as pd\n",
    "import numpy as np\n",
    "import matplotlib.pyplot as plt\n",
    "import seaborn as sns\n",
    "from sklearn.model_selection import train_test_split\n",
    "from sklearn.metrics import confusion_matrix\n",
    "from sklearn.metrics import accuracy_score\n",
    "from sklearn.metrics import roc_auc_score\n",
    "from sklearn.metrics import recall_score\n",
    "from sklearn.metrics import precision_score\n",
    "from sklearn.metrics import f1_score\n",
    "from sklearn import svm"
   ]
  },
  {
   "cell_type": "code",
   "execution_count": null,
   "metadata": {},
   "outputs": [],
   "source": [
    "# old performances: Decision Tree ---> 0.649   Random Forest-----> 0.86"
   ]
  },
  {
   "cell_type": "code",
   "execution_count": 3,
   "metadata": {},
   "outputs": [
    {
     "data": {
      "text/plain": [
       "Index(['Pregnancies', 'Glucose', 'BloodPressure', 'SkinThickness', 'Insulin',\n",
       "       'BMI', 'DiabetesPedigreeFunction', 'Age', 'Outcome'],\n",
       "      dtype='object')"
      ]
     },
     "execution_count": 3,
     "metadata": {},
     "output_type": "execute_result"
    }
   ],
   "source": [
    "data = pd.read_csv(\"diabetes.csv\")\n",
    "data.columns"
   ]
  },
  {
   "cell_type": "code",
   "execution_count": 4,
   "metadata": {},
   "outputs": [],
   "source": [
    "feature_cols = ['Pregnancies', 'Insulin', 'BMI', 'Age','Glucose','BloodPressure','DiabetesPedigreeFunction']\n",
    "x = data[feature_cols]\n",
    "y = data.Outcome"
   ]
  },
  {
   "cell_type": "code",
   "execution_count": 5,
   "metadata": {},
   "outputs": [],
   "source": [
    "x_train, x_test, y_train, y_test = train_test_split(x, y, test_size=0.3 ,random_state=1)"
   ]
  },
  {
   "cell_type": "code",
   "execution_count": 6,
   "metadata": {},
   "outputs": [
    {
     "name": "stdout",
     "output_type": "stream",
     "text": [
      "[[133  13]\n",
      " [ 37  48]]\n",
      "Accuracy: 0.7835497835497836\n",
      "Auc Score: 0.7378323932312651\n",
      "Auc Score Prob: 0.865511684125705\n",
      "Recall 0.5647058823529412\n",
      "Precission: 0.7868852459016393\n",
      "F1 Score: 0.6575342465753424\n"
     ]
    }
   ],
   "source": [
    "svcf = svm.SVC(kernel=\"linear\", probability=True)\n",
    "svcf.fit(x_train, y_train)\n",
    "y_pred = svcf.predict(x_test)\n",
    "y_pred_prob = svcf.predict_proba(x_test)[:,1]\n",
    "print(confusion_matrix(y_test, y_pred))\n",
    "print(\"Accuracy:\", accuracy_score(y_test, y_pred))\n",
    "print(\"Auc Score:\", roc_auc_score(y_test, y_pred))\n",
    "print(\"Auc Score Prob:\", roc_auc_score(y_test, y_pred_prob))\n",
    "print(\"Recall\", recall_score(y_test, y_pred))\n",
    "print(\"Precission:\", precision_score(y_test, y_pred))\n",
    "print(\"F1 Score:\", f1_score(y_test, y_pred))"
   ]
  },
  {
   "cell_type": "code",
   "execution_count": 7,
   "metadata": {},
   "outputs": [
    {
     "name": "stdout",
     "output_type": "stream",
     "text": [
      "[[133  13]\n",
      " [ 36  49]]\n",
      "Accuracy: 0.7878787878787878\n",
      "Auc Score: 0.7437147461724416\n",
      "Auc Score Prob: 0.8642224012892828\n",
      "Recall 0.5764705882352941\n",
      "Precission: 0.7903225806451613\n",
      "F1 Score: 0.6666666666666666\n"
     ]
    }
   ],
   "source": [
    "svcf = svm.SVC(kernel=\"linear\", C=0.1, probability=True)\n",
    "svcf.fit(x_train, y_train)\n",
    "y_pred = svcf.predict(x_test)\n",
    "y_pred_prob = svcf.predict_proba(x_test)[:,1]\n",
    "print(confusion_matrix(y_test, y_pred))\n",
    "print(\"Accuracy:\", accuracy_score(y_test, y_pred))\n",
    "print(\"Auc Score:\", roc_auc_score(y_test, y_pred))\n",
    "print(\"Auc Score Prob:\", roc_auc_score(y_test, y_pred_prob))\n",
    "print(\"Recall\", recall_score(y_test, y_pred))\n",
    "print(\"Precission:\", precision_score(y_test, y_pred))\n",
    "print(\"F1 Score:\", f1_score(y_test, y_pred))"
   ]
  },
  {
   "cell_type": "code",
   "execution_count": 8,
   "metadata": {},
   "outputs": [
    {
     "name": "stdout",
     "output_type": "stream",
     "text": [
      "[[133  13]\n",
      " [ 36  49]]\n",
      "Accuracy: 0.7878787878787878\n",
      "Auc Score: 0.7437147461724416\n",
      "Auc Score Prob: 0.8662369057211925\n",
      "Recall 0.5764705882352941\n",
      "Precission: 0.7903225806451613\n",
      "F1 Score: 0.6666666666666666\n"
     ]
    }
   ],
   "source": [
    "svcf = svm.SVC(kernel=\"linear\", C=10, probability=True)\n",
    "svcf.fit(x_train, y_train)\n",
    "y_pred = svcf.predict(x_test)\n",
    "y_pred_prob = svcf.predict_proba(x_test)[:,1]\n",
    "print(confusion_matrix(y_test, y_pred))\n",
    "print(\"Accuracy:\", accuracy_score(y_test, y_pred))\n",
    "print(\"Auc Score:\", roc_auc_score(y_test, y_pred))\n",
    "print(\"Auc Score Prob:\", roc_auc_score(y_test, y_pred_prob))\n",
    "print(\"Recall\", recall_score(y_test, y_pred))\n",
    "print(\"Precission:\", precision_score(y_test, y_pred))\n",
    "print(\"F1 Score:\", f1_score(y_test, y_pred))"
   ]
  },
  {
   "cell_type": "code",
   "execution_count": 9,
   "metadata": {},
   "outputs": [
    {
     "name": "stdout",
     "output_type": "stream",
     "text": [
      "[[140   6]\n",
      " [ 43  42]]\n",
      "Accuracy: 0.7878787878787878\n",
      "Auc Score: 0.7265108783239324\n",
      "Auc Score Prob: 0.8586623690572119\n",
      "Recall 0.49411764705882355\n",
      "Precission: 0.875\n",
      "F1 Score: 0.631578947368421\n"
     ]
    }
   ],
   "source": [
    "svcf = svm.SVC(kernel=\"poly\", probability=True)\n",
    "svcf.fit(x_train, y_train)\n",
    "y_pred = svcf.predict(x_test)\n",
    "y_pred_prob = svcf.predict_proba(x_test)[:,1]\n",
    "print(confusion_matrix(y_test, y_pred))\n",
    "print(\"Accuracy:\", accuracy_score(y_test, y_pred))\n",
    "print(\"Auc Score:\", roc_auc_score(y_test, y_pred))\n",
    "print(\"Auc Score Prob:\", roc_auc_score(y_test, y_pred_prob))\n",
    "print(\"Recall\", recall_score(y_test, y_pred))\n",
    "print(\"Precission:\", precision_score(y_test, y_pred))\n",
    "print(\"F1 Score:\", f1_score(y_test, y_pred))"
   ]
  },
  {
   "cell_type": "code",
   "execution_count": 10,
   "metadata": {},
   "outputs": [
    {
     "name": "stdout",
     "output_type": "stream",
     "text": [
      "[[137   9]\n",
      " [ 41  44]]\n",
      "Accuracy: 0.7835497835497836\n",
      "Auc Score: 0.7280016116035455\n",
      "Auc Score Prob: 0.8507252215954875\n",
      "Recall 0.5176470588235295\n",
      "Precission: 0.8301886792452831\n",
      "F1 Score: 0.6376811594202898\n"
     ]
    }
   ],
   "source": [
    "svcf = svm.SVC(kernel=\"poly\", degree=2, probability=True)\n",
    "svcf.fit(x_train, y_train)\n",
    "y_pred = svcf.predict(x_test)\n",
    "y_pred_prob = svcf.predict_proba(x_test)[:,1]\n",
    "print(confusion_matrix(y_test, y_pred))\n",
    "print(\"Accuracy:\", accuracy_score(y_test, y_pred))\n",
    "print(\"Auc Score:\", roc_auc_score(y_test, y_pred))\n",
    "print(\"Auc Score Prob:\", roc_auc_score(y_test, y_pred_prob))\n",
    "print(\"Recall\", recall_score(y_test, y_pred))\n",
    "print(\"Precission:\", precision_score(y_test, y_pred))\n",
    "print(\"F1 Score:\", f1_score(y_test, y_pred))"
   ]
  },
  {
   "cell_type": "code",
   "execution_count": 11,
   "metadata": {},
   "outputs": [
    {
     "name": "stdout",
     "output_type": "stream",
     "text": [
      "[[133  13]\n",
      " [ 37  48]]\n",
      "Accuracy: 0.7835497835497836\n",
      "Auc Score: 0.7378323932312651\n",
      "Auc Score Prob: 0.865511684125705\n",
      "Recall 0.5647058823529412\n",
      "Precission: 0.7868852459016393\n",
      "F1 Score: 0.6575342465753424\n"
     ]
    }
   ],
   "source": [
    "svcf = svm.SVC(kernel=\"linear\", degree=5, probability=True)\n",
    "svcf.fit(x_train, y_train)\n",
    "y_pred = svcf.predict(x_test)\n",
    "y_pred_prob = svcf.predict_proba(x_test)[:,1]\n",
    "print(confusion_matrix(y_test, y_pred))\n",
    "print(\"Accuracy:\", accuracy_score(y_test, y_pred))\n",
    "print(\"Auc Score:\", roc_auc_score(y_test, y_pred))\n",
    "print(\"Auc Score Prob:\", roc_auc_score(y_test, y_pred_prob))\n",
    "print(\"Recall\", recall_score(y_test, y_pred))\n",
    "print(\"Precission:\", precision_score(y_test, y_pred))\n",
    "print(\"F1 Score:\", f1_score(y_test, y_pred))"
   ]
  },
  {
   "cell_type": "code",
   "execution_count": 12,
   "metadata": {},
   "outputs": [
    {
     "name": "stdout",
     "output_type": "stream",
     "text": [
      "[[138   8]\n",
      " [ 46  39]]\n",
      "Accuracy: 0.7662337662337663\n",
      "Auc Score: 0.7020145044319097\n",
      "Auc Score Prob: 0.8527800161160354\n",
      "Recall 0.4588235294117647\n",
      "Precission: 0.8297872340425532\n",
      "F1 Score: 0.5909090909090908\n"
     ]
    }
   ],
   "source": [
    "svcf = svm.SVC(kernel=\"rbf\", probability=True)\n",
    "svcf.fit(x_train, y_train)\n",
    "y_pred = svcf.predict(x_test)\n",
    "y_pred_prob = svcf.predict_proba(x_test)[:,1]\n",
    "print(confusion_matrix(y_test, y_pred))\n",
    "print(\"Accuracy:\", accuracy_score(y_test, y_pred))\n",
    "print(\"Auc Score:\", roc_auc_score(y_test, y_pred))\n",
    "print(\"Auc Score Prob:\", roc_auc_score(y_test, y_pred_prob))\n",
    "print(\"Recall\", recall_score(y_test, y_pred))\n",
    "print(\"Precission:\", precision_score(y_test, y_pred))\n",
    "print(\"F1 Score:\", f1_score(y_test, y_pred))"
   ]
  }
 ],
 "metadata": {
  "kernelspec": {
   "display_name": "Python 3",
   "language": "python",
   "name": "python3"
  },
  "language_info": {
   "codemirror_mode": {
    "name": "ipython",
    "version": 3
   },
   "file_extension": ".py",
   "mimetype": "text/x-python",
   "name": "python",
   "nbconvert_exporter": "python",
   "pygments_lexer": "ipython3",
   "version": "3.8.5"
  }
 },
 "nbformat": 4,
 "nbformat_minor": 4
}
